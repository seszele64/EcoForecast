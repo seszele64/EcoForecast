{
 "cells": [
  {
   "cell_type": "markdown",
   "metadata": {},
   "source": [
    "## Database"
   ]
  },
  {
   "cell_type": "code",
   "execution_count": 16,
   "metadata": {},
   "outputs": [],
   "source": [
    "import sqlite3\n",
    "from typing import List, Tuple, Optional\n",
    "\n",
    "# Constants\n",
    "DB_NAME = 'data/synop/synop.db'\n",
    "\n",
    "# Schemas\n",
    "WEATHER_SD_SCHEMA = '''\n",
    "CREATE TABLE IF NOT EXISTS WeatherSD (\n",
    "    Record_ID INTEGER PRIMARY KEY AUTOINCREMENT,\n",
    "    Station_ID INTEGER,\n",
    "    Date DATE,\n",
    "    Max_Daily_Temperature REAL,\n",
    "    Min_Daily_Temperature REAL,\n",
    "    Avg_Daily_Temperature REAL,\n",
    "    Total_Daily_Precipitation REAL,\n",
    "    Sunshine_Hours REAL,\n",
    "    Actinometry REAL,\n",
    "    Wind_Duration_Over_10m_s REAL,\n",
    "    FOREIGN KEY (Station_ID) REFERENCES Stations(Station_Code)\n",
    ");\n",
    "'''\n",
    "\n",
    "WEATHER_SDT_SCHEMA = '''\n",
    "CREATE TABLE IF NOT EXISTS WeatherSDT (\n",
    "    Record_ID INTEGER PRIMARY KEY AUTOINCREMENT,\n",
    "    Station_ID INTEGER,\n",
    "    Date DATE,\n",
    "    Avg_Daily_Overall_Cloudiness REAL,\n",
    "    Avg_Daily_Wind_Speed REAL,\n",
    "    FOREIGN KEY (Station_ID) REFERENCES Stations(Station_Code)\n",
    ");\n",
    "'''\n",
    "\n",
    "ELECTRICITY_SCHEMA = '''\n",
    "CREATE TABLE IF NOT EXISTS ElectricityData (\n",
    "    Datetime TEXT,\n",
    "    CarbonIntensityDirect REAL,\n",
    "    CarbonIntensityLCA REAL,\n",
    "    LowCarbonPercentage REAL,\n",
    "    RenewablePercentage REAL\n",
    ");\n",
    "'''\n",
    "\n",
    "# Utility functions for database operations\n",
    "\n",
    "def create_connection(db_name: str = DB_NAME) -> Optional[sqlite3.Connection]:\n",
    "    \"\"\"Establish a connection to the SQLite database.\"\"\"\n",
    "    try:\n",
    "        conn = sqlite3.connect(db_name)\n",
    "        return conn\n",
    "    except sqlite3.Error as e:\n",
    "        print(f\"Error connecting to database: {e}\")\n",
    "        return None\n",
    "\n",
    "def execute_query(conn: sqlite3.Connection, query: str) -> None:\n",
    "    \"\"\"Execute a single SQL query.\"\"\"\n",
    "    try:\n",
    "        cursor = conn.cursor()\n",
    "        cursor.execute(query)\n",
    "        conn.commit()\n",
    "    except sqlite3.Error as e:\n",
    "        print(f\"Error executing query: {e}\")\n",
    "\n",
    "def create_table(conn: sqlite3.Connection, schema: str) -> None:\n",
    "    \"\"\"Create a table using the provided SQL schema if it doesn't exist.\"\"\"\n",
    "    execute_query(conn, schema)\n",
    "\n",
    "def create_all_tables(conn: sqlite3.Connection) -> None:\n",
    "    \"\"\"Create all required tables.\"\"\"\n",
    "    create_table(conn, WEATHER_SD_SCHEMA)\n",
    "    create_table(conn, WEATHER_SDT_SCHEMA)\n",
    "    create_table(conn, ELECTRICITY_SCHEMA)\n",
    "\n",
    "# Initialize database and create tables\n",
    "if __name__ == '__main__':\n",
    "    conn = create_connection()\n",
    "    if conn:\n",
    "        create_all_tables(conn)\n",
    "        conn.close()"
   ]
  },
  {
   "cell_type": "markdown",
   "metadata": {},
   "source": [
    "## Data insertion"
   ]
  },
  {
   "cell_type": "markdown",
   "metadata": {},
   "source": [
    "### imports"
   ]
  },
  {
   "cell_type": "code",
   "execution_count": 17,
   "metadata": {},
   "outputs": [],
   "source": [
    "import pandas as pd\n",
    "import sqlite3\n",
    "from typing import List"
   ]
  },
  {
   "cell_type": "markdown",
   "metadata": {},
   "source": [
    "### constants"
   ]
  },
  {
   "cell_type": "code",
   "execution_count": 18,
   "metadata": {},
   "outputs": [],
   "source": [
    "# Constants\n",
    "DB_NAME = 'data/synop/synop.db'\n",
    "SD_COLUMNS = [\"Kod stacji\", \"Nazwa stacji\", \"Rok\", \"Miesiąc\", \"Dzień\", \"Maksymalna temperatura dobowa [°C]\", \"Status pomiaru TMAX\", \"Minimalna temperatura dobowa [°C]\", \"Status pomiaru TMIN\", \"Średnia temperatura dobowa [°C]\", \"Status pomiaru STD\", \"Temperatura minimalna przy gruncie [°C]\", \"Status pomiaru TMNG\", \"Suma dobowa opadu [mm]\", \"Status pomiaru SMDB\", \"Rodzaj opadu [S/W/ ]\", \"Wysokość pokrywy śnieżnej [cm]\", \"Status pomiaru PKSN\", \"Równoważnik wodny śniegu [mm/cm]\", \"Status pomiaru RWSN\", \"Usłonecznienie [godziny]\", \"Status pomiaru USL\", \"Czas trwania opadu deszczu [godziny]\", \"Status pomiaru DESZ\", \"Czas trwania opadu śniegu [godziny]\", \"Status pomiaru SNEG\", \"Czas trwania opadu deszczu ze śniegiem [godziny]\", \"Status pomiaru DISN\", \"Czas trwania gradu [godziny]\", \"Status pomiaru GRAD\", \"Czas trwania mgły [godziny]\", \"Status pomiaru MGLA\", \"Czas trwania zamglenia [godziny]\", \"Status pomiaru ZMGL\", \"Czas trwania sadzi [godziny]\", \"Status pomiaru SADZ\", \"Czas trwania gołoledzi [godziny]\", \"Status pomiaru GOLO\", \"Czas trwania zamieci śnieżnej niskiej [godziny]\", \"Status pomiaru ZMNI\", \"Czas trwania zamieci śnieżnej wysokiej [godziny]\", \"Status pomiaru ZMWS\", \"Czas trwania zmętnienia [godziny]\", \"Status pomiaru ZMET\", \"Czas trwania wiatru >=10m/s [godziny]\", \"Status pomiaru FF10\", \"Czas trwania wiatru >15m/s [godziny]\", \"Status pomiaru FF15\", \"Czas trwania burzy [godziny]\", \"Status pomiaru BRZA\", \"Czas trwania rosy [godziny]\", \"Status pomiaru ROSA\", \"Czas trwania szronu [godziny]\", \"Status pomiaru SZRO\", \"Wystąpienie pokrywy śnieżnej [0/1]\", \"Status pomiaru DZPS\", \"Wystąpienie błyskawicy [0/1]\", \"Status pomiaru DZBL\", \"Stan gruntu [Z/R]\", \"Izoterma dolna [cm]\", \"Status pomiaru IZD\", \"Izoterma górna [cm]\", \"Status pomiaru IZG\", \"Aktynometria [J/cm2]\", \"Status pomiaru AKTN\"]\n",
    "\n",
    "SDT_COLUMNS = [\n",
    "    \"Kod stacji\", \"Nazwa stacji\", \"Rok\", \"Miesiąc\", \"Dzień\",\n",
    "    \"Średnie dobowe zachmurzenie ogólne [oktanty]\", \"Status pomiaru NOS\",\n",
    "    \"Średnia dobowa prędkość wiatru [m/s]\", \"Status pomiaru FWS\",\n",
    "    \"Średnia dobowa temperatura [°C]\", \"Status pomiaru TEMP\",\n",
    "    \"Średnia dobowe ciśnienie pary wodnej [hPa]\", \"Status pomiaru CPW\",\n",
    "    \"Średnia dobowa wilgotność względna [%]\", \"Status pomiaru WLGS\",\n",
    "    \"Średnia dobowe ciśnienie na poziomie stacji [hPa]\", \"Status pomiaru PPPS\",\n",
    "    \"Średnie dobowe ciśnienie na pozimie morza [hPa]\", \"Status pomiaru PPPM\",\n",
    "    \"Suma opadu dzień  [mm]\", \"Status pomiaru WODZ\",\n",
    "    \"Suma opadu noc   [mm]\", \"Status pomiaru WONO\"\n",
    "]\n",
    "\n",
    "SD_COLUMNS_OF_INTEREST = [\n",
    "            'Kod stacji', 'Rok', 'Miesiąc', 'Dzień',\n",
    "            'Maksymalna temperatura dobowa [°C]', 'Minimalna temperatura dobowa [°C]',\n",
    "            'Średnia temperatura dobowa [°C]', 'Suma dobowa opadu [mm]',\n",
    "            'Usłonecznienie [godziny]', 'Aktynometria [J/cm2]',\n",
    "            'Czas trwania wiatru >=10m/s [godziny]'\n",
    "        ]\n",
    "\n",
    "SDT_COLUMNS_OF_INTEREST = [\n",
    "            'Kod stacji', 'Rok', 'Miesiąc', 'Dzień',\n",
    "            'Średnie dobowe zachmurzenie ogólne [oktanty]',\n",
    "            'Średnia dobowa prędkość wiatru [m/s]'\n",
    "        ]\n",
    "\n",
    "ELECTRICITY_COLUMNS = [\"Datetime (UTC)\", \"Carbon Intensity gCO₂eq/kWh (direct)\", \"Carbon Intensity gCO₂eq/kWh (LCA)\", \"Low Carbon Percentage\", \"Renewable Percentage\"]\n",
    "\n",
    "EASY_ELECTRICITY_COLUMNS = [\"Datetime\", \"CarbonIntensityDirect\", \"CarbonIntensityLCA\",\n",
    "                       \"LowCarbonPercentage\", \"RenewablePercentage\"]\n",
    "\n",
    "NAN_VALUES = [8, 9, '']"
   ]
  },
  {
   "cell_type": "markdown",
   "metadata": {},
   "source": [
    "### Database operations"
   ]
  },
  {
   "cell_type": "code",
   "execution_count": 19,
   "metadata": {},
   "outputs": [],
   "source": [
    "def create_connection(db_name: str = DB_NAME) -> sqlite3.Connection:\n",
    "    \"\"\"Establish a connection to the SQLite database.\"\"\"\n",
    "    return sqlite3.connect(db_name)\n",
    "\n",
    "def execute_query(conn: sqlite3.Connection, query: str, params: tuple = ()) -> None:\n",
    "    \"\"\"Execute a single SQL query.\"\"\"\n",
    "    cursor = conn.cursor()\n",
    "    cursor.execute(query, params)\n",
    "    conn.commit()\n",
    "\n",
    "def record_exists(conn: sqlite3.Connection, table_name: str, key_columns: List[str], key_values: List) -> bool:\n",
    "    \"\"\"Check if a record already exists in the database.\"\"\"\n",
    "    placeholders = ' AND '.join([f\"{col} = ?\" for col in key_columns])\n",
    "    query = f\"SELECT 1 FROM {table_name} WHERE {placeholders} LIMIT 1\"\n",
    "    cursor = conn.cursor()\n",
    "    cursor.execute(query, tuple(key_values))\n",
    "    return cursor.fetchone() is not None\n",
    "\n"
   ]
  },
  {
   "cell_type": "markdown",
   "metadata": {},
   "source": [
    "### Data Ingestion Functions"
   ]
  },
  {
   "cell_type": "code",
   "execution_count": 20,
   "metadata": {},
   "outputs": [],
   "source": [
    "def add_sd_data(conn: sqlite3.Connection, csv_path: str) -> None:\n",
    "    \"\"\"Add SD data to the WeatherSD table.\"\"\"\n",
    "    df = pd.read_csv(csv_path, names=SD_COLUMNS, na_values=NAN_VALUES, encoding='ISO-8859-2')\n",
    "    df['Date'] = df.apply(lambda row: f\"{int(row['Rok']):04d}-{int(row['Miesiąc']):02d}-{int(row['Dzień']):02d}\", axis=1)\n",
    "    df_clean = df[SD_COLUMNS_OF_INTEREST]\n",
    "    df_clean.columns = ['Station_ID', 'Year', 'Month', 'Day', 'Max_Daily_Temperature',\n",
    "                        'Min_Daily_Temperature', 'Avg_Daily_Temperature',\n",
    "                        'Total_Daily_Precipitation', 'Sunshine_Hours', 'Actinometry',\n",
    "                        'Wind_Duration_Over_10m_s']\n",
    "    df_clean['Date'] = df_clean.apply(lambda row: f\"{int(row['Year']):04d}-{int(row['Month']):02d}-{int(row['Day']):02d}\", axis=1)\n",
    "    df_clean = df_clean[['Station_ID', 'Date', 'Max_Daily_Temperature', 'Min_Daily_Temperature',\n",
    "                         'Avg_Daily_Temperature', 'Total_Daily_Precipitation',\n",
    "                         'Sunshine_Hours', 'Actinometry', 'Wind_Duration_Over_10m_s']]\n",
    "\n",
    "    query = '''INSERT INTO WeatherSD (Station_ID, Date, Max_Daily_Temperature, Min_Daily_Temperature,\n",
    "                 Avg_Daily_Temperature, Total_Daily_Precipitation, Sunshine_Hours, Actinometry,\n",
    "                 Wind_Duration_Over_10m_s)\n",
    "               VALUES (?, ?, ?, ?, ?, ?, ?, ?, ?)'''\n",
    "\n",
    "    for _, row in df_clean.iterrows():\n",
    "        if not record_exists(conn, 'WeatherSD', ['Station_ID', 'Date'], [row['Station_ID'], row['Date']]):\n",
    "            execute_query(conn, query, tuple(row))\n",
    "\n",
    "def add_sdt_data(conn: sqlite3.Connection, csv_path: str) -> None:\n",
    "    \"\"\"Add SDT data to the WeatherSDT table.\"\"\"\n",
    "    df = pd.read_csv(csv_path, names=SDT_COLUMNS, na_values=NAN_VALUES, encoding='ISO-8859-2')\n",
    "    df['Date'] = df.apply(lambda row: f\"{int(row['Rok']):04d}-{int(row['Miesiąc']):02d}-{int(row['Dzień']):02d}\", axis=1)\n",
    "    df_clean = df[SDT_COLUMNS_OF_INTEREST]\n",
    "    df_clean.columns = ['Station_ID', 'Year', 'Month', 'Day', 'Avg_Daily_Overall_Cloudiness',\n",
    "                        'Avg_Daily_Wind_Speed']\n",
    "    df_clean['Date'] = df_clean.apply(lambda row: f\"{int(row['Year']):04d}-{int(row['Month']):02d}-{int(row['Day']):02d}\", axis=1)\n",
    "    df_clean = df_clean[['Station_ID', 'Date', 'Avg_Daily_Overall_Cloudiness', 'Avg_Daily_Wind_Speed']]\n",
    "\n",
    "    query = '''INSERT INTO WeatherSDT (Station_ID, Date, Avg_Daily_Overall_Cloudiness, Avg_Daily_Wind_Speed)\n",
    "               VALUES (?, ?, ?, ?)'''\n",
    "\n",
    "    for _, row in df_clean.iterrows():\n",
    "        if not record_exists(conn, 'WeatherSDT', ['Station_ID', 'Date'], [row['Station_ID'], row['Date']]):\n",
    "            execute_query(conn, query, tuple(row))\n",
    "    print(f\"Added SDT data from {csv_path}\")\n",
    "\n",
    "\n",
    "def add_electricity_data(conn: sqlite3.Connection, csv_path: str) -> None:\n",
    "    \"\"\"Add Electricity data to the ElectricityData table.\"\"\"\n",
    "    df = pd.read_csv(csv_path, usecols=ELECTRICITY_COLUMNS, na_values=NAN_VALUES)\n",
    "\n",
    "    query = '''INSERT INTO ElectricityData (Datetime, CarbonIntensityDirect, CarbonIntensityLCA,\n",
    "                 LowCarbonPercentage, RenewablePercentage)\n",
    "               VALUES (?, ?, ?, ?, ?)'''\n",
    "\n",
    "    for _, row in df.iterrows():\n",
    "        if not record_exists(conn, 'ElectricityData', ['Datetime'], [row['Datetime (UTC)']]):\n",
    "            execute_query(conn, query, tuple(row))\n"
   ]
  },
  {
   "cell_type": "code",
   "execution_count": 21,
   "metadata": {},
   "outputs": [],
   "source": [
    "# clear the tables\n",
    "def clear_table(conn: sqlite3.Connection, table_name: str) -> None:\n",
    "    \"\"\"Clear all records from the specified table.\"\"\"\n",
    "    execute_query(conn, f\"DELETE FROM {table_name}\")\n"
   ]
  },
  {
   "cell_type": "markdown",
   "metadata": {},
   "source": [
    "## Download and Process Data"
   ]
  },
  {
   "cell_type": "code",
   "execution_count": 22,
   "metadata": {},
   "outputs": [],
   "source": [
    "DB_NAME = 'data/synop/synop.db'\n",
    "BASE_URL = 'https://danepubliczne.imgw.pl/data/dane_pomiarowo_obserwacyjne/dane_meteorologiczne/dobowe/synop/{year}/'\n",
    "TEMP_DIR = 'data/synop/imgw/{year}/'\n",
    "\n",
    "import os\n",
    "import requests\n",
    "import zipfile\n",
    "from bs4 import BeautifulSoup\n",
    "import sqlite3\n",
    "import pandas as pd\n",
    "from typing import List\n"
   ]
  },
  {
   "cell_type": "code",
   "execution_count": 23,
   "metadata": {},
   "outputs": [],
   "source": [
    "def get_zip_urls(base_url: str) -> List[str]:\n",
    "    \"\"\"Scrape and return all zip file URLs from the specified base URL.\"\"\"\n",
    "    print(f\"Fetching ZIP URLs from: {base_url}\")\n",
    "    response = requests.get(base_url)\n",
    "    response.raise_for_status()\n",
    "    soup = BeautifulSoup(response.text, 'html.parser')\n",
    "    \n",
    "    # Extract the URLs correctly\n",
    "    urls = [base_url + a['href'] for a in soup.find_all('a') if a.get('href') and a['href'].endswith('.zip')]\n",
    "    print(f\"Found {len(urls)} ZIP URLs\")\n",
    "    return urls\n",
    "\n",
    "def download_and_extract_zip(url: str, temp_dir: str) -> List[str]:\n",
    "    \"\"\"Download and extract a zip file from the given URL to the specified temporary directory.\"\"\"\n",
    "    print(f\"Downloading and extracting ZIP from: {url}\")\n",
    "    if not os.path.exists(temp_dir):\n",
    "        os.makedirs(temp_dir)\n",
    "\n",
    "    zip_name = os.path.join(temp_dir, os.path.basename(url))\n",
    "    extracted_files = []\n",
    "\n",
    "    try:\n",
    "        response = requests.get(url)\n",
    "        response.raise_for_status()\n",
    "        with open(zip_name, 'wb') as f:\n",
    "            f.write(response.content)\n",
    "        print(f\"Downloaded {zip_name}\")\n",
    "\n",
    "        with zipfile.ZipFile(zip_name, 'r') as zip_ref:\n",
    "            zip_ref.extractall(temp_dir)\n",
    "            extracted_files = zip_ref.namelist()\n",
    "        print(f\"Extracted {len(extracted_files)} files from {zip_name}\")\n",
    "\n",
    "        os.remove(zip_name)\n",
    "        print(f\"Deleted ZIP file {zip_name}\")\n",
    "    except Exception as e:\n",
    "        print(f\"Failed to download or extract {url}: {e}\")\n",
    "\n",
    "    return [os.path.join(temp_dir, file) for file in extracted_files]\n",
    "\n",
    "def process_extracted_files(conn: sqlite3.Connection, extracted_files: List[str]) -> None:\n",
    "    \"\"\"Process extracted files and add data to the respective tables.\"\"\"\n",
    "    for file in extracted_files:\n",
    "        print(f\"Processing file: {file}\")\n",
    "        if 's_d_' in file and not 's_d_t_' in file:\n",
    "            print(f\"Adding SD data from file: {file}\")\n",
    "            add_sd_data(conn, file)\n",
    "        elif 's_d_t_' in file:\n",
    "            print(f\"Adding SDT data from file: {file}\")\n",
    "            add_sdt_data(conn, file)\n",
    "        os.remove(file)\n",
    "        print(f\"Deleted file {file}\")\n",
    "\n",
    "\n",
    "def process_data_for_year(year: int, codes: List[str]) -> None:\n",
    "    \"\"\"Get zip files for a specified year, filter by station codes, and process data.\"\"\"\n",
    "    base_url = BASE_URL.format(year=year)\n",
    "    temp_dir = TEMP_DIR.format(year=year)\n",
    "\n",
    "    zip_urls = get_zip_urls(base_url)\n",
    "    relevant_zip_urls = [url for url in zip_urls if any(code in url for code in codes)]\n",
    "    print(f\"Relevant ZIP URLs: {relevant_zip_urls}\")\n",
    "\n",
    "    conn = create_connection()\n",
    "    if conn is None:\n",
    "        print(\"Failed to create database connection\")\n",
    "        return\n",
    "\n",
    "    try:\n",
    "        for url in relevant_zip_urls:\n",
    "            extracted_files = download_and_extract_zip(url, temp_dir)\n",
    "            process_extracted_files(conn, extracted_files)\n",
    "    finally:\n",
    "        conn.close()\n",
    "        print(f\"Processed data for year {year}\")"
   ]
  },
  {
   "cell_type": "code",
   "execution_count": 24,
   "metadata": {},
   "outputs": [
    {
     "name": "stdout",
     "output_type": "stream",
     "text": [
      "Codes of interest: ['295', '235', '300', '500', '435', '650', '560', '520', '100', '105', '566', '690', '465', '280', '530', '330', '195', '205', '510', '399', '250', '375', '497', '625', '400']\n",
      "Fetching ZIP URLs from: https://danepubliczne.imgw.pl/data/dane_pomiarowo_obserwacyjne/dane_meteorologiczne/dobowe/synop/2021/\n",
      "Found 58 ZIP URLs\n",
      "Relevant ZIP URLs: ['https://danepubliczne.imgw.pl/data/dane_pomiarowo_obserwacyjne/dane_meteorologiczne/dobowe/synop/2021/2021_100_s.zip', 'https://danepubliczne.imgw.pl/data/dane_pomiarowo_obserwacyjne/dane_meteorologiczne/dobowe/synop/2021/2021_105_s.zip', 'https://danepubliczne.imgw.pl/data/dane_pomiarowo_obserwacyjne/dane_meteorologiczne/dobowe/synop/2021/2021_195_s.zip', 'https://danepubliczne.imgw.pl/data/dane_pomiarowo_obserwacyjne/dane_meteorologiczne/dobowe/synop/2021/2021_205_s.zip', 'https://danepubliczne.imgw.pl/data/dane_pomiarowo_obserwacyjne/dane_meteorologiczne/dobowe/synop/2021/2021_235_s.zip', 'https://danepubliczne.imgw.pl/data/dane_pomiarowo_obserwacyjne/dane_meteorologiczne/dobowe/synop/2021/2021_250_s.zip', 'https://danepubliczne.imgw.pl/data/dane_pomiarowo_obserwacyjne/dane_meteorologiczne/dobowe/synop/2021/2021_280_s.zip', 'https://danepubliczne.imgw.pl/data/dane_pomiarowo_obserwacyjne/dane_meteorologiczne/dobowe/synop/2021/2021_295_s.zip', 'https://danepubliczne.imgw.pl/data/dane_pomiarowo_obserwacyjne/dane_meteorologiczne/dobowe/synop/2021/2021_300_s.zip', 'https://danepubliczne.imgw.pl/data/dane_pomiarowo_obserwacyjne/dane_meteorologiczne/dobowe/synop/2021/2021_330_s.zip', 'https://danepubliczne.imgw.pl/data/dane_pomiarowo_obserwacyjne/dane_meteorologiczne/dobowe/synop/2021/2021_375_s.zip', 'https://danepubliczne.imgw.pl/data/dane_pomiarowo_obserwacyjne/dane_meteorologiczne/dobowe/synop/2021/2021_399_s.zip', 'https://danepubliczne.imgw.pl/data/dane_pomiarowo_obserwacyjne/dane_meteorologiczne/dobowe/synop/2021/2021_400_s.zip', 'https://danepubliczne.imgw.pl/data/dane_pomiarowo_obserwacyjne/dane_meteorologiczne/dobowe/synop/2021/2021_435_s.zip', 'https://danepubliczne.imgw.pl/data/dane_pomiarowo_obserwacyjne/dane_meteorologiczne/dobowe/synop/2021/2021_465_s.zip', 'https://danepubliczne.imgw.pl/data/dane_pomiarowo_obserwacyjne/dane_meteorologiczne/dobowe/synop/2021/2021_497_s.zip', 'https://danepubliczne.imgw.pl/data/dane_pomiarowo_obserwacyjne/dane_meteorologiczne/dobowe/synop/2021/2021_500_s.zip', 'https://danepubliczne.imgw.pl/data/dane_pomiarowo_obserwacyjne/dane_meteorologiczne/dobowe/synop/2021/2021_510_s.zip', 'https://danepubliczne.imgw.pl/data/dane_pomiarowo_obserwacyjne/dane_meteorologiczne/dobowe/synop/2021/2021_520_s.zip', 'https://danepubliczne.imgw.pl/data/dane_pomiarowo_obserwacyjne/dane_meteorologiczne/dobowe/synop/2021/2021_530_s.zip', 'https://danepubliczne.imgw.pl/data/dane_pomiarowo_obserwacyjne/dane_meteorologiczne/dobowe/synop/2021/2021_560_s.zip', 'https://danepubliczne.imgw.pl/data/dane_pomiarowo_obserwacyjne/dane_meteorologiczne/dobowe/synop/2021/2021_566_s.zip', 'https://danepubliczne.imgw.pl/data/dane_pomiarowo_obserwacyjne/dane_meteorologiczne/dobowe/synop/2021/2021_625_s.zip', 'https://danepubliczne.imgw.pl/data/dane_pomiarowo_obserwacyjne/dane_meteorologiczne/dobowe/synop/2021/2021_650_s.zip', 'https://danepubliczne.imgw.pl/data/dane_pomiarowo_obserwacyjne/dane_meteorologiczne/dobowe/synop/2021/2021_690_s.zip']\n",
      "Downloading and extracting ZIP from: https://danepubliczne.imgw.pl/data/dane_pomiarowo_obserwacyjne/dane_meteorologiczne/dobowe/synop/2021/2021_100_s.zip\n",
      "Downloaded data/synop/imgw/2021/2021_100_s.zip\n",
      "Extracted 2 files from data/synop/imgw/2021/2021_100_s.zip\n",
      "Deleted ZIP file data/synop/imgw/2021/2021_100_s.zip\n",
      "Processing file: data/synop/imgw/2021/s_d_100_2021.csv\n",
      "Adding SD data from file: data/synop/imgw/2021/s_d_100_2021.csv\n"
     ]
    },
    {
     "name": "stderr",
     "output_type": "stream",
     "text": [
      "/tmp/ipykernel_711180/2355723765.py:10: SettingWithCopyWarning: \n",
      "A value is trying to be set on a copy of a slice from a DataFrame.\n",
      "Try using .loc[row_indexer,col_indexer] = value instead\n",
      "\n",
      "See the caveats in the documentation: https://pandas.pydata.org/pandas-docs/stable/user_guide/indexing.html#returning-a-view-versus-a-copy\n",
      "  df_clean['Date'] = df_clean.apply(lambda row: f\"{int(row['Year']):04d}-{int(row['Month']):02d}-{int(row['Day']):02d}\", axis=1)\n",
      "/tmp/ipykernel_711180/2355723765.py:31: SettingWithCopyWarning: \n",
      "A value is trying to be set on a copy of a slice from a DataFrame.\n",
      "Try using .loc[row_indexer,col_indexer] = value instead\n",
      "\n",
      "See the caveats in the documentation: https://pandas.pydata.org/pandas-docs/stable/user_guide/indexing.html#returning-a-view-versus-a-copy\n",
      "  df_clean['Date'] = df_clean.apply(lambda row: f\"{int(row['Year']):04d}-{int(row['Month']):02d}-{int(row['Day']):02d}\", axis=1)\n"
     ]
    },
    {
     "name": "stdout",
     "output_type": "stream",
     "text": [
      "Deleted file data/synop/imgw/2021/s_d_100_2021.csv\n",
      "Processing file: data/synop/imgw/2021/s_d_t_100_2021.csv\n",
      "Adding SDT data from file: data/synop/imgw/2021/s_d_t_100_2021.csv\n",
      "Added SDT data from data/synop/imgw/2021/s_d_t_100_2021.csv\n",
      "Deleted file data/synop/imgw/2021/s_d_t_100_2021.csv\n",
      "Downloading and extracting ZIP from: https://danepubliczne.imgw.pl/data/dane_pomiarowo_obserwacyjne/dane_meteorologiczne/dobowe/synop/2021/2021_105_s.zip\n",
      "Downloaded data/synop/imgw/2021/2021_105_s.zip\n",
      "Extracted 2 files from data/synop/imgw/2021/2021_105_s.zip\n",
      "Deleted ZIP file data/synop/imgw/2021/2021_105_s.zip\n",
      "Processing file: data/synop/imgw/2021/s_d_105_2021.csv\n",
      "Adding SD data from file: data/synop/imgw/2021/s_d_105_2021.csv\n",
      "Deleted file data/synop/imgw/2021/s_d_105_2021.csv\n",
      "Processing file: data/synop/imgw/2021/s_d_t_105_2021.csv\n",
      "Adding SDT data from file: data/synop/imgw/2021/s_d_t_105_2021.csv\n"
     ]
    },
    {
     "name": "stderr",
     "output_type": "stream",
     "text": [
      "/tmp/ipykernel_711180/2355723765.py:10: SettingWithCopyWarning: \n",
      "A value is trying to be set on a copy of a slice from a DataFrame.\n",
      "Try using .loc[row_indexer,col_indexer] = value instead\n",
      "\n",
      "See the caveats in the documentation: https://pandas.pydata.org/pandas-docs/stable/user_guide/indexing.html#returning-a-view-versus-a-copy\n",
      "  df_clean['Date'] = df_clean.apply(lambda row: f\"{int(row['Year']):04d}-{int(row['Month']):02d}-{int(row['Day']):02d}\", axis=1)\n",
      "/tmp/ipykernel_711180/2355723765.py:31: SettingWithCopyWarning: \n",
      "A value is trying to be set on a copy of a slice from a DataFrame.\n",
      "Try using .loc[row_indexer,col_indexer] = value instead\n",
      "\n",
      "See the caveats in the documentation: https://pandas.pydata.org/pandas-docs/stable/user_guide/indexing.html#returning-a-view-versus-a-copy\n",
      "  df_clean['Date'] = df_clean.apply(lambda row: f\"{int(row['Year']):04d}-{int(row['Month']):02d}-{int(row['Day']):02d}\", axis=1)\n"
     ]
    },
    {
     "name": "stdout",
     "output_type": "stream",
     "text": [
      "Added SDT data from data/synop/imgw/2021/s_d_t_105_2021.csv\n",
      "Deleted file data/synop/imgw/2021/s_d_t_105_2021.csv\n",
      "Downloading and extracting ZIP from: https://danepubliczne.imgw.pl/data/dane_pomiarowo_obserwacyjne/dane_meteorologiczne/dobowe/synop/2021/2021_195_s.zip\n",
      "Downloaded data/synop/imgw/2021/2021_195_s.zip\n",
      "Extracted 2 files from data/synop/imgw/2021/2021_195_s.zip\n",
      "Deleted ZIP file data/synop/imgw/2021/2021_195_s.zip\n",
      "Processing file: data/synop/imgw/2021/s_d_195_2021.csv\n",
      "Adding SD data from file: data/synop/imgw/2021/s_d_195_2021.csv\n",
      "Deleted file data/synop/imgw/2021/s_d_195_2021.csv\n",
      "Processing file: data/synop/imgw/2021/s_d_t_195_2021.csv\n",
      "Adding SDT data from file: data/synop/imgw/2021/s_d_t_195_2021.csv\n"
     ]
    },
    {
     "name": "stderr",
     "output_type": "stream",
     "text": [
      "/tmp/ipykernel_711180/2355723765.py:10: SettingWithCopyWarning: \n",
      "A value is trying to be set on a copy of a slice from a DataFrame.\n",
      "Try using .loc[row_indexer,col_indexer] = value instead\n",
      "\n",
      "See the caveats in the documentation: https://pandas.pydata.org/pandas-docs/stable/user_guide/indexing.html#returning-a-view-versus-a-copy\n",
      "  df_clean['Date'] = df_clean.apply(lambda row: f\"{int(row['Year']):04d}-{int(row['Month']):02d}-{int(row['Day']):02d}\", axis=1)\n",
      "/tmp/ipykernel_711180/2355723765.py:31: SettingWithCopyWarning: \n",
      "A value is trying to be set on a copy of a slice from a DataFrame.\n",
      "Try using .loc[row_indexer,col_indexer] = value instead\n",
      "\n",
      "See the caveats in the documentation: https://pandas.pydata.org/pandas-docs/stable/user_guide/indexing.html#returning-a-view-versus-a-copy\n",
      "  df_clean['Date'] = df_clean.apply(lambda row: f\"{int(row['Year']):04d}-{int(row['Month']):02d}-{int(row['Day']):02d}\", axis=1)\n"
     ]
    },
    {
     "name": "stdout",
     "output_type": "stream",
     "text": [
      "Added SDT data from data/synop/imgw/2021/s_d_t_195_2021.csv\n",
      "Deleted file data/synop/imgw/2021/s_d_t_195_2021.csv\n",
      "Downloading and extracting ZIP from: https://danepubliczne.imgw.pl/data/dane_pomiarowo_obserwacyjne/dane_meteorologiczne/dobowe/synop/2021/2021_205_s.zip\n",
      "Downloaded data/synop/imgw/2021/2021_205_s.zip\n",
      "Extracted 2 files from data/synop/imgw/2021/2021_205_s.zip\n",
      "Deleted ZIP file data/synop/imgw/2021/2021_205_s.zip\n",
      "Processing file: data/synop/imgw/2021/s_d_205_2021.csv\n",
      "Adding SD data from file: data/synop/imgw/2021/s_d_205_2021.csv\n",
      "Deleted file data/synop/imgw/2021/s_d_205_2021.csv\n",
      "Processing file: data/synop/imgw/2021/s_d_t_205_2021.csv\n",
      "Adding SDT data from file: data/synop/imgw/2021/s_d_t_205_2021.csv\n"
     ]
    },
    {
     "name": "stderr",
     "output_type": "stream",
     "text": [
      "/tmp/ipykernel_711180/2355723765.py:10: SettingWithCopyWarning: \n",
      "A value is trying to be set on a copy of a slice from a DataFrame.\n",
      "Try using .loc[row_indexer,col_indexer] = value instead\n",
      "\n",
      "See the caveats in the documentation: https://pandas.pydata.org/pandas-docs/stable/user_guide/indexing.html#returning-a-view-versus-a-copy\n",
      "  df_clean['Date'] = df_clean.apply(lambda row: f\"{int(row['Year']):04d}-{int(row['Month']):02d}-{int(row['Day']):02d}\", axis=1)\n",
      "/tmp/ipykernel_711180/2355723765.py:31: SettingWithCopyWarning: \n",
      "A value is trying to be set on a copy of a slice from a DataFrame.\n",
      "Try using .loc[row_indexer,col_indexer] = value instead\n",
      "\n",
      "See the caveats in the documentation: https://pandas.pydata.org/pandas-docs/stable/user_guide/indexing.html#returning-a-view-versus-a-copy\n",
      "  df_clean['Date'] = df_clean.apply(lambda row: f\"{int(row['Year']):04d}-{int(row['Month']):02d}-{int(row['Day']):02d}\", axis=1)\n"
     ]
    },
    {
     "name": "stdout",
     "output_type": "stream",
     "text": [
      "Added SDT data from data/synop/imgw/2021/s_d_t_205_2021.csv\n",
      "Deleted file data/synop/imgw/2021/s_d_t_205_2021.csv\n",
      "Downloading and extracting ZIP from: https://danepubliczne.imgw.pl/data/dane_pomiarowo_obserwacyjne/dane_meteorologiczne/dobowe/synop/2021/2021_235_s.zip\n",
      "Downloaded data/synop/imgw/2021/2021_235_s.zip\n",
      "Extracted 2 files from data/synop/imgw/2021/2021_235_s.zip\n",
      "Deleted ZIP file data/synop/imgw/2021/2021_235_s.zip\n",
      "Processing file: data/synop/imgw/2021/s_d_235_2021.csv\n",
      "Adding SD data from file: data/synop/imgw/2021/s_d_235_2021.csv\n",
      "Deleted file data/synop/imgw/2021/s_d_235_2021.csv\n",
      "Processing file: data/synop/imgw/2021/s_d_t_235_2021.csv\n",
      "Adding SDT data from file: data/synop/imgw/2021/s_d_t_235_2021.csv\n"
     ]
    },
    {
     "name": "stderr",
     "output_type": "stream",
     "text": [
      "/tmp/ipykernel_711180/2355723765.py:10: SettingWithCopyWarning: \n",
      "A value is trying to be set on a copy of a slice from a DataFrame.\n",
      "Try using .loc[row_indexer,col_indexer] = value instead\n",
      "\n",
      "See the caveats in the documentation: https://pandas.pydata.org/pandas-docs/stable/user_guide/indexing.html#returning-a-view-versus-a-copy\n",
      "  df_clean['Date'] = df_clean.apply(lambda row: f\"{int(row['Year']):04d}-{int(row['Month']):02d}-{int(row['Day']):02d}\", axis=1)\n",
      "/tmp/ipykernel_711180/2355723765.py:31: SettingWithCopyWarning: \n",
      "A value is trying to be set on a copy of a slice from a DataFrame.\n",
      "Try using .loc[row_indexer,col_indexer] = value instead\n",
      "\n",
      "See the caveats in the documentation: https://pandas.pydata.org/pandas-docs/stable/user_guide/indexing.html#returning-a-view-versus-a-copy\n",
      "  df_clean['Date'] = df_clean.apply(lambda row: f\"{int(row['Year']):04d}-{int(row['Month']):02d}-{int(row['Day']):02d}\", axis=1)\n"
     ]
    },
    {
     "name": "stdout",
     "output_type": "stream",
     "text": [
      "Added SDT data from data/synop/imgw/2021/s_d_t_235_2021.csv\n",
      "Deleted file data/synop/imgw/2021/s_d_t_235_2021.csv\n",
      "Downloading and extracting ZIP from: https://danepubliczne.imgw.pl/data/dane_pomiarowo_obserwacyjne/dane_meteorologiczne/dobowe/synop/2021/2021_250_s.zip\n",
      "Downloaded data/synop/imgw/2021/2021_250_s.zip\n",
      "Extracted 2 files from data/synop/imgw/2021/2021_250_s.zip\n",
      "Deleted ZIP file data/synop/imgw/2021/2021_250_s.zip\n",
      "Processing file: data/synop/imgw/2021/s_d_250_2021.csv\n",
      "Adding SD data from file: data/synop/imgw/2021/s_d_250_2021.csv\n",
      "Deleted file data/synop/imgw/2021/s_d_250_2021.csv\n",
      "Processing file: data/synop/imgw/2021/s_d_t_250_2021.csv\n",
      "Adding SDT data from file: data/synop/imgw/2021/s_d_t_250_2021.csv\n"
     ]
    },
    {
     "name": "stderr",
     "output_type": "stream",
     "text": [
      "/tmp/ipykernel_711180/2355723765.py:10: SettingWithCopyWarning: \n",
      "A value is trying to be set on a copy of a slice from a DataFrame.\n",
      "Try using .loc[row_indexer,col_indexer] = value instead\n",
      "\n",
      "See the caveats in the documentation: https://pandas.pydata.org/pandas-docs/stable/user_guide/indexing.html#returning-a-view-versus-a-copy\n",
      "  df_clean['Date'] = df_clean.apply(lambda row: f\"{int(row['Year']):04d}-{int(row['Month']):02d}-{int(row['Day']):02d}\", axis=1)\n",
      "/tmp/ipykernel_711180/2355723765.py:31: SettingWithCopyWarning: \n",
      "A value is trying to be set on a copy of a slice from a DataFrame.\n",
      "Try using .loc[row_indexer,col_indexer] = value instead\n",
      "\n",
      "See the caveats in the documentation: https://pandas.pydata.org/pandas-docs/stable/user_guide/indexing.html#returning-a-view-versus-a-copy\n",
      "  df_clean['Date'] = df_clean.apply(lambda row: f\"{int(row['Year']):04d}-{int(row['Month']):02d}-{int(row['Day']):02d}\", axis=1)\n"
     ]
    },
    {
     "name": "stdout",
     "output_type": "stream",
     "text": [
      "Added SDT data from data/synop/imgw/2021/s_d_t_250_2021.csv\n",
      "Deleted file data/synop/imgw/2021/s_d_t_250_2021.csv\n",
      "Downloading and extracting ZIP from: https://danepubliczne.imgw.pl/data/dane_pomiarowo_obserwacyjne/dane_meteorologiczne/dobowe/synop/2021/2021_280_s.zip\n",
      "Downloaded data/synop/imgw/2021/2021_280_s.zip\n",
      "Extracted 2 files from data/synop/imgw/2021/2021_280_s.zip\n",
      "Deleted ZIP file data/synop/imgw/2021/2021_280_s.zip\n",
      "Processing file: data/synop/imgw/2021/s_d_280_2021.csv\n",
      "Adding SD data from file: data/synop/imgw/2021/s_d_280_2021.csv\n"
     ]
    },
    {
     "name": "stderr",
     "output_type": "stream",
     "text": [
      "/tmp/ipykernel_711180/2355723765.py:10: SettingWithCopyWarning: \n",
      "A value is trying to be set on a copy of a slice from a DataFrame.\n",
      "Try using .loc[row_indexer,col_indexer] = value instead\n",
      "\n",
      "See the caveats in the documentation: https://pandas.pydata.org/pandas-docs/stable/user_guide/indexing.html#returning-a-view-versus-a-copy\n",
      "  df_clean['Date'] = df_clean.apply(lambda row: f\"{int(row['Year']):04d}-{int(row['Month']):02d}-{int(row['Day']):02d}\", axis=1)\n",
      "/tmp/ipykernel_711180/2355723765.py:31: SettingWithCopyWarning: \n",
      "A value is trying to be set on a copy of a slice from a DataFrame.\n",
      "Try using .loc[row_indexer,col_indexer] = value instead\n",
      "\n",
      "See the caveats in the documentation: https://pandas.pydata.org/pandas-docs/stable/user_guide/indexing.html#returning-a-view-versus-a-copy\n",
      "  df_clean['Date'] = df_clean.apply(lambda row: f\"{int(row['Year']):04d}-{int(row['Month']):02d}-{int(row['Day']):02d}\", axis=1)\n"
     ]
    },
    {
     "name": "stdout",
     "output_type": "stream",
     "text": [
      "Deleted file data/synop/imgw/2021/s_d_280_2021.csv\n",
      "Processing file: data/synop/imgw/2021/s_d_t_280_2021.csv\n",
      "Adding SDT data from file: data/synop/imgw/2021/s_d_t_280_2021.csv\n",
      "Added SDT data from data/synop/imgw/2021/s_d_t_280_2021.csv\n",
      "Deleted file data/synop/imgw/2021/s_d_t_280_2021.csv\n",
      "Downloading and extracting ZIP from: https://danepubliczne.imgw.pl/data/dane_pomiarowo_obserwacyjne/dane_meteorologiczne/dobowe/synop/2021/2021_295_s.zip\n",
      "Downloaded data/synop/imgw/2021/2021_295_s.zip\n",
      "Extracted 2 files from data/synop/imgw/2021/2021_295_s.zip\n",
      "Deleted ZIP file data/synop/imgw/2021/2021_295_s.zip\n",
      "Processing file: data/synop/imgw/2021/s_d_295_2021.csv\n",
      "Adding SD data from file: data/synop/imgw/2021/s_d_295_2021.csv\n"
     ]
    },
    {
     "name": "stderr",
     "output_type": "stream",
     "text": [
      "/tmp/ipykernel_711180/2355723765.py:10: SettingWithCopyWarning: \n",
      "A value is trying to be set on a copy of a slice from a DataFrame.\n",
      "Try using .loc[row_indexer,col_indexer] = value instead\n",
      "\n",
      "See the caveats in the documentation: https://pandas.pydata.org/pandas-docs/stable/user_guide/indexing.html#returning-a-view-versus-a-copy\n",
      "  df_clean['Date'] = df_clean.apply(lambda row: f\"{int(row['Year']):04d}-{int(row['Month']):02d}-{int(row['Day']):02d}\", axis=1)\n",
      "/tmp/ipykernel_711180/2355723765.py:31: SettingWithCopyWarning: \n",
      "A value is trying to be set on a copy of a slice from a DataFrame.\n",
      "Try using .loc[row_indexer,col_indexer] = value instead\n",
      "\n",
      "See the caveats in the documentation: https://pandas.pydata.org/pandas-docs/stable/user_guide/indexing.html#returning-a-view-versus-a-copy\n",
      "  df_clean['Date'] = df_clean.apply(lambda row: f\"{int(row['Year']):04d}-{int(row['Month']):02d}-{int(row['Day']):02d}\", axis=1)\n"
     ]
    },
    {
     "name": "stdout",
     "output_type": "stream",
     "text": [
      "Deleted file data/synop/imgw/2021/s_d_295_2021.csv\n",
      "Processing file: data/synop/imgw/2021/s_d_t_295_2021.csv\n",
      "Adding SDT data from file: data/synop/imgw/2021/s_d_t_295_2021.csv\n",
      "Added SDT data from data/synop/imgw/2021/s_d_t_295_2021.csv\n",
      "Deleted file data/synop/imgw/2021/s_d_t_295_2021.csv\n",
      "Downloading and extracting ZIP from: https://danepubliczne.imgw.pl/data/dane_pomiarowo_obserwacyjne/dane_meteorologiczne/dobowe/synop/2021/2021_300_s.zip\n",
      "Downloaded data/synop/imgw/2021/2021_300_s.zip\n",
      "Extracted 2 files from data/synop/imgw/2021/2021_300_s.zip\n",
      "Deleted ZIP file data/synop/imgw/2021/2021_300_s.zip\n",
      "Processing file: data/synop/imgw/2021/s_d_300_2021.csv\n",
      "Adding SD data from file: data/synop/imgw/2021/s_d_300_2021.csv\n",
      "Deleted file data/synop/imgw/2021/s_d_300_2021.csv\n",
      "Processing file: data/synop/imgw/2021/s_d_t_300_2021.csv\n",
      "Adding SDT data from file: data/synop/imgw/2021/s_d_t_300_2021.csv\n"
     ]
    },
    {
     "name": "stderr",
     "output_type": "stream",
     "text": [
      "/tmp/ipykernel_711180/2355723765.py:10: SettingWithCopyWarning: \n",
      "A value is trying to be set on a copy of a slice from a DataFrame.\n",
      "Try using .loc[row_indexer,col_indexer] = value instead\n",
      "\n",
      "See the caveats in the documentation: https://pandas.pydata.org/pandas-docs/stable/user_guide/indexing.html#returning-a-view-versus-a-copy\n",
      "  df_clean['Date'] = df_clean.apply(lambda row: f\"{int(row['Year']):04d}-{int(row['Month']):02d}-{int(row['Day']):02d}\", axis=1)\n",
      "/tmp/ipykernel_711180/2355723765.py:31: SettingWithCopyWarning: \n",
      "A value is trying to be set on a copy of a slice from a DataFrame.\n",
      "Try using .loc[row_indexer,col_indexer] = value instead\n",
      "\n",
      "See the caveats in the documentation: https://pandas.pydata.org/pandas-docs/stable/user_guide/indexing.html#returning-a-view-versus-a-copy\n",
      "  df_clean['Date'] = df_clean.apply(lambda row: f\"{int(row['Year']):04d}-{int(row['Month']):02d}-{int(row['Day']):02d}\", axis=1)\n"
     ]
    },
    {
     "name": "stdout",
     "output_type": "stream",
     "text": [
      "Added SDT data from data/synop/imgw/2021/s_d_t_300_2021.csv\n",
      "Deleted file data/synop/imgw/2021/s_d_t_300_2021.csv\n",
      "Downloading and extracting ZIP from: https://danepubliczne.imgw.pl/data/dane_pomiarowo_obserwacyjne/dane_meteorologiczne/dobowe/synop/2021/2021_330_s.zip\n",
      "Downloaded data/synop/imgw/2021/2021_330_s.zip\n",
      "Extracted 2 files from data/synop/imgw/2021/2021_330_s.zip\n",
      "Deleted ZIP file data/synop/imgw/2021/2021_330_s.zip\n",
      "Processing file: data/synop/imgw/2021/s_d_330_2021.csv\n",
      "Adding SD data from file: data/synop/imgw/2021/s_d_330_2021.csv\n",
      "Deleted file data/synop/imgw/2021/s_d_330_2021.csv\n",
      "Processing file: data/synop/imgw/2021/s_d_t_330_2021.csv\n",
      "Adding SDT data from file: data/synop/imgw/2021/s_d_t_330_2021.csv\n"
     ]
    },
    {
     "name": "stderr",
     "output_type": "stream",
     "text": [
      "/tmp/ipykernel_711180/2355723765.py:10: SettingWithCopyWarning: \n",
      "A value is trying to be set on a copy of a slice from a DataFrame.\n",
      "Try using .loc[row_indexer,col_indexer] = value instead\n",
      "\n",
      "See the caveats in the documentation: https://pandas.pydata.org/pandas-docs/stable/user_guide/indexing.html#returning-a-view-versus-a-copy\n",
      "  df_clean['Date'] = df_clean.apply(lambda row: f\"{int(row['Year']):04d}-{int(row['Month']):02d}-{int(row['Day']):02d}\", axis=1)\n",
      "/tmp/ipykernel_711180/2355723765.py:31: SettingWithCopyWarning: \n",
      "A value is trying to be set on a copy of a slice from a DataFrame.\n",
      "Try using .loc[row_indexer,col_indexer] = value instead\n",
      "\n",
      "See the caveats in the documentation: https://pandas.pydata.org/pandas-docs/stable/user_guide/indexing.html#returning-a-view-versus-a-copy\n",
      "  df_clean['Date'] = df_clean.apply(lambda row: f\"{int(row['Year']):04d}-{int(row['Month']):02d}-{int(row['Day']):02d}\", axis=1)\n"
     ]
    },
    {
     "name": "stdout",
     "output_type": "stream",
     "text": [
      "Added SDT data from data/synop/imgw/2021/s_d_t_330_2021.csv\n",
      "Deleted file data/synop/imgw/2021/s_d_t_330_2021.csv\n",
      "Downloading and extracting ZIP from: https://danepubliczne.imgw.pl/data/dane_pomiarowo_obserwacyjne/dane_meteorologiczne/dobowe/synop/2021/2021_375_s.zip\n",
      "Downloaded data/synop/imgw/2021/2021_375_s.zip\n",
      "Extracted 2 files from data/synop/imgw/2021/2021_375_s.zip\n",
      "Deleted ZIP file data/synop/imgw/2021/2021_375_s.zip\n",
      "Processing file: data/synop/imgw/2021/s_d_375_2021.csv\n",
      "Adding SD data from file: data/synop/imgw/2021/s_d_375_2021.csv\n",
      "Deleted file data/synop/imgw/2021/s_d_375_2021.csv\n",
      "Processing file: data/synop/imgw/2021/s_d_t_375_2021.csv\n",
      "Adding SDT data from file: data/synop/imgw/2021/s_d_t_375_2021.csv\n"
     ]
    },
    {
     "name": "stderr",
     "output_type": "stream",
     "text": [
      "/tmp/ipykernel_711180/2355723765.py:10: SettingWithCopyWarning: \n",
      "A value is trying to be set on a copy of a slice from a DataFrame.\n",
      "Try using .loc[row_indexer,col_indexer] = value instead\n",
      "\n",
      "See the caveats in the documentation: https://pandas.pydata.org/pandas-docs/stable/user_guide/indexing.html#returning-a-view-versus-a-copy\n",
      "  df_clean['Date'] = df_clean.apply(lambda row: f\"{int(row['Year']):04d}-{int(row['Month']):02d}-{int(row['Day']):02d}\", axis=1)\n",
      "/tmp/ipykernel_711180/2355723765.py:31: SettingWithCopyWarning: \n",
      "A value is trying to be set on a copy of a slice from a DataFrame.\n",
      "Try using .loc[row_indexer,col_indexer] = value instead\n",
      "\n",
      "See the caveats in the documentation: https://pandas.pydata.org/pandas-docs/stable/user_guide/indexing.html#returning-a-view-versus-a-copy\n",
      "  df_clean['Date'] = df_clean.apply(lambda row: f\"{int(row['Year']):04d}-{int(row['Month']):02d}-{int(row['Day']):02d}\", axis=1)\n"
     ]
    },
    {
     "name": "stdout",
     "output_type": "stream",
     "text": [
      "Added SDT data from data/synop/imgw/2021/s_d_t_375_2021.csv\n",
      "Deleted file data/synop/imgw/2021/s_d_t_375_2021.csv\n",
      "Downloading and extracting ZIP from: https://danepubliczne.imgw.pl/data/dane_pomiarowo_obserwacyjne/dane_meteorologiczne/dobowe/synop/2021/2021_399_s.zip\n",
      "Downloaded data/synop/imgw/2021/2021_399_s.zip\n",
      "Extracted 2 files from data/synop/imgw/2021/2021_399_s.zip\n",
      "Deleted ZIP file data/synop/imgw/2021/2021_399_s.zip\n",
      "Processing file: data/synop/imgw/2021/s_d_399_2021.csv\n",
      "Adding SD data from file: data/synop/imgw/2021/s_d_399_2021.csv\n",
      "Deleted file data/synop/imgw/2021/s_d_399_2021.csv\n",
      "Processing file: data/synop/imgw/2021/s_d_t_399_2021.csv\n",
      "Adding SDT data from file: data/synop/imgw/2021/s_d_t_399_2021.csv\n"
     ]
    },
    {
     "name": "stderr",
     "output_type": "stream",
     "text": [
      "/tmp/ipykernel_711180/2355723765.py:10: SettingWithCopyWarning: \n",
      "A value is trying to be set on a copy of a slice from a DataFrame.\n",
      "Try using .loc[row_indexer,col_indexer] = value instead\n",
      "\n",
      "See the caveats in the documentation: https://pandas.pydata.org/pandas-docs/stable/user_guide/indexing.html#returning-a-view-versus-a-copy\n",
      "  df_clean['Date'] = df_clean.apply(lambda row: f\"{int(row['Year']):04d}-{int(row['Month']):02d}-{int(row['Day']):02d}\", axis=1)\n",
      "/tmp/ipykernel_711180/2355723765.py:31: SettingWithCopyWarning: \n",
      "A value is trying to be set on a copy of a slice from a DataFrame.\n",
      "Try using .loc[row_indexer,col_indexer] = value instead\n",
      "\n",
      "See the caveats in the documentation: https://pandas.pydata.org/pandas-docs/stable/user_guide/indexing.html#returning-a-view-versus-a-copy\n",
      "  df_clean['Date'] = df_clean.apply(lambda row: f\"{int(row['Year']):04d}-{int(row['Month']):02d}-{int(row['Day']):02d}\", axis=1)\n"
     ]
    },
    {
     "name": "stdout",
     "output_type": "stream",
     "text": [
      "Added SDT data from data/synop/imgw/2021/s_d_t_399_2021.csv\n",
      "Deleted file data/synop/imgw/2021/s_d_t_399_2021.csv\n",
      "Downloading and extracting ZIP from: https://danepubliczne.imgw.pl/data/dane_pomiarowo_obserwacyjne/dane_meteorologiczne/dobowe/synop/2021/2021_400_s.zip\n",
      "Downloaded data/synop/imgw/2021/2021_400_s.zip\n",
      "Extracted 2 files from data/synop/imgw/2021/2021_400_s.zip\n",
      "Deleted ZIP file data/synop/imgw/2021/2021_400_s.zip\n",
      "Processing file: data/synop/imgw/2021/s_d_400_2021.csv\n",
      "Adding SD data from file: data/synop/imgw/2021/s_d_400_2021.csv\n",
      "Deleted file data/synop/imgw/2021/s_d_400_2021.csv\n",
      "Processing file: data/synop/imgw/2021/s_d_t_400_2021.csv\n",
      "Adding SDT data from file: data/synop/imgw/2021/s_d_t_400_2021.csv\n"
     ]
    },
    {
     "name": "stderr",
     "output_type": "stream",
     "text": [
      "/tmp/ipykernel_711180/2355723765.py:10: SettingWithCopyWarning: \n",
      "A value is trying to be set on a copy of a slice from a DataFrame.\n",
      "Try using .loc[row_indexer,col_indexer] = value instead\n",
      "\n",
      "See the caveats in the documentation: https://pandas.pydata.org/pandas-docs/stable/user_guide/indexing.html#returning-a-view-versus-a-copy\n",
      "  df_clean['Date'] = df_clean.apply(lambda row: f\"{int(row['Year']):04d}-{int(row['Month']):02d}-{int(row['Day']):02d}\", axis=1)\n",
      "/tmp/ipykernel_711180/2355723765.py:31: SettingWithCopyWarning: \n",
      "A value is trying to be set on a copy of a slice from a DataFrame.\n",
      "Try using .loc[row_indexer,col_indexer] = value instead\n",
      "\n",
      "See the caveats in the documentation: https://pandas.pydata.org/pandas-docs/stable/user_guide/indexing.html#returning-a-view-versus-a-copy\n",
      "  df_clean['Date'] = df_clean.apply(lambda row: f\"{int(row['Year']):04d}-{int(row['Month']):02d}-{int(row['Day']):02d}\", axis=1)\n"
     ]
    },
    {
     "name": "stdout",
     "output_type": "stream",
     "text": [
      "Added SDT data from data/synop/imgw/2021/s_d_t_400_2021.csv\n",
      "Deleted file data/synop/imgw/2021/s_d_t_400_2021.csv\n",
      "Downloading and extracting ZIP from: https://danepubliczne.imgw.pl/data/dane_pomiarowo_obserwacyjne/dane_meteorologiczne/dobowe/synop/2021/2021_435_s.zip\n",
      "Downloaded data/synop/imgw/2021/2021_435_s.zip\n",
      "Extracted 2 files from data/synop/imgw/2021/2021_435_s.zip\n",
      "Deleted ZIP file data/synop/imgw/2021/2021_435_s.zip\n",
      "Processing file: data/synop/imgw/2021/s_d_435_2021.csv\n",
      "Adding SD data from file: data/synop/imgw/2021/s_d_435_2021.csv\n"
     ]
    },
    {
     "name": "stderr",
     "output_type": "stream",
     "text": [
      "/tmp/ipykernel_711180/2355723765.py:10: SettingWithCopyWarning: \n",
      "A value is trying to be set on a copy of a slice from a DataFrame.\n",
      "Try using .loc[row_indexer,col_indexer] = value instead\n",
      "\n",
      "See the caveats in the documentation: https://pandas.pydata.org/pandas-docs/stable/user_guide/indexing.html#returning-a-view-versus-a-copy\n",
      "  df_clean['Date'] = df_clean.apply(lambda row: f\"{int(row['Year']):04d}-{int(row['Month']):02d}-{int(row['Day']):02d}\", axis=1)\n",
      "/tmp/ipykernel_711180/2355723765.py:31: SettingWithCopyWarning: \n",
      "A value is trying to be set on a copy of a slice from a DataFrame.\n",
      "Try using .loc[row_indexer,col_indexer] = value instead\n",
      "\n",
      "See the caveats in the documentation: https://pandas.pydata.org/pandas-docs/stable/user_guide/indexing.html#returning-a-view-versus-a-copy\n",
      "  df_clean['Date'] = df_clean.apply(lambda row: f\"{int(row['Year']):04d}-{int(row['Month']):02d}-{int(row['Day']):02d}\", axis=1)\n"
     ]
    },
    {
     "name": "stdout",
     "output_type": "stream",
     "text": [
      "Deleted file data/synop/imgw/2021/s_d_435_2021.csv\n",
      "Processing file: data/synop/imgw/2021/s_d_t_435_2021.csv\n",
      "Adding SDT data from file: data/synop/imgw/2021/s_d_t_435_2021.csv\n",
      "Added SDT data from data/synop/imgw/2021/s_d_t_435_2021.csv\n",
      "Deleted file data/synop/imgw/2021/s_d_t_435_2021.csv\n",
      "Downloading and extracting ZIP from: https://danepubliczne.imgw.pl/data/dane_pomiarowo_obserwacyjne/dane_meteorologiczne/dobowe/synop/2021/2021_465_s.zip\n",
      "Downloaded data/synop/imgw/2021/2021_465_s.zip\n",
      "Extracted 2 files from data/synop/imgw/2021/2021_465_s.zip\n",
      "Deleted ZIP file data/synop/imgw/2021/2021_465_s.zip\n",
      "Processing file: data/synop/imgw/2021/s_d_465_2021.csv\n",
      "Adding SD data from file: data/synop/imgw/2021/s_d_465_2021.csv\n"
     ]
    },
    {
     "name": "stderr",
     "output_type": "stream",
     "text": [
      "/tmp/ipykernel_711180/2355723765.py:10: SettingWithCopyWarning: \n",
      "A value is trying to be set on a copy of a slice from a DataFrame.\n",
      "Try using .loc[row_indexer,col_indexer] = value instead\n",
      "\n",
      "See the caveats in the documentation: https://pandas.pydata.org/pandas-docs/stable/user_guide/indexing.html#returning-a-view-versus-a-copy\n",
      "  df_clean['Date'] = df_clean.apply(lambda row: f\"{int(row['Year']):04d}-{int(row['Month']):02d}-{int(row['Day']):02d}\", axis=1)\n",
      "/tmp/ipykernel_711180/2355723765.py:31: SettingWithCopyWarning: \n",
      "A value is trying to be set on a copy of a slice from a DataFrame.\n",
      "Try using .loc[row_indexer,col_indexer] = value instead\n",
      "\n",
      "See the caveats in the documentation: https://pandas.pydata.org/pandas-docs/stable/user_guide/indexing.html#returning-a-view-versus-a-copy\n",
      "  df_clean['Date'] = df_clean.apply(lambda row: f\"{int(row['Year']):04d}-{int(row['Month']):02d}-{int(row['Day']):02d}\", axis=1)\n"
     ]
    },
    {
     "name": "stdout",
     "output_type": "stream",
     "text": [
      "Deleted file data/synop/imgw/2021/s_d_465_2021.csv\n",
      "Processing file: data/synop/imgw/2021/s_d_t_465_2021.csv\n",
      "Adding SDT data from file: data/synop/imgw/2021/s_d_t_465_2021.csv\n",
      "Added SDT data from data/synop/imgw/2021/s_d_t_465_2021.csv\n",
      "Deleted file data/synop/imgw/2021/s_d_t_465_2021.csv\n",
      "Downloading and extracting ZIP from: https://danepubliczne.imgw.pl/data/dane_pomiarowo_obserwacyjne/dane_meteorologiczne/dobowe/synop/2021/2021_497_s.zip\n",
      "Downloaded data/synop/imgw/2021/2021_497_s.zip\n",
      "Extracted 2 files from data/synop/imgw/2021/2021_497_s.zip\n",
      "Deleted ZIP file data/synop/imgw/2021/2021_497_s.zip\n",
      "Processing file: data/synop/imgw/2021/s_d_497_2021.csv\n",
      "Adding SD data from file: data/synop/imgw/2021/s_d_497_2021.csv\n"
     ]
    },
    {
     "name": "stderr",
     "output_type": "stream",
     "text": [
      "/tmp/ipykernel_711180/2355723765.py:10: SettingWithCopyWarning: \n",
      "A value is trying to be set on a copy of a slice from a DataFrame.\n",
      "Try using .loc[row_indexer,col_indexer] = value instead\n",
      "\n",
      "See the caveats in the documentation: https://pandas.pydata.org/pandas-docs/stable/user_guide/indexing.html#returning-a-view-versus-a-copy\n",
      "  df_clean['Date'] = df_clean.apply(lambda row: f\"{int(row['Year']):04d}-{int(row['Month']):02d}-{int(row['Day']):02d}\", axis=1)\n",
      "/tmp/ipykernel_711180/2355723765.py:31: SettingWithCopyWarning: \n",
      "A value is trying to be set on a copy of a slice from a DataFrame.\n",
      "Try using .loc[row_indexer,col_indexer] = value instead\n",
      "\n",
      "See the caveats in the documentation: https://pandas.pydata.org/pandas-docs/stable/user_guide/indexing.html#returning-a-view-versus-a-copy\n",
      "  df_clean['Date'] = df_clean.apply(lambda row: f\"{int(row['Year']):04d}-{int(row['Month']):02d}-{int(row['Day']):02d}\", axis=1)\n"
     ]
    },
    {
     "name": "stdout",
     "output_type": "stream",
     "text": [
      "Deleted file data/synop/imgw/2021/s_d_497_2021.csv\n",
      "Processing file: data/synop/imgw/2021/s_d_t_497_2021.csv\n",
      "Adding SDT data from file: data/synop/imgw/2021/s_d_t_497_2021.csv\n",
      "Added SDT data from data/synop/imgw/2021/s_d_t_497_2021.csv\n",
      "Deleted file data/synop/imgw/2021/s_d_t_497_2021.csv\n",
      "Downloading and extracting ZIP from: https://danepubliczne.imgw.pl/data/dane_pomiarowo_obserwacyjne/dane_meteorologiczne/dobowe/synop/2021/2021_500_s.zip\n",
      "Downloaded data/synop/imgw/2021/2021_500_s.zip\n",
      "Extracted 2 files from data/synop/imgw/2021/2021_500_s.zip\n",
      "Deleted ZIP file data/synop/imgw/2021/2021_500_s.zip\n",
      "Processing file: data/synop/imgw/2021/s_d_500_2021.csv\n",
      "Adding SD data from file: data/synop/imgw/2021/s_d_500_2021.csv\n"
     ]
    },
    {
     "name": "stderr",
     "output_type": "stream",
     "text": [
      "/tmp/ipykernel_711180/2355723765.py:10: SettingWithCopyWarning: \n",
      "A value is trying to be set on a copy of a slice from a DataFrame.\n",
      "Try using .loc[row_indexer,col_indexer] = value instead\n",
      "\n",
      "See the caveats in the documentation: https://pandas.pydata.org/pandas-docs/stable/user_guide/indexing.html#returning-a-view-versus-a-copy\n",
      "  df_clean['Date'] = df_clean.apply(lambda row: f\"{int(row['Year']):04d}-{int(row['Month']):02d}-{int(row['Day']):02d}\", axis=1)\n",
      "/tmp/ipykernel_711180/2355723765.py:31: SettingWithCopyWarning: \n",
      "A value is trying to be set on a copy of a slice from a DataFrame.\n",
      "Try using .loc[row_indexer,col_indexer] = value instead\n",
      "\n",
      "See the caveats in the documentation: https://pandas.pydata.org/pandas-docs/stable/user_guide/indexing.html#returning-a-view-versus-a-copy\n",
      "  df_clean['Date'] = df_clean.apply(lambda row: f\"{int(row['Year']):04d}-{int(row['Month']):02d}-{int(row['Day']):02d}\", axis=1)\n"
     ]
    },
    {
     "name": "stdout",
     "output_type": "stream",
     "text": [
      "Deleted file data/synop/imgw/2021/s_d_500_2021.csv\n",
      "Processing file: data/synop/imgw/2021/s_d_t_500_2021.csv\n",
      "Adding SDT data from file: data/synop/imgw/2021/s_d_t_500_2021.csv\n",
      "Added SDT data from data/synop/imgw/2021/s_d_t_500_2021.csv\n",
      "Deleted file data/synop/imgw/2021/s_d_t_500_2021.csv\n",
      "Downloading and extracting ZIP from: https://danepubliczne.imgw.pl/data/dane_pomiarowo_obserwacyjne/dane_meteorologiczne/dobowe/synop/2021/2021_510_s.zip\n",
      "Downloaded data/synop/imgw/2021/2021_510_s.zip\n",
      "Extracted 2 files from data/synop/imgw/2021/2021_510_s.zip\n",
      "Deleted ZIP file data/synop/imgw/2021/2021_510_s.zip\n",
      "Processing file: data/synop/imgw/2021/s_d_510_2021.csv\n",
      "Adding SD data from file: data/synop/imgw/2021/s_d_510_2021.csv\n",
      "Deleted file data/synop/imgw/2021/s_d_510_2021.csv\n",
      "Processing file: data/synop/imgw/2021/s_d_t_510_2021.csv\n",
      "Adding SDT data from file: data/synop/imgw/2021/s_d_t_510_2021.csv\n"
     ]
    },
    {
     "name": "stderr",
     "output_type": "stream",
     "text": [
      "/tmp/ipykernel_711180/2355723765.py:10: SettingWithCopyWarning: \n",
      "A value is trying to be set on a copy of a slice from a DataFrame.\n",
      "Try using .loc[row_indexer,col_indexer] = value instead\n",
      "\n",
      "See the caveats in the documentation: https://pandas.pydata.org/pandas-docs/stable/user_guide/indexing.html#returning-a-view-versus-a-copy\n",
      "  df_clean['Date'] = df_clean.apply(lambda row: f\"{int(row['Year']):04d}-{int(row['Month']):02d}-{int(row['Day']):02d}\", axis=1)\n",
      "/tmp/ipykernel_711180/2355723765.py:31: SettingWithCopyWarning: \n",
      "A value is trying to be set on a copy of a slice from a DataFrame.\n",
      "Try using .loc[row_indexer,col_indexer] = value instead\n",
      "\n",
      "See the caveats in the documentation: https://pandas.pydata.org/pandas-docs/stable/user_guide/indexing.html#returning-a-view-versus-a-copy\n",
      "  df_clean['Date'] = df_clean.apply(lambda row: f\"{int(row['Year']):04d}-{int(row['Month']):02d}-{int(row['Day']):02d}\", axis=1)\n"
     ]
    },
    {
     "name": "stdout",
     "output_type": "stream",
     "text": [
      "Added SDT data from data/synop/imgw/2021/s_d_t_510_2021.csv\n",
      "Deleted file data/synop/imgw/2021/s_d_t_510_2021.csv\n",
      "Downloading and extracting ZIP from: https://danepubliczne.imgw.pl/data/dane_pomiarowo_obserwacyjne/dane_meteorologiczne/dobowe/synop/2021/2021_520_s.zip\n",
      "Downloaded data/synop/imgw/2021/2021_520_s.zip\n",
      "Extracted 2 files from data/synop/imgw/2021/2021_520_s.zip\n",
      "Deleted ZIP file data/synop/imgw/2021/2021_520_s.zip\n",
      "Processing file: data/synop/imgw/2021/s_d_520_2021.csv\n",
      "Adding SD data from file: data/synop/imgw/2021/s_d_520_2021.csv\n"
     ]
    },
    {
     "name": "stderr",
     "output_type": "stream",
     "text": [
      "/tmp/ipykernel_711180/2355723765.py:10: SettingWithCopyWarning: \n",
      "A value is trying to be set on a copy of a slice from a DataFrame.\n",
      "Try using .loc[row_indexer,col_indexer] = value instead\n",
      "\n",
      "See the caveats in the documentation: https://pandas.pydata.org/pandas-docs/stable/user_guide/indexing.html#returning-a-view-versus-a-copy\n",
      "  df_clean['Date'] = df_clean.apply(lambda row: f\"{int(row['Year']):04d}-{int(row['Month']):02d}-{int(row['Day']):02d}\", axis=1)\n",
      "/tmp/ipykernel_711180/2355723765.py:31: SettingWithCopyWarning: \n",
      "A value is trying to be set on a copy of a slice from a DataFrame.\n",
      "Try using .loc[row_indexer,col_indexer] = value instead\n",
      "\n",
      "See the caveats in the documentation: https://pandas.pydata.org/pandas-docs/stable/user_guide/indexing.html#returning-a-view-versus-a-copy\n",
      "  df_clean['Date'] = df_clean.apply(lambda row: f\"{int(row['Year']):04d}-{int(row['Month']):02d}-{int(row['Day']):02d}\", axis=1)\n"
     ]
    },
    {
     "name": "stdout",
     "output_type": "stream",
     "text": [
      "Deleted file data/synop/imgw/2021/s_d_520_2021.csv\n",
      "Processing file: data/synop/imgw/2021/s_d_t_520_2021.csv\n",
      "Adding SDT data from file: data/synop/imgw/2021/s_d_t_520_2021.csv\n",
      "Added SDT data from data/synop/imgw/2021/s_d_t_520_2021.csv\n",
      "Deleted file data/synop/imgw/2021/s_d_t_520_2021.csv\n",
      "Downloading and extracting ZIP from: https://danepubliczne.imgw.pl/data/dane_pomiarowo_obserwacyjne/dane_meteorologiczne/dobowe/synop/2021/2021_530_s.zip\n",
      "Downloaded data/synop/imgw/2021/2021_530_s.zip\n",
      "Extracted 2 files from data/synop/imgw/2021/2021_530_s.zip\n",
      "Deleted ZIP file data/synop/imgw/2021/2021_530_s.zip\n",
      "Processing file: data/synop/imgw/2021/s_d_530_2021.csv\n",
      "Adding SD data from file: data/synop/imgw/2021/s_d_530_2021.csv\n"
     ]
    },
    {
     "name": "stderr",
     "output_type": "stream",
     "text": [
      "/tmp/ipykernel_711180/2355723765.py:10: SettingWithCopyWarning: \n",
      "A value is trying to be set on a copy of a slice from a DataFrame.\n",
      "Try using .loc[row_indexer,col_indexer] = value instead\n",
      "\n",
      "See the caveats in the documentation: https://pandas.pydata.org/pandas-docs/stable/user_guide/indexing.html#returning-a-view-versus-a-copy\n",
      "  df_clean['Date'] = df_clean.apply(lambda row: f\"{int(row['Year']):04d}-{int(row['Month']):02d}-{int(row['Day']):02d}\", axis=1)\n",
      "/tmp/ipykernel_711180/2355723765.py:31: SettingWithCopyWarning: \n",
      "A value is trying to be set on a copy of a slice from a DataFrame.\n",
      "Try using .loc[row_indexer,col_indexer] = value instead\n",
      "\n",
      "See the caveats in the documentation: https://pandas.pydata.org/pandas-docs/stable/user_guide/indexing.html#returning-a-view-versus-a-copy\n",
      "  df_clean['Date'] = df_clean.apply(lambda row: f\"{int(row['Year']):04d}-{int(row['Month']):02d}-{int(row['Day']):02d}\", axis=1)\n"
     ]
    },
    {
     "name": "stdout",
     "output_type": "stream",
     "text": [
      "Deleted file data/synop/imgw/2021/s_d_530_2021.csv\n",
      "Processing file: data/synop/imgw/2021/s_d_t_530_2021.csv\n",
      "Adding SDT data from file: data/synop/imgw/2021/s_d_t_530_2021.csv\n",
      "Added SDT data from data/synop/imgw/2021/s_d_t_530_2021.csv\n",
      "Deleted file data/synop/imgw/2021/s_d_t_530_2021.csv\n",
      "Downloading and extracting ZIP from: https://danepubliczne.imgw.pl/data/dane_pomiarowo_obserwacyjne/dane_meteorologiczne/dobowe/synop/2021/2021_560_s.zip\n",
      "Downloaded data/synop/imgw/2021/2021_560_s.zip\n",
      "Extracted 2 files from data/synop/imgw/2021/2021_560_s.zip\n",
      "Deleted ZIP file data/synop/imgw/2021/2021_560_s.zip\n",
      "Processing file: data/synop/imgw/2021/s_d_560_2021.csv\n",
      "Adding SD data from file: data/synop/imgw/2021/s_d_560_2021.csv\n"
     ]
    },
    {
     "name": "stderr",
     "output_type": "stream",
     "text": [
      "/tmp/ipykernel_711180/2355723765.py:10: SettingWithCopyWarning: \n",
      "A value is trying to be set on a copy of a slice from a DataFrame.\n",
      "Try using .loc[row_indexer,col_indexer] = value instead\n",
      "\n",
      "See the caveats in the documentation: https://pandas.pydata.org/pandas-docs/stable/user_guide/indexing.html#returning-a-view-versus-a-copy\n",
      "  df_clean['Date'] = df_clean.apply(lambda row: f\"{int(row['Year']):04d}-{int(row['Month']):02d}-{int(row['Day']):02d}\", axis=1)\n",
      "/tmp/ipykernel_711180/2355723765.py:31: SettingWithCopyWarning: \n",
      "A value is trying to be set on a copy of a slice from a DataFrame.\n",
      "Try using .loc[row_indexer,col_indexer] = value instead\n",
      "\n",
      "See the caveats in the documentation: https://pandas.pydata.org/pandas-docs/stable/user_guide/indexing.html#returning-a-view-versus-a-copy\n",
      "  df_clean['Date'] = df_clean.apply(lambda row: f\"{int(row['Year']):04d}-{int(row['Month']):02d}-{int(row['Day']):02d}\", axis=1)\n"
     ]
    },
    {
     "name": "stdout",
     "output_type": "stream",
     "text": [
      "Deleted file data/synop/imgw/2021/s_d_560_2021.csv\n",
      "Processing file: data/synop/imgw/2021/s_d_t_560_2021.csv\n",
      "Adding SDT data from file: data/synop/imgw/2021/s_d_t_560_2021.csv\n",
      "Added SDT data from data/synop/imgw/2021/s_d_t_560_2021.csv\n",
      "Deleted file data/synop/imgw/2021/s_d_t_560_2021.csv\n",
      "Downloading and extracting ZIP from: https://danepubliczne.imgw.pl/data/dane_pomiarowo_obserwacyjne/dane_meteorologiczne/dobowe/synop/2021/2021_566_s.zip\n",
      "Downloaded data/synop/imgw/2021/2021_566_s.zip\n",
      "Extracted 2 files from data/synop/imgw/2021/2021_566_s.zip\n",
      "Deleted ZIP file data/synop/imgw/2021/2021_566_s.zip\n",
      "Processing file: data/synop/imgw/2021/s_d_566_2021.csv\n",
      "Adding SD data from file: data/synop/imgw/2021/s_d_566_2021.csv\n"
     ]
    },
    {
     "name": "stderr",
     "output_type": "stream",
     "text": [
      "/tmp/ipykernel_711180/2355723765.py:10: SettingWithCopyWarning: \n",
      "A value is trying to be set on a copy of a slice from a DataFrame.\n",
      "Try using .loc[row_indexer,col_indexer] = value instead\n",
      "\n",
      "See the caveats in the documentation: https://pandas.pydata.org/pandas-docs/stable/user_guide/indexing.html#returning-a-view-versus-a-copy\n",
      "  df_clean['Date'] = df_clean.apply(lambda row: f\"{int(row['Year']):04d}-{int(row['Month']):02d}-{int(row['Day']):02d}\", axis=1)\n",
      "/tmp/ipykernel_711180/2355723765.py:31: SettingWithCopyWarning: \n",
      "A value is trying to be set on a copy of a slice from a DataFrame.\n",
      "Try using .loc[row_indexer,col_indexer] = value instead\n",
      "\n",
      "See the caveats in the documentation: https://pandas.pydata.org/pandas-docs/stable/user_guide/indexing.html#returning-a-view-versus-a-copy\n",
      "  df_clean['Date'] = df_clean.apply(lambda row: f\"{int(row['Year']):04d}-{int(row['Month']):02d}-{int(row['Day']):02d}\", axis=1)\n"
     ]
    },
    {
     "name": "stdout",
     "output_type": "stream",
     "text": [
      "Deleted file data/synop/imgw/2021/s_d_566_2021.csv\n",
      "Processing file: data/synop/imgw/2021/s_d_t_566_2021.csv\n",
      "Adding SDT data from file: data/synop/imgw/2021/s_d_t_566_2021.csv\n",
      "Added SDT data from data/synop/imgw/2021/s_d_t_566_2021.csv\n",
      "Deleted file data/synop/imgw/2021/s_d_t_566_2021.csv\n",
      "Downloading and extracting ZIP from: https://danepubliczne.imgw.pl/data/dane_pomiarowo_obserwacyjne/dane_meteorologiczne/dobowe/synop/2021/2021_625_s.zip\n",
      "Downloaded data/synop/imgw/2021/2021_625_s.zip\n",
      "Extracted 2 files from data/synop/imgw/2021/2021_625_s.zip\n",
      "Deleted ZIP file data/synop/imgw/2021/2021_625_s.zip\n",
      "Processing file: data/synop/imgw/2021/s_d_625_2021.csv\n",
      "Adding SD data from file: data/synop/imgw/2021/s_d_625_2021.csv\n"
     ]
    },
    {
     "name": "stderr",
     "output_type": "stream",
     "text": [
      "/tmp/ipykernel_711180/2355723765.py:10: SettingWithCopyWarning: \n",
      "A value is trying to be set on a copy of a slice from a DataFrame.\n",
      "Try using .loc[row_indexer,col_indexer] = value instead\n",
      "\n",
      "See the caveats in the documentation: https://pandas.pydata.org/pandas-docs/stable/user_guide/indexing.html#returning-a-view-versus-a-copy\n",
      "  df_clean['Date'] = df_clean.apply(lambda row: f\"{int(row['Year']):04d}-{int(row['Month']):02d}-{int(row['Day']):02d}\", axis=1)\n",
      "/tmp/ipykernel_711180/2355723765.py:31: SettingWithCopyWarning: \n",
      "A value is trying to be set on a copy of a slice from a DataFrame.\n",
      "Try using .loc[row_indexer,col_indexer] = value instead\n",
      "\n",
      "See the caveats in the documentation: https://pandas.pydata.org/pandas-docs/stable/user_guide/indexing.html#returning-a-view-versus-a-copy\n",
      "  df_clean['Date'] = df_clean.apply(lambda row: f\"{int(row['Year']):04d}-{int(row['Month']):02d}-{int(row['Day']):02d}\", axis=1)\n"
     ]
    },
    {
     "name": "stdout",
     "output_type": "stream",
     "text": [
      "Deleted file data/synop/imgw/2021/s_d_625_2021.csv\n",
      "Processing file: data/synop/imgw/2021/s_d_t_625_2021.csv\n",
      "Adding SDT data from file: data/synop/imgw/2021/s_d_t_625_2021.csv\n",
      "Added SDT data from data/synop/imgw/2021/s_d_t_625_2021.csv\n",
      "Deleted file data/synop/imgw/2021/s_d_t_625_2021.csv\n",
      "Downloading and extracting ZIP from: https://danepubliczne.imgw.pl/data/dane_pomiarowo_obserwacyjne/dane_meteorologiczne/dobowe/synop/2021/2021_650_s.zip\n",
      "Downloaded data/synop/imgw/2021/2021_650_s.zip\n",
      "Extracted 2 files from data/synop/imgw/2021/2021_650_s.zip\n",
      "Deleted ZIP file data/synop/imgw/2021/2021_650_s.zip\n",
      "Processing file: data/synop/imgw/2021/s_d_650_2021.csv\n",
      "Adding SD data from file: data/synop/imgw/2021/s_d_650_2021.csv\n"
     ]
    },
    {
     "name": "stderr",
     "output_type": "stream",
     "text": [
      "/tmp/ipykernel_711180/2355723765.py:10: SettingWithCopyWarning: \n",
      "A value is trying to be set on a copy of a slice from a DataFrame.\n",
      "Try using .loc[row_indexer,col_indexer] = value instead\n",
      "\n",
      "See the caveats in the documentation: https://pandas.pydata.org/pandas-docs/stable/user_guide/indexing.html#returning-a-view-versus-a-copy\n",
      "  df_clean['Date'] = df_clean.apply(lambda row: f\"{int(row['Year']):04d}-{int(row['Month']):02d}-{int(row['Day']):02d}\", axis=1)\n",
      "/tmp/ipykernel_711180/2355723765.py:31: SettingWithCopyWarning: \n",
      "A value is trying to be set on a copy of a slice from a DataFrame.\n",
      "Try using .loc[row_indexer,col_indexer] = value instead\n",
      "\n",
      "See the caveats in the documentation: https://pandas.pydata.org/pandas-docs/stable/user_guide/indexing.html#returning-a-view-versus-a-copy\n",
      "  df_clean['Date'] = df_clean.apply(lambda row: f\"{int(row['Year']):04d}-{int(row['Month']):02d}-{int(row['Day']):02d}\", axis=1)\n"
     ]
    },
    {
     "name": "stdout",
     "output_type": "stream",
     "text": [
      "Deleted file data/synop/imgw/2021/s_d_650_2021.csv\n",
      "Processing file: data/synop/imgw/2021/s_d_t_650_2021.csv\n",
      "Adding SDT data from file: data/synop/imgw/2021/s_d_t_650_2021.csv\n",
      "Added SDT data from data/synop/imgw/2021/s_d_t_650_2021.csv\n",
      "Deleted file data/synop/imgw/2021/s_d_t_650_2021.csv\n",
      "Downloading and extracting ZIP from: https://danepubliczne.imgw.pl/data/dane_pomiarowo_obserwacyjne/dane_meteorologiczne/dobowe/synop/2021/2021_690_s.zip\n",
      "Downloaded data/synop/imgw/2021/2021_690_s.zip\n",
      "Extracted 2 files from data/synop/imgw/2021/2021_690_s.zip\n",
      "Deleted ZIP file data/synop/imgw/2021/2021_690_s.zip\n",
      "Processing file: data/synop/imgw/2021/s_d_690_2021.csv\n",
      "Adding SD data from file: data/synop/imgw/2021/s_d_690_2021.csv\n"
     ]
    },
    {
     "name": "stderr",
     "output_type": "stream",
     "text": [
      "/tmp/ipykernel_711180/2355723765.py:10: SettingWithCopyWarning: \n",
      "A value is trying to be set on a copy of a slice from a DataFrame.\n",
      "Try using .loc[row_indexer,col_indexer] = value instead\n",
      "\n",
      "See the caveats in the documentation: https://pandas.pydata.org/pandas-docs/stable/user_guide/indexing.html#returning-a-view-versus-a-copy\n",
      "  df_clean['Date'] = df_clean.apply(lambda row: f\"{int(row['Year']):04d}-{int(row['Month']):02d}-{int(row['Day']):02d}\", axis=1)\n",
      "/tmp/ipykernel_711180/2355723765.py:31: SettingWithCopyWarning: \n",
      "A value is trying to be set on a copy of a slice from a DataFrame.\n",
      "Try using .loc[row_indexer,col_indexer] = value instead\n",
      "\n",
      "See the caveats in the documentation: https://pandas.pydata.org/pandas-docs/stable/user_guide/indexing.html#returning-a-view-versus-a-copy\n",
      "  df_clean['Date'] = df_clean.apply(lambda row: f\"{int(row['Year']):04d}-{int(row['Month']):02d}-{int(row['Day']):02d}\", axis=1)\n"
     ]
    },
    {
     "name": "stdout",
     "output_type": "stream",
     "text": [
      "Deleted file data/synop/imgw/2021/s_d_690_2021.csv\n",
      "Processing file: data/synop/imgw/2021/s_d_t_690_2021.csv\n",
      "Adding SDT data from file: data/synop/imgw/2021/s_d_t_690_2021.csv\n",
      "Added SDT data from data/synop/imgw/2021/s_d_t_690_2021.csv\n",
      "Deleted file data/synop/imgw/2021/s_d_t_690_2021.csv\n",
      "Processed data for year 2021\n",
      "Fetching ZIP URLs from: https://danepubliczne.imgw.pl/data/dane_pomiarowo_obserwacyjne/dane_meteorologiczne/dobowe/synop/2022/\n",
      "Found 58 ZIP URLs\n",
      "Relevant ZIP URLs: ['https://danepubliczne.imgw.pl/data/dane_pomiarowo_obserwacyjne/dane_meteorologiczne/dobowe/synop/2022/2022_100_s.zip', 'https://danepubliczne.imgw.pl/data/dane_pomiarowo_obserwacyjne/dane_meteorologiczne/dobowe/synop/2022/2022_105_s.zip', 'https://danepubliczne.imgw.pl/data/dane_pomiarowo_obserwacyjne/dane_meteorologiczne/dobowe/synop/2022/2022_195_s.zip', 'https://danepubliczne.imgw.pl/data/dane_pomiarowo_obserwacyjne/dane_meteorologiczne/dobowe/synop/2022/2022_205_s.zip', 'https://danepubliczne.imgw.pl/data/dane_pomiarowo_obserwacyjne/dane_meteorologiczne/dobowe/synop/2022/2022_235_s.zip', 'https://danepubliczne.imgw.pl/data/dane_pomiarowo_obserwacyjne/dane_meteorologiczne/dobowe/synop/2022/2022_250_s.zip', 'https://danepubliczne.imgw.pl/data/dane_pomiarowo_obserwacyjne/dane_meteorologiczne/dobowe/synop/2022/2022_280_s.zip', 'https://danepubliczne.imgw.pl/data/dane_pomiarowo_obserwacyjne/dane_meteorologiczne/dobowe/synop/2022/2022_295_s.zip', 'https://danepubliczne.imgw.pl/data/dane_pomiarowo_obserwacyjne/dane_meteorologiczne/dobowe/synop/2022/2022_300_s.zip', 'https://danepubliczne.imgw.pl/data/dane_pomiarowo_obserwacyjne/dane_meteorologiczne/dobowe/synop/2022/2022_330_s.zip', 'https://danepubliczne.imgw.pl/data/dane_pomiarowo_obserwacyjne/dane_meteorologiczne/dobowe/synop/2022/2022_375_s.zip', 'https://danepubliczne.imgw.pl/data/dane_pomiarowo_obserwacyjne/dane_meteorologiczne/dobowe/synop/2022/2022_399_s.zip', 'https://danepubliczne.imgw.pl/data/dane_pomiarowo_obserwacyjne/dane_meteorologiczne/dobowe/synop/2022/2022_400_s.zip', 'https://danepubliczne.imgw.pl/data/dane_pomiarowo_obserwacyjne/dane_meteorologiczne/dobowe/synop/2022/2022_435_s.zip', 'https://danepubliczne.imgw.pl/data/dane_pomiarowo_obserwacyjne/dane_meteorologiczne/dobowe/synop/2022/2022_465_s.zip', 'https://danepubliczne.imgw.pl/data/dane_pomiarowo_obserwacyjne/dane_meteorologiczne/dobowe/synop/2022/2022_497_s.zip', 'https://danepubliczne.imgw.pl/data/dane_pomiarowo_obserwacyjne/dane_meteorologiczne/dobowe/synop/2022/2022_500_s.zip', 'https://danepubliczne.imgw.pl/data/dane_pomiarowo_obserwacyjne/dane_meteorologiczne/dobowe/synop/2022/2022_510_s.zip', 'https://danepubliczne.imgw.pl/data/dane_pomiarowo_obserwacyjne/dane_meteorologiczne/dobowe/synop/2022/2022_520_s.zip', 'https://danepubliczne.imgw.pl/data/dane_pomiarowo_obserwacyjne/dane_meteorologiczne/dobowe/synop/2022/2022_530_s.zip', 'https://danepubliczne.imgw.pl/data/dane_pomiarowo_obserwacyjne/dane_meteorologiczne/dobowe/synop/2022/2022_560_s.zip', 'https://danepubliczne.imgw.pl/data/dane_pomiarowo_obserwacyjne/dane_meteorologiczne/dobowe/synop/2022/2022_566_s.zip', 'https://danepubliczne.imgw.pl/data/dane_pomiarowo_obserwacyjne/dane_meteorologiczne/dobowe/synop/2022/2022_625_s.zip', 'https://danepubliczne.imgw.pl/data/dane_pomiarowo_obserwacyjne/dane_meteorologiczne/dobowe/synop/2022/2022_650_s.zip', 'https://danepubliczne.imgw.pl/data/dane_pomiarowo_obserwacyjne/dane_meteorologiczne/dobowe/synop/2022/2022_690_s.zip']\n",
      "Downloading and extracting ZIP from: https://danepubliczne.imgw.pl/data/dane_pomiarowo_obserwacyjne/dane_meteorologiczne/dobowe/synop/2022/2022_100_s.zip\n",
      "Downloaded data/synop/imgw/2022/2022_100_s.zip\n",
      "Extracted 2 files from data/synop/imgw/2022/2022_100_s.zip\n",
      "Deleted ZIP file data/synop/imgw/2022/2022_100_s.zip\n",
      "Processing file: data/synop/imgw/2022/s_d_100_2022.csv\n",
      "Adding SD data from file: data/synop/imgw/2022/s_d_100_2022.csv\n"
     ]
    },
    {
     "name": "stderr",
     "output_type": "stream",
     "text": [
      "/tmp/ipykernel_711180/2355723765.py:10: SettingWithCopyWarning: \n",
      "A value is trying to be set on a copy of a slice from a DataFrame.\n",
      "Try using .loc[row_indexer,col_indexer] = value instead\n",
      "\n",
      "See the caveats in the documentation: https://pandas.pydata.org/pandas-docs/stable/user_guide/indexing.html#returning-a-view-versus-a-copy\n",
      "  df_clean['Date'] = df_clean.apply(lambda row: f\"{int(row['Year']):04d}-{int(row['Month']):02d}-{int(row['Day']):02d}\", axis=1)\n",
      "/tmp/ipykernel_711180/2355723765.py:31: SettingWithCopyWarning: \n",
      "A value is trying to be set on a copy of a slice from a DataFrame.\n",
      "Try using .loc[row_indexer,col_indexer] = value instead\n",
      "\n",
      "See the caveats in the documentation: https://pandas.pydata.org/pandas-docs/stable/user_guide/indexing.html#returning-a-view-versus-a-copy\n",
      "  df_clean['Date'] = df_clean.apply(lambda row: f\"{int(row['Year']):04d}-{int(row['Month']):02d}-{int(row['Day']):02d}\", axis=1)\n"
     ]
    },
    {
     "name": "stdout",
     "output_type": "stream",
     "text": [
      "Deleted file data/synop/imgw/2022/s_d_100_2022.csv\n",
      "Processing file: data/synop/imgw/2022/s_d_t_100_2022.csv\n",
      "Adding SDT data from file: data/synop/imgw/2022/s_d_t_100_2022.csv\n",
      "Added SDT data from data/synop/imgw/2022/s_d_t_100_2022.csv\n",
      "Deleted file data/synop/imgw/2022/s_d_t_100_2022.csv\n",
      "Downloading and extracting ZIP from: https://danepubliczne.imgw.pl/data/dane_pomiarowo_obserwacyjne/dane_meteorologiczne/dobowe/synop/2022/2022_105_s.zip\n",
      "Downloaded data/synop/imgw/2022/2022_105_s.zip\n",
      "Extracted 2 files from data/synop/imgw/2022/2022_105_s.zip\n",
      "Deleted ZIP file data/synop/imgw/2022/2022_105_s.zip\n",
      "Processing file: data/synop/imgw/2022/s_d_105_2022.csv\n",
      "Adding SD data from file: data/synop/imgw/2022/s_d_105_2022.csv\n"
     ]
    },
    {
     "name": "stderr",
     "output_type": "stream",
     "text": [
      "/tmp/ipykernel_711180/2355723765.py:10: SettingWithCopyWarning: \n",
      "A value is trying to be set on a copy of a slice from a DataFrame.\n",
      "Try using .loc[row_indexer,col_indexer] = value instead\n",
      "\n",
      "See the caveats in the documentation: https://pandas.pydata.org/pandas-docs/stable/user_guide/indexing.html#returning-a-view-versus-a-copy\n",
      "  df_clean['Date'] = df_clean.apply(lambda row: f\"{int(row['Year']):04d}-{int(row['Month']):02d}-{int(row['Day']):02d}\", axis=1)\n",
      "/tmp/ipykernel_711180/2355723765.py:31: SettingWithCopyWarning: \n",
      "A value is trying to be set on a copy of a slice from a DataFrame.\n",
      "Try using .loc[row_indexer,col_indexer] = value instead\n",
      "\n",
      "See the caveats in the documentation: https://pandas.pydata.org/pandas-docs/stable/user_guide/indexing.html#returning-a-view-versus-a-copy\n",
      "  df_clean['Date'] = df_clean.apply(lambda row: f\"{int(row['Year']):04d}-{int(row['Month']):02d}-{int(row['Day']):02d}\", axis=1)\n"
     ]
    },
    {
     "name": "stdout",
     "output_type": "stream",
     "text": [
      "Deleted file data/synop/imgw/2022/s_d_105_2022.csv\n",
      "Processing file: data/synop/imgw/2022/s_d_t_105_2022.csv\n",
      "Adding SDT data from file: data/synop/imgw/2022/s_d_t_105_2022.csv\n",
      "Added SDT data from data/synop/imgw/2022/s_d_t_105_2022.csv\n",
      "Deleted file data/synop/imgw/2022/s_d_t_105_2022.csv\n",
      "Downloading and extracting ZIP from: https://danepubliczne.imgw.pl/data/dane_pomiarowo_obserwacyjne/dane_meteorologiczne/dobowe/synop/2022/2022_195_s.zip\n",
      "Downloaded data/synop/imgw/2022/2022_195_s.zip\n",
      "Extracted 2 files from data/synop/imgw/2022/2022_195_s.zip\n",
      "Deleted ZIP file data/synop/imgw/2022/2022_195_s.zip\n",
      "Processing file: data/synop/imgw/2022/s_d_195_2022.csv\n",
      "Adding SD data from file: data/synop/imgw/2022/s_d_195_2022.csv\n"
     ]
    },
    {
     "name": "stderr",
     "output_type": "stream",
     "text": [
      "/tmp/ipykernel_711180/2355723765.py:10: SettingWithCopyWarning: \n",
      "A value is trying to be set on a copy of a slice from a DataFrame.\n",
      "Try using .loc[row_indexer,col_indexer] = value instead\n",
      "\n",
      "See the caveats in the documentation: https://pandas.pydata.org/pandas-docs/stable/user_guide/indexing.html#returning-a-view-versus-a-copy\n",
      "  df_clean['Date'] = df_clean.apply(lambda row: f\"{int(row['Year']):04d}-{int(row['Month']):02d}-{int(row['Day']):02d}\", axis=1)\n",
      "/tmp/ipykernel_711180/2355723765.py:31: SettingWithCopyWarning: \n",
      "A value is trying to be set on a copy of a slice from a DataFrame.\n",
      "Try using .loc[row_indexer,col_indexer] = value instead\n",
      "\n",
      "See the caveats in the documentation: https://pandas.pydata.org/pandas-docs/stable/user_guide/indexing.html#returning-a-view-versus-a-copy\n",
      "  df_clean['Date'] = df_clean.apply(lambda row: f\"{int(row['Year']):04d}-{int(row['Month']):02d}-{int(row['Day']):02d}\", axis=1)\n"
     ]
    },
    {
     "name": "stdout",
     "output_type": "stream",
     "text": [
      "Deleted file data/synop/imgw/2022/s_d_195_2022.csv\n",
      "Processing file: data/synop/imgw/2022/s_d_t_195_2022.csv\n",
      "Adding SDT data from file: data/synop/imgw/2022/s_d_t_195_2022.csv\n",
      "Added SDT data from data/synop/imgw/2022/s_d_t_195_2022.csv\n",
      "Deleted file data/synop/imgw/2022/s_d_t_195_2022.csv\n",
      "Downloading and extracting ZIP from: https://danepubliczne.imgw.pl/data/dane_pomiarowo_obserwacyjne/dane_meteorologiczne/dobowe/synop/2022/2022_205_s.zip\n",
      "Downloaded data/synop/imgw/2022/2022_205_s.zip\n",
      "Extracted 2 files from data/synop/imgw/2022/2022_205_s.zip\n",
      "Deleted ZIP file data/synop/imgw/2022/2022_205_s.zip\n",
      "Processing file: data/synop/imgw/2022/s_d_205_2022.csv\n",
      "Adding SD data from file: data/synop/imgw/2022/s_d_205_2022.csv\n"
     ]
    },
    {
     "name": "stderr",
     "output_type": "stream",
     "text": [
      "/tmp/ipykernel_711180/2355723765.py:10: SettingWithCopyWarning: \n",
      "A value is trying to be set on a copy of a slice from a DataFrame.\n",
      "Try using .loc[row_indexer,col_indexer] = value instead\n",
      "\n",
      "See the caveats in the documentation: https://pandas.pydata.org/pandas-docs/stable/user_guide/indexing.html#returning-a-view-versus-a-copy\n",
      "  df_clean['Date'] = df_clean.apply(lambda row: f\"{int(row['Year']):04d}-{int(row['Month']):02d}-{int(row['Day']):02d}\", axis=1)\n",
      "/tmp/ipykernel_711180/2355723765.py:31: SettingWithCopyWarning: \n",
      "A value is trying to be set on a copy of a slice from a DataFrame.\n",
      "Try using .loc[row_indexer,col_indexer] = value instead\n",
      "\n",
      "See the caveats in the documentation: https://pandas.pydata.org/pandas-docs/stable/user_guide/indexing.html#returning-a-view-versus-a-copy\n",
      "  df_clean['Date'] = df_clean.apply(lambda row: f\"{int(row['Year']):04d}-{int(row['Month']):02d}-{int(row['Day']):02d}\", axis=1)\n"
     ]
    },
    {
     "name": "stdout",
     "output_type": "stream",
     "text": [
      "Deleted file data/synop/imgw/2022/s_d_205_2022.csv\n",
      "Processing file: data/synop/imgw/2022/s_d_t_205_2022.csv\n",
      "Adding SDT data from file: data/synop/imgw/2022/s_d_t_205_2022.csv\n",
      "Added SDT data from data/synop/imgw/2022/s_d_t_205_2022.csv\n",
      "Deleted file data/synop/imgw/2022/s_d_t_205_2022.csv\n",
      "Downloading and extracting ZIP from: https://danepubliczne.imgw.pl/data/dane_pomiarowo_obserwacyjne/dane_meteorologiczne/dobowe/synop/2022/2022_235_s.zip\n",
      "Downloaded data/synop/imgw/2022/2022_235_s.zip\n",
      "Extracted 2 files from data/synop/imgw/2022/2022_235_s.zip\n",
      "Deleted ZIP file data/synop/imgw/2022/2022_235_s.zip\n",
      "Processing file: data/synop/imgw/2022/s_d_235_2022.csv\n",
      "Adding SD data from file: data/synop/imgw/2022/s_d_235_2022.csv\n"
     ]
    },
    {
     "name": "stderr",
     "output_type": "stream",
     "text": [
      "/tmp/ipykernel_711180/2355723765.py:10: SettingWithCopyWarning: \n",
      "A value is trying to be set on a copy of a slice from a DataFrame.\n",
      "Try using .loc[row_indexer,col_indexer] = value instead\n",
      "\n",
      "See the caveats in the documentation: https://pandas.pydata.org/pandas-docs/stable/user_guide/indexing.html#returning-a-view-versus-a-copy\n",
      "  df_clean['Date'] = df_clean.apply(lambda row: f\"{int(row['Year']):04d}-{int(row['Month']):02d}-{int(row['Day']):02d}\", axis=1)\n",
      "/tmp/ipykernel_711180/2355723765.py:31: SettingWithCopyWarning: \n",
      "A value is trying to be set on a copy of a slice from a DataFrame.\n",
      "Try using .loc[row_indexer,col_indexer] = value instead\n",
      "\n",
      "See the caveats in the documentation: https://pandas.pydata.org/pandas-docs/stable/user_guide/indexing.html#returning-a-view-versus-a-copy\n",
      "  df_clean['Date'] = df_clean.apply(lambda row: f\"{int(row['Year']):04d}-{int(row['Month']):02d}-{int(row['Day']):02d}\", axis=1)\n"
     ]
    },
    {
     "name": "stdout",
     "output_type": "stream",
     "text": [
      "Deleted file data/synop/imgw/2022/s_d_235_2022.csv\n",
      "Processing file: data/synop/imgw/2022/s_d_t_235_2022.csv\n",
      "Adding SDT data from file: data/synop/imgw/2022/s_d_t_235_2022.csv\n",
      "Added SDT data from data/synop/imgw/2022/s_d_t_235_2022.csv\n",
      "Deleted file data/synop/imgw/2022/s_d_t_235_2022.csv\n",
      "Downloading and extracting ZIP from: https://danepubliczne.imgw.pl/data/dane_pomiarowo_obserwacyjne/dane_meteorologiczne/dobowe/synop/2022/2022_250_s.zip\n",
      "Downloaded data/synop/imgw/2022/2022_250_s.zip\n",
      "Extracted 2 files from data/synop/imgw/2022/2022_250_s.zip\n",
      "Deleted ZIP file data/synop/imgw/2022/2022_250_s.zip\n",
      "Processing file: data/synop/imgw/2022/s_d_250_2022.csv\n",
      "Adding SD data from file: data/synop/imgw/2022/s_d_250_2022.csv\n"
     ]
    },
    {
     "name": "stderr",
     "output_type": "stream",
     "text": [
      "/tmp/ipykernel_711180/2355723765.py:10: SettingWithCopyWarning: \n",
      "A value is trying to be set on a copy of a slice from a DataFrame.\n",
      "Try using .loc[row_indexer,col_indexer] = value instead\n",
      "\n",
      "See the caveats in the documentation: https://pandas.pydata.org/pandas-docs/stable/user_guide/indexing.html#returning-a-view-versus-a-copy\n",
      "  df_clean['Date'] = df_clean.apply(lambda row: f\"{int(row['Year']):04d}-{int(row['Month']):02d}-{int(row['Day']):02d}\", axis=1)\n"
     ]
    },
    {
     "name": "stdout",
     "output_type": "stream",
     "text": [
      "Deleted file data/synop/imgw/2022/s_d_250_2022.csv\n",
      "Processing file: data/synop/imgw/2022/s_d_t_250_2022.csv\n",
      "Adding SDT data from file: data/synop/imgw/2022/s_d_t_250_2022.csv\n"
     ]
    },
    {
     "name": "stderr",
     "output_type": "stream",
     "text": [
      "/tmp/ipykernel_711180/2355723765.py:31: SettingWithCopyWarning: \n",
      "A value is trying to be set on a copy of a slice from a DataFrame.\n",
      "Try using .loc[row_indexer,col_indexer] = value instead\n",
      "\n",
      "See the caveats in the documentation: https://pandas.pydata.org/pandas-docs/stable/user_guide/indexing.html#returning-a-view-versus-a-copy\n",
      "  df_clean['Date'] = df_clean.apply(lambda row: f\"{int(row['Year']):04d}-{int(row['Month']):02d}-{int(row['Day']):02d}\", axis=1)\n"
     ]
    },
    {
     "name": "stdout",
     "output_type": "stream",
     "text": [
      "Added SDT data from data/synop/imgw/2022/s_d_t_250_2022.csv\n",
      "Deleted file data/synop/imgw/2022/s_d_t_250_2022.csv\n",
      "Downloading and extracting ZIP from: https://danepubliczne.imgw.pl/data/dane_pomiarowo_obserwacyjne/dane_meteorologiczne/dobowe/synop/2022/2022_280_s.zip\n",
      "Downloaded data/synop/imgw/2022/2022_280_s.zip\n",
      "Extracted 2 files from data/synop/imgw/2022/2022_280_s.zip\n",
      "Deleted ZIP file data/synop/imgw/2022/2022_280_s.zip\n",
      "Processing file: data/synop/imgw/2022/s_d_280_2022.csv\n",
      "Adding SD data from file: data/synop/imgw/2022/s_d_280_2022.csv\n"
     ]
    },
    {
     "name": "stderr",
     "output_type": "stream",
     "text": [
      "/tmp/ipykernel_711180/2355723765.py:10: SettingWithCopyWarning: \n",
      "A value is trying to be set on a copy of a slice from a DataFrame.\n",
      "Try using .loc[row_indexer,col_indexer] = value instead\n",
      "\n",
      "See the caveats in the documentation: https://pandas.pydata.org/pandas-docs/stable/user_guide/indexing.html#returning-a-view-versus-a-copy\n",
      "  df_clean['Date'] = df_clean.apply(lambda row: f\"{int(row['Year']):04d}-{int(row['Month']):02d}-{int(row['Day']):02d}\", axis=1)\n"
     ]
    },
    {
     "name": "stdout",
     "output_type": "stream",
     "text": [
      "Deleted file data/synop/imgw/2022/s_d_280_2022.csv\n",
      "Processing file: data/synop/imgw/2022/s_d_t_280_2022.csv\n",
      "Adding SDT data from file: data/synop/imgw/2022/s_d_t_280_2022.csv\n"
     ]
    },
    {
     "name": "stderr",
     "output_type": "stream",
     "text": [
      "/tmp/ipykernel_711180/2355723765.py:31: SettingWithCopyWarning: \n",
      "A value is trying to be set on a copy of a slice from a DataFrame.\n",
      "Try using .loc[row_indexer,col_indexer] = value instead\n",
      "\n",
      "See the caveats in the documentation: https://pandas.pydata.org/pandas-docs/stable/user_guide/indexing.html#returning-a-view-versus-a-copy\n",
      "  df_clean['Date'] = df_clean.apply(lambda row: f\"{int(row['Year']):04d}-{int(row['Month']):02d}-{int(row['Day']):02d}\", axis=1)\n"
     ]
    },
    {
     "name": "stdout",
     "output_type": "stream",
     "text": [
      "Added SDT data from data/synop/imgw/2022/s_d_t_280_2022.csv\n",
      "Deleted file data/synop/imgw/2022/s_d_t_280_2022.csv\n",
      "Downloading and extracting ZIP from: https://danepubliczne.imgw.pl/data/dane_pomiarowo_obserwacyjne/dane_meteorologiczne/dobowe/synop/2022/2022_295_s.zip\n",
      "Downloaded data/synop/imgw/2022/2022_295_s.zip\n",
      "Extracted 2 files from data/synop/imgw/2022/2022_295_s.zip\n",
      "Deleted ZIP file data/synop/imgw/2022/2022_295_s.zip\n",
      "Processing file: data/synop/imgw/2022/s_d_295_2022.csv\n",
      "Adding SD data from file: data/synop/imgw/2022/s_d_295_2022.csv\n"
     ]
    },
    {
     "name": "stderr",
     "output_type": "stream",
     "text": [
      "/tmp/ipykernel_711180/2355723765.py:10: SettingWithCopyWarning: \n",
      "A value is trying to be set on a copy of a slice from a DataFrame.\n",
      "Try using .loc[row_indexer,col_indexer] = value instead\n",
      "\n",
      "See the caveats in the documentation: https://pandas.pydata.org/pandas-docs/stable/user_guide/indexing.html#returning-a-view-versus-a-copy\n",
      "  df_clean['Date'] = df_clean.apply(lambda row: f\"{int(row['Year']):04d}-{int(row['Month']):02d}-{int(row['Day']):02d}\", axis=1)\n"
     ]
    },
    {
     "name": "stdout",
     "output_type": "stream",
     "text": [
      "Deleted file data/synop/imgw/2022/s_d_295_2022.csv\n",
      "Processing file: data/synop/imgw/2022/s_d_t_295_2022.csv\n",
      "Adding SDT data from file: data/synop/imgw/2022/s_d_t_295_2022.csv\n"
     ]
    },
    {
     "name": "stderr",
     "output_type": "stream",
     "text": [
      "/tmp/ipykernel_711180/2355723765.py:31: SettingWithCopyWarning: \n",
      "A value is trying to be set on a copy of a slice from a DataFrame.\n",
      "Try using .loc[row_indexer,col_indexer] = value instead\n",
      "\n",
      "See the caveats in the documentation: https://pandas.pydata.org/pandas-docs/stable/user_guide/indexing.html#returning-a-view-versus-a-copy\n",
      "  df_clean['Date'] = df_clean.apply(lambda row: f\"{int(row['Year']):04d}-{int(row['Month']):02d}-{int(row['Day']):02d}\", axis=1)\n"
     ]
    },
    {
     "name": "stdout",
     "output_type": "stream",
     "text": [
      "Added SDT data from data/synop/imgw/2022/s_d_t_295_2022.csv\n",
      "Deleted file data/synop/imgw/2022/s_d_t_295_2022.csv\n",
      "Downloading and extracting ZIP from: https://danepubliczne.imgw.pl/data/dane_pomiarowo_obserwacyjne/dane_meteorologiczne/dobowe/synop/2022/2022_300_s.zip\n",
      "Downloaded data/synop/imgw/2022/2022_300_s.zip\n",
      "Extracted 2 files from data/synop/imgw/2022/2022_300_s.zip\n",
      "Deleted ZIP file data/synop/imgw/2022/2022_300_s.zip\n",
      "Processing file: data/synop/imgw/2022/s_d_300_2022.csv\n",
      "Adding SD data from file: data/synop/imgw/2022/s_d_300_2022.csv\n"
     ]
    },
    {
     "name": "stderr",
     "output_type": "stream",
     "text": [
      "/tmp/ipykernel_711180/2355723765.py:10: SettingWithCopyWarning: \n",
      "A value is trying to be set on a copy of a slice from a DataFrame.\n",
      "Try using .loc[row_indexer,col_indexer] = value instead\n",
      "\n",
      "See the caveats in the documentation: https://pandas.pydata.org/pandas-docs/stable/user_guide/indexing.html#returning-a-view-versus-a-copy\n",
      "  df_clean['Date'] = df_clean.apply(lambda row: f\"{int(row['Year']):04d}-{int(row['Month']):02d}-{int(row['Day']):02d}\", axis=1)\n"
     ]
    },
    {
     "name": "stdout",
     "output_type": "stream",
     "text": [
      "Deleted file data/synop/imgw/2022/s_d_300_2022.csv\n",
      "Processing file: data/synop/imgw/2022/s_d_t_300_2022.csv\n",
      "Adding SDT data from file: data/synop/imgw/2022/s_d_t_300_2022.csv\n"
     ]
    },
    {
     "name": "stderr",
     "output_type": "stream",
     "text": [
      "/tmp/ipykernel_711180/2355723765.py:31: SettingWithCopyWarning: \n",
      "A value is trying to be set on a copy of a slice from a DataFrame.\n",
      "Try using .loc[row_indexer,col_indexer] = value instead\n",
      "\n",
      "See the caveats in the documentation: https://pandas.pydata.org/pandas-docs/stable/user_guide/indexing.html#returning-a-view-versus-a-copy\n",
      "  df_clean['Date'] = df_clean.apply(lambda row: f\"{int(row['Year']):04d}-{int(row['Month']):02d}-{int(row['Day']):02d}\", axis=1)\n"
     ]
    },
    {
     "name": "stdout",
     "output_type": "stream",
     "text": [
      "Added SDT data from data/synop/imgw/2022/s_d_t_300_2022.csv\n",
      "Deleted file data/synop/imgw/2022/s_d_t_300_2022.csv\n",
      "Downloading and extracting ZIP from: https://danepubliczne.imgw.pl/data/dane_pomiarowo_obserwacyjne/dane_meteorologiczne/dobowe/synop/2022/2022_330_s.zip\n",
      "Downloaded data/synop/imgw/2022/2022_330_s.zip\n",
      "Extracted 2 files from data/synop/imgw/2022/2022_330_s.zip\n",
      "Deleted ZIP file data/synop/imgw/2022/2022_330_s.zip\n",
      "Processing file: data/synop/imgw/2022/s_d_330_2022.csv\n",
      "Adding SD data from file: data/synop/imgw/2022/s_d_330_2022.csv\n"
     ]
    },
    {
     "name": "stderr",
     "output_type": "stream",
     "text": [
      "/tmp/ipykernel_711180/2355723765.py:10: SettingWithCopyWarning: \n",
      "A value is trying to be set on a copy of a slice from a DataFrame.\n",
      "Try using .loc[row_indexer,col_indexer] = value instead\n",
      "\n",
      "See the caveats in the documentation: https://pandas.pydata.org/pandas-docs/stable/user_guide/indexing.html#returning-a-view-versus-a-copy\n",
      "  df_clean['Date'] = df_clean.apply(lambda row: f\"{int(row['Year']):04d}-{int(row['Month']):02d}-{int(row['Day']):02d}\", axis=1)\n"
     ]
    },
    {
     "name": "stdout",
     "output_type": "stream",
     "text": [
      "Deleted file data/synop/imgw/2022/s_d_330_2022.csv\n",
      "Processing file: data/synop/imgw/2022/s_d_t_330_2022.csv\n",
      "Adding SDT data from file: data/synop/imgw/2022/s_d_t_330_2022.csv\n"
     ]
    },
    {
     "name": "stderr",
     "output_type": "stream",
     "text": [
      "/tmp/ipykernel_711180/2355723765.py:31: SettingWithCopyWarning: \n",
      "A value is trying to be set on a copy of a slice from a DataFrame.\n",
      "Try using .loc[row_indexer,col_indexer] = value instead\n",
      "\n",
      "See the caveats in the documentation: https://pandas.pydata.org/pandas-docs/stable/user_guide/indexing.html#returning-a-view-versus-a-copy\n",
      "  df_clean['Date'] = df_clean.apply(lambda row: f\"{int(row['Year']):04d}-{int(row['Month']):02d}-{int(row['Day']):02d}\", axis=1)\n"
     ]
    },
    {
     "name": "stdout",
     "output_type": "stream",
     "text": [
      "Added SDT data from data/synop/imgw/2022/s_d_t_330_2022.csv\n",
      "Deleted file data/synop/imgw/2022/s_d_t_330_2022.csv\n",
      "Downloading and extracting ZIP from: https://danepubliczne.imgw.pl/data/dane_pomiarowo_obserwacyjne/dane_meteorologiczne/dobowe/synop/2022/2022_375_s.zip\n",
      "Downloaded data/synop/imgw/2022/2022_375_s.zip\n",
      "Extracted 2 files from data/synop/imgw/2022/2022_375_s.zip\n",
      "Deleted ZIP file data/synop/imgw/2022/2022_375_s.zip\n",
      "Processing file: data/synop/imgw/2022/s_d_375_2022.csv\n",
      "Adding SD data from file: data/synop/imgw/2022/s_d_375_2022.csv\n"
     ]
    },
    {
     "name": "stderr",
     "output_type": "stream",
     "text": [
      "/tmp/ipykernel_711180/2355723765.py:10: SettingWithCopyWarning: \n",
      "A value is trying to be set on a copy of a slice from a DataFrame.\n",
      "Try using .loc[row_indexer,col_indexer] = value instead\n",
      "\n",
      "See the caveats in the documentation: https://pandas.pydata.org/pandas-docs/stable/user_guide/indexing.html#returning-a-view-versus-a-copy\n",
      "  df_clean['Date'] = df_clean.apply(lambda row: f\"{int(row['Year']):04d}-{int(row['Month']):02d}-{int(row['Day']):02d}\", axis=1)\n"
     ]
    },
    {
     "name": "stdout",
     "output_type": "stream",
     "text": [
      "Deleted file data/synop/imgw/2022/s_d_375_2022.csv\n",
      "Processing file: data/synop/imgw/2022/s_d_t_375_2022.csv\n",
      "Adding SDT data from file: data/synop/imgw/2022/s_d_t_375_2022.csv\n"
     ]
    },
    {
     "name": "stderr",
     "output_type": "stream",
     "text": [
      "/tmp/ipykernel_711180/2355723765.py:31: SettingWithCopyWarning: \n",
      "A value is trying to be set on a copy of a slice from a DataFrame.\n",
      "Try using .loc[row_indexer,col_indexer] = value instead\n",
      "\n",
      "See the caveats in the documentation: https://pandas.pydata.org/pandas-docs/stable/user_guide/indexing.html#returning-a-view-versus-a-copy\n",
      "  df_clean['Date'] = df_clean.apply(lambda row: f\"{int(row['Year']):04d}-{int(row['Month']):02d}-{int(row['Day']):02d}\", axis=1)\n"
     ]
    },
    {
     "name": "stdout",
     "output_type": "stream",
     "text": [
      "Added SDT data from data/synop/imgw/2022/s_d_t_375_2022.csv\n",
      "Deleted file data/synop/imgw/2022/s_d_t_375_2022.csv\n",
      "Downloading and extracting ZIP from: https://danepubliczne.imgw.pl/data/dane_pomiarowo_obserwacyjne/dane_meteorologiczne/dobowe/synop/2022/2022_399_s.zip\n",
      "Downloaded data/synop/imgw/2022/2022_399_s.zip\n",
      "Extracted 2 files from data/synop/imgw/2022/2022_399_s.zip\n",
      "Deleted ZIP file data/synop/imgw/2022/2022_399_s.zip\n",
      "Processing file: data/synop/imgw/2022/s_d_399_2022.csv\n",
      "Adding SD data from file: data/synop/imgw/2022/s_d_399_2022.csv\n"
     ]
    },
    {
     "name": "stderr",
     "output_type": "stream",
     "text": [
      "/tmp/ipykernel_711180/2355723765.py:10: SettingWithCopyWarning: \n",
      "A value is trying to be set on a copy of a slice from a DataFrame.\n",
      "Try using .loc[row_indexer,col_indexer] = value instead\n",
      "\n",
      "See the caveats in the documentation: https://pandas.pydata.org/pandas-docs/stable/user_guide/indexing.html#returning-a-view-versus-a-copy\n",
      "  df_clean['Date'] = df_clean.apply(lambda row: f\"{int(row['Year']):04d}-{int(row['Month']):02d}-{int(row['Day']):02d}\", axis=1)\n"
     ]
    },
    {
     "name": "stdout",
     "output_type": "stream",
     "text": [
      "Deleted file data/synop/imgw/2022/s_d_399_2022.csv\n",
      "Processing file: data/synop/imgw/2022/s_d_t_399_2022.csv\n",
      "Adding SDT data from file: data/synop/imgw/2022/s_d_t_399_2022.csv\n"
     ]
    },
    {
     "name": "stderr",
     "output_type": "stream",
     "text": [
      "/tmp/ipykernel_711180/2355723765.py:31: SettingWithCopyWarning: \n",
      "A value is trying to be set on a copy of a slice from a DataFrame.\n",
      "Try using .loc[row_indexer,col_indexer] = value instead\n",
      "\n",
      "See the caveats in the documentation: https://pandas.pydata.org/pandas-docs/stable/user_guide/indexing.html#returning-a-view-versus-a-copy\n",
      "  df_clean['Date'] = df_clean.apply(lambda row: f\"{int(row['Year']):04d}-{int(row['Month']):02d}-{int(row['Day']):02d}\", axis=1)\n"
     ]
    },
    {
     "name": "stdout",
     "output_type": "stream",
     "text": [
      "Added SDT data from data/synop/imgw/2022/s_d_t_399_2022.csv\n",
      "Deleted file data/synop/imgw/2022/s_d_t_399_2022.csv\n",
      "Downloading and extracting ZIP from: https://danepubliczne.imgw.pl/data/dane_pomiarowo_obserwacyjne/dane_meteorologiczne/dobowe/synop/2022/2022_400_s.zip\n",
      "Downloaded data/synop/imgw/2022/2022_400_s.zip\n",
      "Extracted 2 files from data/synop/imgw/2022/2022_400_s.zip\n",
      "Deleted ZIP file data/synop/imgw/2022/2022_400_s.zip\n",
      "Processing file: data/synop/imgw/2022/s_d_400_2022.csv\n",
      "Adding SD data from file: data/synop/imgw/2022/s_d_400_2022.csv\n"
     ]
    },
    {
     "name": "stderr",
     "output_type": "stream",
     "text": [
      "/tmp/ipykernel_711180/2355723765.py:10: SettingWithCopyWarning: \n",
      "A value is trying to be set on a copy of a slice from a DataFrame.\n",
      "Try using .loc[row_indexer,col_indexer] = value instead\n",
      "\n",
      "See the caveats in the documentation: https://pandas.pydata.org/pandas-docs/stable/user_guide/indexing.html#returning-a-view-versus-a-copy\n",
      "  df_clean['Date'] = df_clean.apply(lambda row: f\"{int(row['Year']):04d}-{int(row['Month']):02d}-{int(row['Day']):02d}\", axis=1)\n"
     ]
    },
    {
     "name": "stdout",
     "output_type": "stream",
     "text": [
      "Deleted file data/synop/imgw/2022/s_d_400_2022.csv\n",
      "Processing file: data/synop/imgw/2022/s_d_t_400_2022.csv\n",
      "Adding SDT data from file: data/synop/imgw/2022/s_d_t_400_2022.csv\n"
     ]
    },
    {
     "name": "stderr",
     "output_type": "stream",
     "text": [
      "/tmp/ipykernel_711180/2355723765.py:31: SettingWithCopyWarning: \n",
      "A value is trying to be set on a copy of a slice from a DataFrame.\n",
      "Try using .loc[row_indexer,col_indexer] = value instead\n",
      "\n",
      "See the caveats in the documentation: https://pandas.pydata.org/pandas-docs/stable/user_guide/indexing.html#returning-a-view-versus-a-copy\n",
      "  df_clean['Date'] = df_clean.apply(lambda row: f\"{int(row['Year']):04d}-{int(row['Month']):02d}-{int(row['Day']):02d}\", axis=1)\n"
     ]
    },
    {
     "name": "stdout",
     "output_type": "stream",
     "text": [
      "Added SDT data from data/synop/imgw/2022/s_d_t_400_2022.csv\n",
      "Deleted file data/synop/imgw/2022/s_d_t_400_2022.csv\n",
      "Downloading and extracting ZIP from: https://danepubliczne.imgw.pl/data/dane_pomiarowo_obserwacyjne/dane_meteorologiczne/dobowe/synop/2022/2022_435_s.zip\n",
      "Downloaded data/synop/imgw/2022/2022_435_s.zip\n",
      "Extracted 2 files from data/synop/imgw/2022/2022_435_s.zip\n",
      "Deleted ZIP file data/synop/imgw/2022/2022_435_s.zip\n",
      "Processing file: data/synop/imgw/2022/s_d_435_2022.csv\n",
      "Adding SD data from file: data/synop/imgw/2022/s_d_435_2022.csv\n"
     ]
    },
    {
     "name": "stderr",
     "output_type": "stream",
     "text": [
      "/tmp/ipykernel_711180/2355723765.py:10: SettingWithCopyWarning: \n",
      "A value is trying to be set on a copy of a slice from a DataFrame.\n",
      "Try using .loc[row_indexer,col_indexer] = value instead\n",
      "\n",
      "See the caveats in the documentation: https://pandas.pydata.org/pandas-docs/stable/user_guide/indexing.html#returning-a-view-versus-a-copy\n",
      "  df_clean['Date'] = df_clean.apply(lambda row: f\"{int(row['Year']):04d}-{int(row['Month']):02d}-{int(row['Day']):02d}\", axis=1)\n"
     ]
    },
    {
     "name": "stdout",
     "output_type": "stream",
     "text": [
      "Deleted file data/synop/imgw/2022/s_d_435_2022.csv\n",
      "Processing file: data/synop/imgw/2022/s_d_t_435_2022.csv\n",
      "Adding SDT data from file: data/synop/imgw/2022/s_d_t_435_2022.csv\n"
     ]
    },
    {
     "name": "stderr",
     "output_type": "stream",
     "text": [
      "/tmp/ipykernel_711180/2355723765.py:31: SettingWithCopyWarning: \n",
      "A value is trying to be set on a copy of a slice from a DataFrame.\n",
      "Try using .loc[row_indexer,col_indexer] = value instead\n",
      "\n",
      "See the caveats in the documentation: https://pandas.pydata.org/pandas-docs/stable/user_guide/indexing.html#returning-a-view-versus-a-copy\n",
      "  df_clean['Date'] = df_clean.apply(lambda row: f\"{int(row['Year']):04d}-{int(row['Month']):02d}-{int(row['Day']):02d}\", axis=1)\n"
     ]
    },
    {
     "name": "stdout",
     "output_type": "stream",
     "text": [
      "Added SDT data from data/synop/imgw/2022/s_d_t_435_2022.csv\n",
      "Deleted file data/synop/imgw/2022/s_d_t_435_2022.csv\n",
      "Downloading and extracting ZIP from: https://danepubliczne.imgw.pl/data/dane_pomiarowo_obserwacyjne/dane_meteorologiczne/dobowe/synop/2022/2022_465_s.zip\n",
      "Downloaded data/synop/imgw/2022/2022_465_s.zip\n",
      "Extracted 2 files from data/synop/imgw/2022/2022_465_s.zip\n",
      "Deleted ZIP file data/synop/imgw/2022/2022_465_s.zip\n",
      "Processing file: data/synop/imgw/2022/s_d_465_2022.csv\n",
      "Adding SD data from file: data/synop/imgw/2022/s_d_465_2022.csv\n"
     ]
    },
    {
     "name": "stderr",
     "output_type": "stream",
     "text": [
      "/tmp/ipykernel_711180/2355723765.py:10: SettingWithCopyWarning: \n",
      "A value is trying to be set on a copy of a slice from a DataFrame.\n",
      "Try using .loc[row_indexer,col_indexer] = value instead\n",
      "\n",
      "See the caveats in the documentation: https://pandas.pydata.org/pandas-docs/stable/user_guide/indexing.html#returning-a-view-versus-a-copy\n",
      "  df_clean['Date'] = df_clean.apply(lambda row: f\"{int(row['Year']):04d}-{int(row['Month']):02d}-{int(row['Day']):02d}\", axis=1)\n"
     ]
    },
    {
     "name": "stdout",
     "output_type": "stream",
     "text": [
      "Deleted file data/synop/imgw/2022/s_d_465_2022.csv\n",
      "Processing file: data/synop/imgw/2022/s_d_t_465_2022.csv\n",
      "Adding SDT data from file: data/synop/imgw/2022/s_d_t_465_2022.csv\n"
     ]
    },
    {
     "name": "stderr",
     "output_type": "stream",
     "text": [
      "/tmp/ipykernel_711180/2355723765.py:31: SettingWithCopyWarning: \n",
      "A value is trying to be set on a copy of a slice from a DataFrame.\n",
      "Try using .loc[row_indexer,col_indexer] = value instead\n",
      "\n",
      "See the caveats in the documentation: https://pandas.pydata.org/pandas-docs/stable/user_guide/indexing.html#returning-a-view-versus-a-copy\n",
      "  df_clean['Date'] = df_clean.apply(lambda row: f\"{int(row['Year']):04d}-{int(row['Month']):02d}-{int(row['Day']):02d}\", axis=1)\n"
     ]
    },
    {
     "name": "stdout",
     "output_type": "stream",
     "text": [
      "Added SDT data from data/synop/imgw/2022/s_d_t_465_2022.csv\n",
      "Deleted file data/synop/imgw/2022/s_d_t_465_2022.csv\n",
      "Downloading and extracting ZIP from: https://danepubliczne.imgw.pl/data/dane_pomiarowo_obserwacyjne/dane_meteorologiczne/dobowe/synop/2022/2022_497_s.zip\n",
      "Downloaded data/synop/imgw/2022/2022_497_s.zip\n",
      "Extracted 2 files from data/synop/imgw/2022/2022_497_s.zip\n",
      "Deleted ZIP file data/synop/imgw/2022/2022_497_s.zip\n",
      "Processing file: data/synop/imgw/2022/s_d_497_2022.csv\n",
      "Adding SD data from file: data/synop/imgw/2022/s_d_497_2022.csv\n"
     ]
    },
    {
     "name": "stderr",
     "output_type": "stream",
     "text": [
      "/tmp/ipykernel_711180/2355723765.py:10: SettingWithCopyWarning: \n",
      "A value is trying to be set on a copy of a slice from a DataFrame.\n",
      "Try using .loc[row_indexer,col_indexer] = value instead\n",
      "\n",
      "See the caveats in the documentation: https://pandas.pydata.org/pandas-docs/stable/user_guide/indexing.html#returning-a-view-versus-a-copy\n",
      "  df_clean['Date'] = df_clean.apply(lambda row: f\"{int(row['Year']):04d}-{int(row['Month']):02d}-{int(row['Day']):02d}\", axis=1)\n"
     ]
    },
    {
     "name": "stdout",
     "output_type": "stream",
     "text": [
      "Deleted file data/synop/imgw/2022/s_d_497_2022.csv\n",
      "Processing file: data/synop/imgw/2022/s_d_t_497_2022.csv\n",
      "Adding SDT data from file: data/synop/imgw/2022/s_d_t_497_2022.csv\n"
     ]
    },
    {
     "name": "stderr",
     "output_type": "stream",
     "text": [
      "/tmp/ipykernel_711180/2355723765.py:31: SettingWithCopyWarning: \n",
      "A value is trying to be set on a copy of a slice from a DataFrame.\n",
      "Try using .loc[row_indexer,col_indexer] = value instead\n",
      "\n",
      "See the caveats in the documentation: https://pandas.pydata.org/pandas-docs/stable/user_guide/indexing.html#returning-a-view-versus-a-copy\n",
      "  df_clean['Date'] = df_clean.apply(lambda row: f\"{int(row['Year']):04d}-{int(row['Month']):02d}-{int(row['Day']):02d}\", axis=1)\n"
     ]
    },
    {
     "name": "stdout",
     "output_type": "stream",
     "text": [
      "Added SDT data from data/synop/imgw/2022/s_d_t_497_2022.csv\n",
      "Deleted file data/synop/imgw/2022/s_d_t_497_2022.csv\n",
      "Downloading and extracting ZIP from: https://danepubliczne.imgw.pl/data/dane_pomiarowo_obserwacyjne/dane_meteorologiczne/dobowe/synop/2022/2022_500_s.zip\n",
      "Downloaded data/synop/imgw/2022/2022_500_s.zip\n",
      "Extracted 2 files from data/synop/imgw/2022/2022_500_s.zip\n",
      "Deleted ZIP file data/synop/imgw/2022/2022_500_s.zip\n",
      "Processing file: data/synop/imgw/2022/s_d_500_2022.csv\n",
      "Adding SD data from file: data/synop/imgw/2022/s_d_500_2022.csv\n"
     ]
    },
    {
     "name": "stderr",
     "output_type": "stream",
     "text": [
      "/tmp/ipykernel_711180/2355723765.py:10: SettingWithCopyWarning: \n",
      "A value is trying to be set on a copy of a slice from a DataFrame.\n",
      "Try using .loc[row_indexer,col_indexer] = value instead\n",
      "\n",
      "See the caveats in the documentation: https://pandas.pydata.org/pandas-docs/stable/user_guide/indexing.html#returning-a-view-versus-a-copy\n",
      "  df_clean['Date'] = df_clean.apply(lambda row: f\"{int(row['Year']):04d}-{int(row['Month']):02d}-{int(row['Day']):02d}\", axis=1)\n"
     ]
    },
    {
     "name": "stdout",
     "output_type": "stream",
     "text": [
      "Deleted file data/synop/imgw/2022/s_d_500_2022.csv\n",
      "Processing file: data/synop/imgw/2022/s_d_t_500_2022.csv\n",
      "Adding SDT data from file: data/synop/imgw/2022/s_d_t_500_2022.csv\n"
     ]
    },
    {
     "name": "stderr",
     "output_type": "stream",
     "text": [
      "/tmp/ipykernel_711180/2355723765.py:31: SettingWithCopyWarning: \n",
      "A value is trying to be set on a copy of a slice from a DataFrame.\n",
      "Try using .loc[row_indexer,col_indexer] = value instead\n",
      "\n",
      "See the caveats in the documentation: https://pandas.pydata.org/pandas-docs/stable/user_guide/indexing.html#returning-a-view-versus-a-copy\n",
      "  df_clean['Date'] = df_clean.apply(lambda row: f\"{int(row['Year']):04d}-{int(row['Month']):02d}-{int(row['Day']):02d}\", axis=1)\n"
     ]
    },
    {
     "name": "stdout",
     "output_type": "stream",
     "text": [
      "Added SDT data from data/synop/imgw/2022/s_d_t_500_2022.csv\n",
      "Deleted file data/synop/imgw/2022/s_d_t_500_2022.csv\n",
      "Downloading and extracting ZIP from: https://danepubliczne.imgw.pl/data/dane_pomiarowo_obserwacyjne/dane_meteorologiczne/dobowe/synop/2022/2022_510_s.zip\n",
      "Downloaded data/synop/imgw/2022/2022_510_s.zip\n",
      "Extracted 2 files from data/synop/imgw/2022/2022_510_s.zip\n",
      "Deleted ZIP file data/synop/imgw/2022/2022_510_s.zip\n",
      "Processing file: data/synop/imgw/2022/s_d_510_2022.csv\n",
      "Adding SD data from file: data/synop/imgw/2022/s_d_510_2022.csv\n"
     ]
    },
    {
     "name": "stderr",
     "output_type": "stream",
     "text": [
      "/tmp/ipykernel_711180/2355723765.py:10: SettingWithCopyWarning: \n",
      "A value is trying to be set on a copy of a slice from a DataFrame.\n",
      "Try using .loc[row_indexer,col_indexer] = value instead\n",
      "\n",
      "See the caveats in the documentation: https://pandas.pydata.org/pandas-docs/stable/user_guide/indexing.html#returning-a-view-versus-a-copy\n",
      "  df_clean['Date'] = df_clean.apply(lambda row: f\"{int(row['Year']):04d}-{int(row['Month']):02d}-{int(row['Day']):02d}\", axis=1)\n"
     ]
    },
    {
     "name": "stdout",
     "output_type": "stream",
     "text": [
      "Deleted file data/synop/imgw/2022/s_d_510_2022.csv\n",
      "Processing file: data/synop/imgw/2022/s_d_t_510_2022.csv\n",
      "Adding SDT data from file: data/synop/imgw/2022/s_d_t_510_2022.csv\n"
     ]
    },
    {
     "name": "stderr",
     "output_type": "stream",
     "text": [
      "/tmp/ipykernel_711180/2355723765.py:31: SettingWithCopyWarning: \n",
      "A value is trying to be set on a copy of a slice from a DataFrame.\n",
      "Try using .loc[row_indexer,col_indexer] = value instead\n",
      "\n",
      "See the caveats in the documentation: https://pandas.pydata.org/pandas-docs/stable/user_guide/indexing.html#returning-a-view-versus-a-copy\n",
      "  df_clean['Date'] = df_clean.apply(lambda row: f\"{int(row['Year']):04d}-{int(row['Month']):02d}-{int(row['Day']):02d}\", axis=1)\n"
     ]
    },
    {
     "name": "stdout",
     "output_type": "stream",
     "text": [
      "Added SDT data from data/synop/imgw/2022/s_d_t_510_2022.csv\n",
      "Deleted file data/synop/imgw/2022/s_d_t_510_2022.csv\n",
      "Downloading and extracting ZIP from: https://danepubliczne.imgw.pl/data/dane_pomiarowo_obserwacyjne/dane_meteorologiczne/dobowe/synop/2022/2022_520_s.zip\n",
      "Downloaded data/synop/imgw/2022/2022_520_s.zip\n",
      "Extracted 2 files from data/synop/imgw/2022/2022_520_s.zip\n",
      "Deleted ZIP file data/synop/imgw/2022/2022_520_s.zip\n",
      "Processing file: data/synop/imgw/2022/s_d_520_2022.csv\n",
      "Adding SD data from file: data/synop/imgw/2022/s_d_520_2022.csv\n"
     ]
    },
    {
     "name": "stderr",
     "output_type": "stream",
     "text": [
      "/tmp/ipykernel_711180/2355723765.py:10: SettingWithCopyWarning: \n",
      "A value is trying to be set on a copy of a slice from a DataFrame.\n",
      "Try using .loc[row_indexer,col_indexer] = value instead\n",
      "\n",
      "See the caveats in the documentation: https://pandas.pydata.org/pandas-docs/stable/user_guide/indexing.html#returning-a-view-versus-a-copy\n",
      "  df_clean['Date'] = df_clean.apply(lambda row: f\"{int(row['Year']):04d}-{int(row['Month']):02d}-{int(row['Day']):02d}\", axis=1)\n"
     ]
    },
    {
     "name": "stdout",
     "output_type": "stream",
     "text": [
      "Deleted file data/synop/imgw/2022/s_d_520_2022.csv\n",
      "Processing file: data/synop/imgw/2022/s_d_t_520_2022.csv\n",
      "Adding SDT data from file: data/synop/imgw/2022/s_d_t_520_2022.csv\n"
     ]
    },
    {
     "name": "stderr",
     "output_type": "stream",
     "text": [
      "/tmp/ipykernel_711180/2355723765.py:31: SettingWithCopyWarning: \n",
      "A value is trying to be set on a copy of a slice from a DataFrame.\n",
      "Try using .loc[row_indexer,col_indexer] = value instead\n",
      "\n",
      "See the caveats in the documentation: https://pandas.pydata.org/pandas-docs/stable/user_guide/indexing.html#returning-a-view-versus-a-copy\n",
      "  df_clean['Date'] = df_clean.apply(lambda row: f\"{int(row['Year']):04d}-{int(row['Month']):02d}-{int(row['Day']):02d}\", axis=1)\n"
     ]
    },
    {
     "name": "stdout",
     "output_type": "stream",
     "text": [
      "Added SDT data from data/synop/imgw/2022/s_d_t_520_2022.csv\n",
      "Deleted file data/synop/imgw/2022/s_d_t_520_2022.csv\n",
      "Downloading and extracting ZIP from: https://danepubliczne.imgw.pl/data/dane_pomiarowo_obserwacyjne/dane_meteorologiczne/dobowe/synop/2022/2022_530_s.zip\n",
      "Downloaded data/synop/imgw/2022/2022_530_s.zip\n",
      "Extracted 2 files from data/synop/imgw/2022/2022_530_s.zip\n",
      "Deleted ZIP file data/synop/imgw/2022/2022_530_s.zip\n",
      "Processing file: data/synop/imgw/2022/s_d_530_2022.csv\n",
      "Adding SD data from file: data/synop/imgw/2022/s_d_530_2022.csv\n"
     ]
    },
    {
     "name": "stderr",
     "output_type": "stream",
     "text": [
      "/tmp/ipykernel_711180/2355723765.py:10: SettingWithCopyWarning: \n",
      "A value is trying to be set on a copy of a slice from a DataFrame.\n",
      "Try using .loc[row_indexer,col_indexer] = value instead\n",
      "\n",
      "See the caveats in the documentation: https://pandas.pydata.org/pandas-docs/stable/user_guide/indexing.html#returning-a-view-versus-a-copy\n",
      "  df_clean['Date'] = df_clean.apply(lambda row: f\"{int(row['Year']):04d}-{int(row['Month']):02d}-{int(row['Day']):02d}\", axis=1)\n"
     ]
    },
    {
     "name": "stdout",
     "output_type": "stream",
     "text": [
      "Deleted file data/synop/imgw/2022/s_d_530_2022.csv\n",
      "Processing file: data/synop/imgw/2022/s_d_t_530_2022.csv\n",
      "Adding SDT data from file: data/synop/imgw/2022/s_d_t_530_2022.csv\n"
     ]
    },
    {
     "name": "stderr",
     "output_type": "stream",
     "text": [
      "/tmp/ipykernel_711180/2355723765.py:31: SettingWithCopyWarning: \n",
      "A value is trying to be set on a copy of a slice from a DataFrame.\n",
      "Try using .loc[row_indexer,col_indexer] = value instead\n",
      "\n",
      "See the caveats in the documentation: https://pandas.pydata.org/pandas-docs/stable/user_guide/indexing.html#returning-a-view-versus-a-copy\n",
      "  df_clean['Date'] = df_clean.apply(lambda row: f\"{int(row['Year']):04d}-{int(row['Month']):02d}-{int(row['Day']):02d}\", axis=1)\n"
     ]
    },
    {
     "name": "stdout",
     "output_type": "stream",
     "text": [
      "Added SDT data from data/synop/imgw/2022/s_d_t_530_2022.csv\n",
      "Deleted file data/synop/imgw/2022/s_d_t_530_2022.csv\n",
      "Downloading and extracting ZIP from: https://danepubliczne.imgw.pl/data/dane_pomiarowo_obserwacyjne/dane_meteorologiczne/dobowe/synop/2022/2022_560_s.zip\n",
      "Downloaded data/synop/imgw/2022/2022_560_s.zip\n",
      "Extracted 2 files from data/synop/imgw/2022/2022_560_s.zip\n",
      "Deleted ZIP file data/synop/imgw/2022/2022_560_s.zip\n",
      "Processing file: data/synop/imgw/2022/s_d_560_2022.csv\n",
      "Adding SD data from file: data/synop/imgw/2022/s_d_560_2022.csv\n"
     ]
    },
    {
     "name": "stderr",
     "output_type": "stream",
     "text": [
      "/tmp/ipykernel_711180/2355723765.py:10: SettingWithCopyWarning: \n",
      "A value is trying to be set on a copy of a slice from a DataFrame.\n",
      "Try using .loc[row_indexer,col_indexer] = value instead\n",
      "\n",
      "See the caveats in the documentation: https://pandas.pydata.org/pandas-docs/stable/user_guide/indexing.html#returning-a-view-versus-a-copy\n",
      "  df_clean['Date'] = df_clean.apply(lambda row: f\"{int(row['Year']):04d}-{int(row['Month']):02d}-{int(row['Day']):02d}\", axis=1)\n"
     ]
    },
    {
     "name": "stdout",
     "output_type": "stream",
     "text": [
      "Deleted file data/synop/imgw/2022/s_d_560_2022.csv\n",
      "Processing file: data/synop/imgw/2022/s_d_t_560_2022.csv\n",
      "Adding SDT data from file: data/synop/imgw/2022/s_d_t_560_2022.csv\n"
     ]
    },
    {
     "name": "stderr",
     "output_type": "stream",
     "text": [
      "/tmp/ipykernel_711180/2355723765.py:31: SettingWithCopyWarning: \n",
      "A value is trying to be set on a copy of a slice from a DataFrame.\n",
      "Try using .loc[row_indexer,col_indexer] = value instead\n",
      "\n",
      "See the caveats in the documentation: https://pandas.pydata.org/pandas-docs/stable/user_guide/indexing.html#returning-a-view-versus-a-copy\n",
      "  df_clean['Date'] = df_clean.apply(lambda row: f\"{int(row['Year']):04d}-{int(row['Month']):02d}-{int(row['Day']):02d}\", axis=1)\n"
     ]
    },
    {
     "name": "stdout",
     "output_type": "stream",
     "text": [
      "Added SDT data from data/synop/imgw/2022/s_d_t_560_2022.csv\n",
      "Deleted file data/synop/imgw/2022/s_d_t_560_2022.csv\n",
      "Downloading and extracting ZIP from: https://danepubliczne.imgw.pl/data/dane_pomiarowo_obserwacyjne/dane_meteorologiczne/dobowe/synop/2022/2022_566_s.zip\n",
      "Downloaded data/synop/imgw/2022/2022_566_s.zip\n",
      "Extracted 2 files from data/synop/imgw/2022/2022_566_s.zip\n",
      "Deleted ZIP file data/synop/imgw/2022/2022_566_s.zip\n",
      "Processing file: data/synop/imgw/2022/s_d_566_2022.csv\n",
      "Adding SD data from file: data/synop/imgw/2022/s_d_566_2022.csv\n"
     ]
    },
    {
     "name": "stderr",
     "output_type": "stream",
     "text": [
      "/tmp/ipykernel_711180/2355723765.py:10: SettingWithCopyWarning: \n",
      "A value is trying to be set on a copy of a slice from a DataFrame.\n",
      "Try using .loc[row_indexer,col_indexer] = value instead\n",
      "\n",
      "See the caveats in the documentation: https://pandas.pydata.org/pandas-docs/stable/user_guide/indexing.html#returning-a-view-versus-a-copy\n",
      "  df_clean['Date'] = df_clean.apply(lambda row: f\"{int(row['Year']):04d}-{int(row['Month']):02d}-{int(row['Day']):02d}\", axis=1)\n"
     ]
    },
    {
     "name": "stdout",
     "output_type": "stream",
     "text": [
      "Deleted file data/synop/imgw/2022/s_d_566_2022.csv\n",
      "Processing file: data/synop/imgw/2022/s_d_t_566_2022.csv\n",
      "Adding SDT data from file: data/synop/imgw/2022/s_d_t_566_2022.csv\n"
     ]
    },
    {
     "name": "stderr",
     "output_type": "stream",
     "text": [
      "/tmp/ipykernel_711180/2355723765.py:31: SettingWithCopyWarning: \n",
      "A value is trying to be set on a copy of a slice from a DataFrame.\n",
      "Try using .loc[row_indexer,col_indexer] = value instead\n",
      "\n",
      "See the caveats in the documentation: https://pandas.pydata.org/pandas-docs/stable/user_guide/indexing.html#returning-a-view-versus-a-copy\n",
      "  df_clean['Date'] = df_clean.apply(lambda row: f\"{int(row['Year']):04d}-{int(row['Month']):02d}-{int(row['Day']):02d}\", axis=1)\n"
     ]
    },
    {
     "name": "stdout",
     "output_type": "stream",
     "text": [
      "Added SDT data from data/synop/imgw/2022/s_d_t_566_2022.csv\n",
      "Deleted file data/synop/imgw/2022/s_d_t_566_2022.csv\n",
      "Downloading and extracting ZIP from: https://danepubliczne.imgw.pl/data/dane_pomiarowo_obserwacyjne/dane_meteorologiczne/dobowe/synop/2022/2022_625_s.zip\n",
      "Downloaded data/synop/imgw/2022/2022_625_s.zip\n",
      "Extracted 2 files from data/synop/imgw/2022/2022_625_s.zip\n",
      "Deleted ZIP file data/synop/imgw/2022/2022_625_s.zip\n",
      "Processing file: data/synop/imgw/2022/s_d_625_2022.csv\n",
      "Adding SD data from file: data/synop/imgw/2022/s_d_625_2022.csv\n"
     ]
    },
    {
     "name": "stderr",
     "output_type": "stream",
     "text": [
      "/tmp/ipykernel_711180/2355723765.py:10: SettingWithCopyWarning: \n",
      "A value is trying to be set on a copy of a slice from a DataFrame.\n",
      "Try using .loc[row_indexer,col_indexer] = value instead\n",
      "\n",
      "See the caveats in the documentation: https://pandas.pydata.org/pandas-docs/stable/user_guide/indexing.html#returning-a-view-versus-a-copy\n",
      "  df_clean['Date'] = df_clean.apply(lambda row: f\"{int(row['Year']):04d}-{int(row['Month']):02d}-{int(row['Day']):02d}\", axis=1)\n"
     ]
    },
    {
     "name": "stdout",
     "output_type": "stream",
     "text": [
      "Deleted file data/synop/imgw/2022/s_d_625_2022.csv\n",
      "Processing file: data/synop/imgw/2022/s_d_t_625_2022.csv\n",
      "Adding SDT data from file: data/synop/imgw/2022/s_d_t_625_2022.csv\n"
     ]
    },
    {
     "name": "stderr",
     "output_type": "stream",
     "text": [
      "/tmp/ipykernel_711180/2355723765.py:31: SettingWithCopyWarning: \n",
      "A value is trying to be set on a copy of a slice from a DataFrame.\n",
      "Try using .loc[row_indexer,col_indexer] = value instead\n",
      "\n",
      "See the caveats in the documentation: https://pandas.pydata.org/pandas-docs/stable/user_guide/indexing.html#returning-a-view-versus-a-copy\n",
      "  df_clean['Date'] = df_clean.apply(lambda row: f\"{int(row['Year']):04d}-{int(row['Month']):02d}-{int(row['Day']):02d}\", axis=1)\n"
     ]
    },
    {
     "name": "stdout",
     "output_type": "stream",
     "text": [
      "Added SDT data from data/synop/imgw/2022/s_d_t_625_2022.csv\n",
      "Deleted file data/synop/imgw/2022/s_d_t_625_2022.csv\n",
      "Downloading and extracting ZIP from: https://danepubliczne.imgw.pl/data/dane_pomiarowo_obserwacyjne/dane_meteorologiczne/dobowe/synop/2022/2022_650_s.zip\n",
      "Downloaded data/synop/imgw/2022/2022_650_s.zip\n",
      "Extracted 2 files from data/synop/imgw/2022/2022_650_s.zip\n",
      "Deleted ZIP file data/synop/imgw/2022/2022_650_s.zip\n",
      "Processing file: data/synop/imgw/2022/s_d_650_2022.csv\n",
      "Adding SD data from file: data/synop/imgw/2022/s_d_650_2022.csv\n"
     ]
    },
    {
     "name": "stderr",
     "output_type": "stream",
     "text": [
      "/tmp/ipykernel_711180/2355723765.py:10: SettingWithCopyWarning: \n",
      "A value is trying to be set on a copy of a slice from a DataFrame.\n",
      "Try using .loc[row_indexer,col_indexer] = value instead\n",
      "\n",
      "See the caveats in the documentation: https://pandas.pydata.org/pandas-docs/stable/user_guide/indexing.html#returning-a-view-versus-a-copy\n",
      "  df_clean['Date'] = df_clean.apply(lambda row: f\"{int(row['Year']):04d}-{int(row['Month']):02d}-{int(row['Day']):02d}\", axis=1)\n"
     ]
    },
    {
     "name": "stdout",
     "output_type": "stream",
     "text": [
      "Deleted file data/synop/imgw/2022/s_d_650_2022.csv\n",
      "Processing file: data/synop/imgw/2022/s_d_t_650_2022.csv\n",
      "Adding SDT data from file: data/synop/imgw/2022/s_d_t_650_2022.csv\n"
     ]
    },
    {
     "name": "stderr",
     "output_type": "stream",
     "text": [
      "/tmp/ipykernel_711180/2355723765.py:31: SettingWithCopyWarning: \n",
      "A value is trying to be set on a copy of a slice from a DataFrame.\n",
      "Try using .loc[row_indexer,col_indexer] = value instead\n",
      "\n",
      "See the caveats in the documentation: https://pandas.pydata.org/pandas-docs/stable/user_guide/indexing.html#returning-a-view-versus-a-copy\n",
      "  df_clean['Date'] = df_clean.apply(lambda row: f\"{int(row['Year']):04d}-{int(row['Month']):02d}-{int(row['Day']):02d}\", axis=1)\n"
     ]
    },
    {
     "name": "stdout",
     "output_type": "stream",
     "text": [
      "Added SDT data from data/synop/imgw/2022/s_d_t_650_2022.csv\n",
      "Deleted file data/synop/imgw/2022/s_d_t_650_2022.csv\n",
      "Downloading and extracting ZIP from: https://danepubliczne.imgw.pl/data/dane_pomiarowo_obserwacyjne/dane_meteorologiczne/dobowe/synop/2022/2022_690_s.zip\n",
      "Downloaded data/synop/imgw/2022/2022_690_s.zip\n",
      "Extracted 2 files from data/synop/imgw/2022/2022_690_s.zip\n",
      "Deleted ZIP file data/synop/imgw/2022/2022_690_s.zip\n",
      "Processing file: data/synop/imgw/2022/s_d_690_2022.csv\n",
      "Adding SD data from file: data/synop/imgw/2022/s_d_690_2022.csv\n"
     ]
    },
    {
     "name": "stderr",
     "output_type": "stream",
     "text": [
      "/tmp/ipykernel_711180/2355723765.py:10: SettingWithCopyWarning: \n",
      "A value is trying to be set on a copy of a slice from a DataFrame.\n",
      "Try using .loc[row_indexer,col_indexer] = value instead\n",
      "\n",
      "See the caveats in the documentation: https://pandas.pydata.org/pandas-docs/stable/user_guide/indexing.html#returning-a-view-versus-a-copy\n",
      "  df_clean['Date'] = df_clean.apply(lambda row: f\"{int(row['Year']):04d}-{int(row['Month']):02d}-{int(row['Day']):02d}\", axis=1)\n"
     ]
    },
    {
     "name": "stdout",
     "output_type": "stream",
     "text": [
      "Deleted file data/synop/imgw/2022/s_d_690_2022.csv\n",
      "Processing file: data/synop/imgw/2022/s_d_t_690_2022.csv\n",
      "Adding SDT data from file: data/synop/imgw/2022/s_d_t_690_2022.csv\n"
     ]
    },
    {
     "name": "stderr",
     "output_type": "stream",
     "text": [
      "/tmp/ipykernel_711180/2355723765.py:31: SettingWithCopyWarning: \n",
      "A value is trying to be set on a copy of a slice from a DataFrame.\n",
      "Try using .loc[row_indexer,col_indexer] = value instead\n",
      "\n",
      "See the caveats in the documentation: https://pandas.pydata.org/pandas-docs/stable/user_guide/indexing.html#returning-a-view-versus-a-copy\n",
      "  df_clean['Date'] = df_clean.apply(lambda row: f\"{int(row['Year']):04d}-{int(row['Month']):02d}-{int(row['Day']):02d}\", axis=1)\n"
     ]
    },
    {
     "name": "stdout",
     "output_type": "stream",
     "text": [
      "Added SDT data from data/synop/imgw/2022/s_d_t_690_2022.csv\n",
      "Deleted file data/synop/imgw/2022/s_d_t_690_2022.csv\n",
      "Processed data for year 2022\n",
      "Fetching ZIP URLs from: https://danepubliczne.imgw.pl/data/dane_pomiarowo_obserwacyjne/dane_meteorologiczne/dobowe/synop/2023/\n",
      "Found 58 ZIP URLs\n",
      "Relevant ZIP URLs: ['https://danepubliczne.imgw.pl/data/dane_pomiarowo_obserwacyjne/dane_meteorologiczne/dobowe/synop/2023/2023_100_s.zip', 'https://danepubliczne.imgw.pl/data/dane_pomiarowo_obserwacyjne/dane_meteorologiczne/dobowe/synop/2023/2023_105_s.zip', 'https://danepubliczne.imgw.pl/data/dane_pomiarowo_obserwacyjne/dane_meteorologiczne/dobowe/synop/2023/2023_195_s.zip', 'https://danepubliczne.imgw.pl/data/dane_pomiarowo_obserwacyjne/dane_meteorologiczne/dobowe/synop/2023/2023_205_s.zip', 'https://danepubliczne.imgw.pl/data/dane_pomiarowo_obserwacyjne/dane_meteorologiczne/dobowe/synop/2023/2023_235_s.zip', 'https://danepubliczne.imgw.pl/data/dane_pomiarowo_obserwacyjne/dane_meteorologiczne/dobowe/synop/2023/2023_250_s.zip', 'https://danepubliczne.imgw.pl/data/dane_pomiarowo_obserwacyjne/dane_meteorologiczne/dobowe/synop/2023/2023_280_s.zip', 'https://danepubliczne.imgw.pl/data/dane_pomiarowo_obserwacyjne/dane_meteorologiczne/dobowe/synop/2023/2023_295_s.zip', 'https://danepubliczne.imgw.pl/data/dane_pomiarowo_obserwacyjne/dane_meteorologiczne/dobowe/synop/2023/2023_300_s.zip', 'https://danepubliczne.imgw.pl/data/dane_pomiarowo_obserwacyjne/dane_meteorologiczne/dobowe/synop/2023/2023_330_s.zip', 'https://danepubliczne.imgw.pl/data/dane_pomiarowo_obserwacyjne/dane_meteorologiczne/dobowe/synop/2023/2023_375_s.zip', 'https://danepubliczne.imgw.pl/data/dane_pomiarowo_obserwacyjne/dane_meteorologiczne/dobowe/synop/2023/2023_399_s.zip', 'https://danepubliczne.imgw.pl/data/dane_pomiarowo_obserwacyjne/dane_meteorologiczne/dobowe/synop/2023/2023_400_s.zip', 'https://danepubliczne.imgw.pl/data/dane_pomiarowo_obserwacyjne/dane_meteorologiczne/dobowe/synop/2023/2023_435_s.zip', 'https://danepubliczne.imgw.pl/data/dane_pomiarowo_obserwacyjne/dane_meteorologiczne/dobowe/synop/2023/2023_465_s.zip', 'https://danepubliczne.imgw.pl/data/dane_pomiarowo_obserwacyjne/dane_meteorologiczne/dobowe/synop/2023/2023_497_s.zip', 'https://danepubliczne.imgw.pl/data/dane_pomiarowo_obserwacyjne/dane_meteorologiczne/dobowe/synop/2023/2023_500_s.zip', 'https://danepubliczne.imgw.pl/data/dane_pomiarowo_obserwacyjne/dane_meteorologiczne/dobowe/synop/2023/2023_510_s.zip', 'https://danepubliczne.imgw.pl/data/dane_pomiarowo_obserwacyjne/dane_meteorologiczne/dobowe/synop/2023/2023_520_s.zip', 'https://danepubliczne.imgw.pl/data/dane_pomiarowo_obserwacyjne/dane_meteorologiczne/dobowe/synop/2023/2023_530_s.zip', 'https://danepubliczne.imgw.pl/data/dane_pomiarowo_obserwacyjne/dane_meteorologiczne/dobowe/synop/2023/2023_560_s.zip', 'https://danepubliczne.imgw.pl/data/dane_pomiarowo_obserwacyjne/dane_meteorologiczne/dobowe/synop/2023/2023_566_s.zip', 'https://danepubliczne.imgw.pl/data/dane_pomiarowo_obserwacyjne/dane_meteorologiczne/dobowe/synop/2023/2023_625_s.zip', 'https://danepubliczne.imgw.pl/data/dane_pomiarowo_obserwacyjne/dane_meteorologiczne/dobowe/synop/2023/2023_650_s.zip', 'https://danepubliczne.imgw.pl/data/dane_pomiarowo_obserwacyjne/dane_meteorologiczne/dobowe/synop/2023/2023_690_s.zip']\n",
      "Downloading and extracting ZIP from: https://danepubliczne.imgw.pl/data/dane_pomiarowo_obserwacyjne/dane_meteorologiczne/dobowe/synop/2023/2023_100_s.zip\n",
      "Downloaded data/synop/imgw/2023/2023_100_s.zip\n",
      "Extracted 2 files from data/synop/imgw/2023/2023_100_s.zip\n",
      "Deleted ZIP file data/synop/imgw/2023/2023_100_s.zip\n",
      "Processing file: data/synop/imgw/2023/s_d_100_2023.csv\n",
      "Adding SD data from file: data/synop/imgw/2023/s_d_100_2023.csv\n"
     ]
    },
    {
     "name": "stderr",
     "output_type": "stream",
     "text": [
      "/tmp/ipykernel_711180/2355723765.py:10: SettingWithCopyWarning: \n",
      "A value is trying to be set on a copy of a slice from a DataFrame.\n",
      "Try using .loc[row_indexer,col_indexer] = value instead\n",
      "\n",
      "See the caveats in the documentation: https://pandas.pydata.org/pandas-docs/stable/user_guide/indexing.html#returning-a-view-versus-a-copy\n",
      "  df_clean['Date'] = df_clean.apply(lambda row: f\"{int(row['Year']):04d}-{int(row['Month']):02d}-{int(row['Day']):02d}\", axis=1)\n"
     ]
    },
    {
     "name": "stdout",
     "output_type": "stream",
     "text": [
      "Deleted file data/synop/imgw/2023/s_d_100_2023.csv\n",
      "Processing file: data/synop/imgw/2023/s_d_t_100_2023.csv\n",
      "Adding SDT data from file: data/synop/imgw/2023/s_d_t_100_2023.csv\n",
      "Added SDT data from data/synop/imgw/2023/s_d_t_100_2023.csv\n",
      "Deleted file data/synop/imgw/2023/s_d_t_100_2023.csv\n",
      "Downloading and extracting ZIP from: https://danepubliczne.imgw.pl/data/dane_pomiarowo_obserwacyjne/dane_meteorologiczne/dobowe/synop/2023/2023_105_s.zip\n",
      "Downloaded data/synop/imgw/2023/2023_105_s.zip\n",
      "Extracted 2 files from data/synop/imgw/2023/2023_105_s.zip\n",
      "Deleted ZIP file data/synop/imgw/2023/2023_105_s.zip\n",
      "Processing file: data/synop/imgw/2023/s_d_105_2023.csv\n",
      "Adding SD data from file: data/synop/imgw/2023/s_d_105_2023.csv\n"
     ]
    },
    {
     "name": "stderr",
     "output_type": "stream",
     "text": [
      "/tmp/ipykernel_711180/2355723765.py:31: SettingWithCopyWarning: \n",
      "A value is trying to be set on a copy of a slice from a DataFrame.\n",
      "Try using .loc[row_indexer,col_indexer] = value instead\n",
      "\n",
      "See the caveats in the documentation: https://pandas.pydata.org/pandas-docs/stable/user_guide/indexing.html#returning-a-view-versus-a-copy\n",
      "  df_clean['Date'] = df_clean.apply(lambda row: f\"{int(row['Year']):04d}-{int(row['Month']):02d}-{int(row['Day']):02d}\", axis=1)\n",
      "/tmp/ipykernel_711180/2355723765.py:10: SettingWithCopyWarning: \n",
      "A value is trying to be set on a copy of a slice from a DataFrame.\n",
      "Try using .loc[row_indexer,col_indexer] = value instead\n",
      "\n",
      "See the caveats in the documentation: https://pandas.pydata.org/pandas-docs/stable/user_guide/indexing.html#returning-a-view-versus-a-copy\n",
      "  df_clean['Date'] = df_clean.apply(lambda row: f\"{int(row['Year']):04d}-{int(row['Month']):02d}-{int(row['Day']):02d}\", axis=1)\n"
     ]
    },
    {
     "name": "stdout",
     "output_type": "stream",
     "text": [
      "Deleted file data/synop/imgw/2023/s_d_105_2023.csv\n",
      "Processing file: data/synop/imgw/2023/s_d_t_105_2023.csv\n",
      "Adding SDT data from file: data/synop/imgw/2023/s_d_t_105_2023.csv\n",
      "Added SDT data from data/synop/imgw/2023/s_d_t_105_2023.csv\n",
      "Deleted file data/synop/imgw/2023/s_d_t_105_2023.csv\n",
      "Downloading and extracting ZIP from: https://danepubliczne.imgw.pl/data/dane_pomiarowo_obserwacyjne/dane_meteorologiczne/dobowe/synop/2023/2023_195_s.zip\n",
      "Downloaded data/synop/imgw/2023/2023_195_s.zip\n",
      "Extracted 2 files from data/synop/imgw/2023/2023_195_s.zip\n",
      "Deleted ZIP file data/synop/imgw/2023/2023_195_s.zip\n",
      "Processing file: data/synop/imgw/2023/s_d_195_2023.csv\n",
      "Adding SD data from file: data/synop/imgw/2023/s_d_195_2023.csv\n"
     ]
    },
    {
     "name": "stderr",
     "output_type": "stream",
     "text": [
      "/tmp/ipykernel_711180/2355723765.py:31: SettingWithCopyWarning: \n",
      "A value is trying to be set on a copy of a slice from a DataFrame.\n",
      "Try using .loc[row_indexer,col_indexer] = value instead\n",
      "\n",
      "See the caveats in the documentation: https://pandas.pydata.org/pandas-docs/stable/user_guide/indexing.html#returning-a-view-versus-a-copy\n",
      "  df_clean['Date'] = df_clean.apply(lambda row: f\"{int(row['Year']):04d}-{int(row['Month']):02d}-{int(row['Day']):02d}\", axis=1)\n",
      "/tmp/ipykernel_711180/2355723765.py:10: SettingWithCopyWarning: \n",
      "A value is trying to be set on a copy of a slice from a DataFrame.\n",
      "Try using .loc[row_indexer,col_indexer] = value instead\n",
      "\n",
      "See the caveats in the documentation: https://pandas.pydata.org/pandas-docs/stable/user_guide/indexing.html#returning-a-view-versus-a-copy\n",
      "  df_clean['Date'] = df_clean.apply(lambda row: f\"{int(row['Year']):04d}-{int(row['Month']):02d}-{int(row['Day']):02d}\", axis=1)\n"
     ]
    },
    {
     "name": "stdout",
     "output_type": "stream",
     "text": [
      "Deleted file data/synop/imgw/2023/s_d_195_2023.csv\n",
      "Processing file: data/synop/imgw/2023/s_d_t_195_2023.csv\n",
      "Adding SDT data from file: data/synop/imgw/2023/s_d_t_195_2023.csv\n",
      "Added SDT data from data/synop/imgw/2023/s_d_t_195_2023.csv\n",
      "Deleted file data/synop/imgw/2023/s_d_t_195_2023.csv\n",
      "Downloading and extracting ZIP from: https://danepubliczne.imgw.pl/data/dane_pomiarowo_obserwacyjne/dane_meteorologiczne/dobowe/synop/2023/2023_205_s.zip\n",
      "Downloaded data/synop/imgw/2023/2023_205_s.zip\n",
      "Extracted 2 files from data/synop/imgw/2023/2023_205_s.zip\n",
      "Deleted ZIP file data/synop/imgw/2023/2023_205_s.zip\n",
      "Processing file: data/synop/imgw/2023/s_d_205_2023.csv\n",
      "Adding SD data from file: data/synop/imgw/2023/s_d_205_2023.csv\n"
     ]
    },
    {
     "name": "stderr",
     "output_type": "stream",
     "text": [
      "/tmp/ipykernel_711180/2355723765.py:31: SettingWithCopyWarning: \n",
      "A value is trying to be set on a copy of a slice from a DataFrame.\n",
      "Try using .loc[row_indexer,col_indexer] = value instead\n",
      "\n",
      "See the caveats in the documentation: https://pandas.pydata.org/pandas-docs/stable/user_guide/indexing.html#returning-a-view-versus-a-copy\n",
      "  df_clean['Date'] = df_clean.apply(lambda row: f\"{int(row['Year']):04d}-{int(row['Month']):02d}-{int(row['Day']):02d}\", axis=1)\n",
      "/tmp/ipykernel_711180/2355723765.py:10: SettingWithCopyWarning: \n",
      "A value is trying to be set on a copy of a slice from a DataFrame.\n",
      "Try using .loc[row_indexer,col_indexer] = value instead\n",
      "\n",
      "See the caveats in the documentation: https://pandas.pydata.org/pandas-docs/stable/user_guide/indexing.html#returning-a-view-versus-a-copy\n",
      "  df_clean['Date'] = df_clean.apply(lambda row: f\"{int(row['Year']):04d}-{int(row['Month']):02d}-{int(row['Day']):02d}\", axis=1)\n"
     ]
    },
    {
     "name": "stdout",
     "output_type": "stream",
     "text": [
      "Deleted file data/synop/imgw/2023/s_d_205_2023.csv\n",
      "Processing file: data/synop/imgw/2023/s_d_t_205_2023.csv\n",
      "Adding SDT data from file: data/synop/imgw/2023/s_d_t_205_2023.csv\n",
      "Added SDT data from data/synop/imgw/2023/s_d_t_205_2023.csv\n",
      "Deleted file data/synop/imgw/2023/s_d_t_205_2023.csv\n",
      "Downloading and extracting ZIP from: https://danepubliczne.imgw.pl/data/dane_pomiarowo_obserwacyjne/dane_meteorologiczne/dobowe/synop/2023/2023_235_s.zip\n",
      "Downloaded data/synop/imgw/2023/2023_235_s.zip\n",
      "Extracted 2 files from data/synop/imgw/2023/2023_235_s.zip\n",
      "Deleted ZIP file data/synop/imgw/2023/2023_235_s.zip\n",
      "Processing file: data/synop/imgw/2023/s_d_235_2023.csv\n",
      "Adding SD data from file: data/synop/imgw/2023/s_d_235_2023.csv\n"
     ]
    },
    {
     "name": "stderr",
     "output_type": "stream",
     "text": [
      "/tmp/ipykernel_711180/2355723765.py:31: SettingWithCopyWarning: \n",
      "A value is trying to be set on a copy of a slice from a DataFrame.\n",
      "Try using .loc[row_indexer,col_indexer] = value instead\n",
      "\n",
      "See the caveats in the documentation: https://pandas.pydata.org/pandas-docs/stable/user_guide/indexing.html#returning-a-view-versus-a-copy\n",
      "  df_clean['Date'] = df_clean.apply(lambda row: f\"{int(row['Year']):04d}-{int(row['Month']):02d}-{int(row['Day']):02d}\", axis=1)\n",
      "/tmp/ipykernel_711180/2355723765.py:10: SettingWithCopyWarning: \n",
      "A value is trying to be set on a copy of a slice from a DataFrame.\n",
      "Try using .loc[row_indexer,col_indexer] = value instead\n",
      "\n",
      "See the caveats in the documentation: https://pandas.pydata.org/pandas-docs/stable/user_guide/indexing.html#returning-a-view-versus-a-copy\n",
      "  df_clean['Date'] = df_clean.apply(lambda row: f\"{int(row['Year']):04d}-{int(row['Month']):02d}-{int(row['Day']):02d}\", axis=1)\n"
     ]
    },
    {
     "name": "stdout",
     "output_type": "stream",
     "text": [
      "Deleted file data/synop/imgw/2023/s_d_235_2023.csv\n",
      "Processing file: data/synop/imgw/2023/s_d_t_235_2023.csv\n",
      "Adding SDT data from file: data/synop/imgw/2023/s_d_t_235_2023.csv\n",
      "Added SDT data from data/synop/imgw/2023/s_d_t_235_2023.csv\n",
      "Deleted file data/synop/imgw/2023/s_d_t_235_2023.csv\n",
      "Downloading and extracting ZIP from: https://danepubliczne.imgw.pl/data/dane_pomiarowo_obserwacyjne/dane_meteorologiczne/dobowe/synop/2023/2023_250_s.zip\n"
     ]
    },
    {
     "name": "stderr",
     "output_type": "stream",
     "text": [
      "/tmp/ipykernel_711180/2355723765.py:31: SettingWithCopyWarning: \n",
      "A value is trying to be set on a copy of a slice from a DataFrame.\n",
      "Try using .loc[row_indexer,col_indexer] = value instead\n",
      "\n",
      "See the caveats in the documentation: https://pandas.pydata.org/pandas-docs/stable/user_guide/indexing.html#returning-a-view-versus-a-copy\n",
      "  df_clean['Date'] = df_clean.apply(lambda row: f\"{int(row['Year']):04d}-{int(row['Month']):02d}-{int(row['Day']):02d}\", axis=1)\n"
     ]
    },
    {
     "name": "stdout",
     "output_type": "stream",
     "text": [
      "Downloaded data/synop/imgw/2023/2023_250_s.zip\n",
      "Extracted 2 files from data/synop/imgw/2023/2023_250_s.zip\n",
      "Deleted ZIP file data/synop/imgw/2023/2023_250_s.zip\n",
      "Processing file: data/synop/imgw/2023/s_d_250_2023.csv\n",
      "Adding SD data from file: data/synop/imgw/2023/s_d_250_2023.csv\n"
     ]
    },
    {
     "name": "stderr",
     "output_type": "stream",
     "text": [
      "/tmp/ipykernel_711180/2355723765.py:10: SettingWithCopyWarning: \n",
      "A value is trying to be set on a copy of a slice from a DataFrame.\n",
      "Try using .loc[row_indexer,col_indexer] = value instead\n",
      "\n",
      "See the caveats in the documentation: https://pandas.pydata.org/pandas-docs/stable/user_guide/indexing.html#returning-a-view-versus-a-copy\n",
      "  df_clean['Date'] = df_clean.apply(lambda row: f\"{int(row['Year']):04d}-{int(row['Month']):02d}-{int(row['Day']):02d}\", axis=1)\n"
     ]
    },
    {
     "name": "stdout",
     "output_type": "stream",
     "text": [
      "Deleted file data/synop/imgw/2023/s_d_250_2023.csv\n",
      "Processing file: data/synop/imgw/2023/s_d_t_250_2023.csv\n",
      "Adding SDT data from file: data/synop/imgw/2023/s_d_t_250_2023.csv\n",
      "Added SDT data from data/synop/imgw/2023/s_d_t_250_2023.csv\n",
      "Deleted file data/synop/imgw/2023/s_d_t_250_2023.csv\n",
      "Downloading and extracting ZIP from: https://danepubliczne.imgw.pl/data/dane_pomiarowo_obserwacyjne/dane_meteorologiczne/dobowe/synop/2023/2023_280_s.zip\n",
      "Downloaded data/synop/imgw/2023/2023_280_s.zip\n",
      "Extracted 2 files from data/synop/imgw/2023/2023_280_s.zip\n",
      "Deleted ZIP file data/synop/imgw/2023/2023_280_s.zip\n",
      "Processing file: data/synop/imgw/2023/s_d_280_2023.csv\n",
      "Adding SD data from file: data/synop/imgw/2023/s_d_280_2023.csv\n"
     ]
    },
    {
     "name": "stderr",
     "output_type": "stream",
     "text": [
      "/tmp/ipykernel_711180/2355723765.py:31: SettingWithCopyWarning: \n",
      "A value is trying to be set on a copy of a slice from a DataFrame.\n",
      "Try using .loc[row_indexer,col_indexer] = value instead\n",
      "\n",
      "See the caveats in the documentation: https://pandas.pydata.org/pandas-docs/stable/user_guide/indexing.html#returning-a-view-versus-a-copy\n",
      "  df_clean['Date'] = df_clean.apply(lambda row: f\"{int(row['Year']):04d}-{int(row['Month']):02d}-{int(row['Day']):02d}\", axis=1)\n",
      "/tmp/ipykernel_711180/2355723765.py:10: SettingWithCopyWarning: \n",
      "A value is trying to be set on a copy of a slice from a DataFrame.\n",
      "Try using .loc[row_indexer,col_indexer] = value instead\n",
      "\n",
      "See the caveats in the documentation: https://pandas.pydata.org/pandas-docs/stable/user_guide/indexing.html#returning-a-view-versus-a-copy\n",
      "  df_clean['Date'] = df_clean.apply(lambda row: f\"{int(row['Year']):04d}-{int(row['Month']):02d}-{int(row['Day']):02d}\", axis=1)\n"
     ]
    },
    {
     "name": "stdout",
     "output_type": "stream",
     "text": [
      "Deleted file data/synop/imgw/2023/s_d_280_2023.csv\n",
      "Processing file: data/synop/imgw/2023/s_d_t_280_2023.csv\n",
      "Adding SDT data from file: data/synop/imgw/2023/s_d_t_280_2023.csv\n",
      "Added SDT data from data/synop/imgw/2023/s_d_t_280_2023.csv\n",
      "Deleted file data/synop/imgw/2023/s_d_t_280_2023.csv\n",
      "Downloading and extracting ZIP from: https://danepubliczne.imgw.pl/data/dane_pomiarowo_obserwacyjne/dane_meteorologiczne/dobowe/synop/2023/2023_295_s.zip\n"
     ]
    },
    {
     "name": "stderr",
     "output_type": "stream",
     "text": [
      "/tmp/ipykernel_711180/2355723765.py:31: SettingWithCopyWarning: \n",
      "A value is trying to be set on a copy of a slice from a DataFrame.\n",
      "Try using .loc[row_indexer,col_indexer] = value instead\n",
      "\n",
      "See the caveats in the documentation: https://pandas.pydata.org/pandas-docs/stable/user_guide/indexing.html#returning-a-view-versus-a-copy\n",
      "  df_clean['Date'] = df_clean.apply(lambda row: f\"{int(row['Year']):04d}-{int(row['Month']):02d}-{int(row['Day']):02d}\", axis=1)\n"
     ]
    },
    {
     "name": "stdout",
     "output_type": "stream",
     "text": [
      "Downloaded data/synop/imgw/2023/2023_295_s.zip\n",
      "Extracted 2 files from data/synop/imgw/2023/2023_295_s.zip\n",
      "Deleted ZIP file data/synop/imgw/2023/2023_295_s.zip\n",
      "Processing file: data/synop/imgw/2023/s_d_295_2023.csv\n",
      "Adding SD data from file: data/synop/imgw/2023/s_d_295_2023.csv\n"
     ]
    },
    {
     "name": "stderr",
     "output_type": "stream",
     "text": [
      "/tmp/ipykernel_711180/2355723765.py:10: SettingWithCopyWarning: \n",
      "A value is trying to be set on a copy of a slice from a DataFrame.\n",
      "Try using .loc[row_indexer,col_indexer] = value instead\n",
      "\n",
      "See the caveats in the documentation: https://pandas.pydata.org/pandas-docs/stable/user_guide/indexing.html#returning-a-view-versus-a-copy\n",
      "  df_clean['Date'] = df_clean.apply(lambda row: f\"{int(row['Year']):04d}-{int(row['Month']):02d}-{int(row['Day']):02d}\", axis=1)\n"
     ]
    },
    {
     "name": "stdout",
     "output_type": "stream",
     "text": [
      "Deleted file data/synop/imgw/2023/s_d_295_2023.csv\n",
      "Processing file: data/synop/imgw/2023/s_d_t_295_2023.csv\n",
      "Adding SDT data from file: data/synop/imgw/2023/s_d_t_295_2023.csv\n",
      "Added SDT data from data/synop/imgw/2023/s_d_t_295_2023.csv\n",
      "Deleted file data/synop/imgw/2023/s_d_t_295_2023.csv\n",
      "Downloading and extracting ZIP from: https://danepubliczne.imgw.pl/data/dane_pomiarowo_obserwacyjne/dane_meteorologiczne/dobowe/synop/2023/2023_300_s.zip\n"
     ]
    },
    {
     "name": "stderr",
     "output_type": "stream",
     "text": [
      "/tmp/ipykernel_711180/2355723765.py:31: SettingWithCopyWarning: \n",
      "A value is trying to be set on a copy of a slice from a DataFrame.\n",
      "Try using .loc[row_indexer,col_indexer] = value instead\n",
      "\n",
      "See the caveats in the documentation: https://pandas.pydata.org/pandas-docs/stable/user_guide/indexing.html#returning-a-view-versus-a-copy\n",
      "  df_clean['Date'] = df_clean.apply(lambda row: f\"{int(row['Year']):04d}-{int(row['Month']):02d}-{int(row['Day']):02d}\", axis=1)\n"
     ]
    },
    {
     "name": "stdout",
     "output_type": "stream",
     "text": [
      "Downloaded data/synop/imgw/2023/2023_300_s.zip\n",
      "Extracted 2 files from data/synop/imgw/2023/2023_300_s.zip\n",
      "Deleted ZIP file data/synop/imgw/2023/2023_300_s.zip\n",
      "Processing file: data/synop/imgw/2023/s_d_300_2023.csv\n",
      "Adding SD data from file: data/synop/imgw/2023/s_d_300_2023.csv\n"
     ]
    },
    {
     "name": "stderr",
     "output_type": "stream",
     "text": [
      "/tmp/ipykernel_711180/2355723765.py:10: SettingWithCopyWarning: \n",
      "A value is trying to be set on a copy of a slice from a DataFrame.\n",
      "Try using .loc[row_indexer,col_indexer] = value instead\n",
      "\n",
      "See the caveats in the documentation: https://pandas.pydata.org/pandas-docs/stable/user_guide/indexing.html#returning-a-view-versus-a-copy\n",
      "  df_clean['Date'] = df_clean.apply(lambda row: f\"{int(row['Year']):04d}-{int(row['Month']):02d}-{int(row['Day']):02d}\", axis=1)\n"
     ]
    },
    {
     "name": "stdout",
     "output_type": "stream",
     "text": [
      "Deleted file data/synop/imgw/2023/s_d_300_2023.csv\n",
      "Processing file: data/synop/imgw/2023/s_d_t_300_2023.csv\n",
      "Adding SDT data from file: data/synop/imgw/2023/s_d_t_300_2023.csv\n",
      "Added SDT data from data/synop/imgw/2023/s_d_t_300_2023.csv\n",
      "Deleted file data/synop/imgw/2023/s_d_t_300_2023.csv\n",
      "Downloading and extracting ZIP from: https://danepubliczne.imgw.pl/data/dane_pomiarowo_obserwacyjne/dane_meteorologiczne/dobowe/synop/2023/2023_330_s.zip\n",
      "Downloaded data/synop/imgw/2023/2023_330_s.zip\n",
      "Extracted 2 files from data/synop/imgw/2023/2023_330_s.zip\n",
      "Deleted ZIP file data/synop/imgw/2023/2023_330_s.zip\n",
      "Processing file: data/synop/imgw/2023/s_d_330_2023.csv\n",
      "Adding SD data from file: data/synop/imgw/2023/s_d_330_2023.csv\n"
     ]
    },
    {
     "name": "stderr",
     "output_type": "stream",
     "text": [
      "/tmp/ipykernel_711180/2355723765.py:31: SettingWithCopyWarning: \n",
      "A value is trying to be set on a copy of a slice from a DataFrame.\n",
      "Try using .loc[row_indexer,col_indexer] = value instead\n",
      "\n",
      "See the caveats in the documentation: https://pandas.pydata.org/pandas-docs/stable/user_guide/indexing.html#returning-a-view-versus-a-copy\n",
      "  df_clean['Date'] = df_clean.apply(lambda row: f\"{int(row['Year']):04d}-{int(row['Month']):02d}-{int(row['Day']):02d}\", axis=1)\n",
      "/tmp/ipykernel_711180/2355723765.py:10: SettingWithCopyWarning: \n",
      "A value is trying to be set on a copy of a slice from a DataFrame.\n",
      "Try using .loc[row_indexer,col_indexer] = value instead\n",
      "\n",
      "See the caveats in the documentation: https://pandas.pydata.org/pandas-docs/stable/user_guide/indexing.html#returning-a-view-versus-a-copy\n",
      "  df_clean['Date'] = df_clean.apply(lambda row: f\"{int(row['Year']):04d}-{int(row['Month']):02d}-{int(row['Day']):02d}\", axis=1)\n"
     ]
    },
    {
     "name": "stdout",
     "output_type": "stream",
     "text": [
      "Deleted file data/synop/imgw/2023/s_d_330_2023.csv\n",
      "Processing file: data/synop/imgw/2023/s_d_t_330_2023.csv\n",
      "Adding SDT data from file: data/synop/imgw/2023/s_d_t_330_2023.csv\n",
      "Added SDT data from data/synop/imgw/2023/s_d_t_330_2023.csv\n",
      "Deleted file data/synop/imgw/2023/s_d_t_330_2023.csv\n",
      "Downloading and extracting ZIP from: https://danepubliczne.imgw.pl/data/dane_pomiarowo_obserwacyjne/dane_meteorologiczne/dobowe/synop/2023/2023_375_s.zip\n"
     ]
    },
    {
     "name": "stderr",
     "output_type": "stream",
     "text": [
      "/tmp/ipykernel_711180/2355723765.py:31: SettingWithCopyWarning: \n",
      "A value is trying to be set on a copy of a slice from a DataFrame.\n",
      "Try using .loc[row_indexer,col_indexer] = value instead\n",
      "\n",
      "See the caveats in the documentation: https://pandas.pydata.org/pandas-docs/stable/user_guide/indexing.html#returning-a-view-versus-a-copy\n",
      "  df_clean['Date'] = df_clean.apply(lambda row: f\"{int(row['Year']):04d}-{int(row['Month']):02d}-{int(row['Day']):02d}\", axis=1)\n"
     ]
    },
    {
     "name": "stdout",
     "output_type": "stream",
     "text": [
      "Downloaded data/synop/imgw/2023/2023_375_s.zip\n",
      "Extracted 2 files from data/synop/imgw/2023/2023_375_s.zip\n",
      "Deleted ZIP file data/synop/imgw/2023/2023_375_s.zip\n",
      "Processing file: data/synop/imgw/2023/s_d_375_2023.csv\n",
      "Adding SD data from file: data/synop/imgw/2023/s_d_375_2023.csv\n"
     ]
    },
    {
     "name": "stderr",
     "output_type": "stream",
     "text": [
      "/tmp/ipykernel_711180/2355723765.py:10: SettingWithCopyWarning: \n",
      "A value is trying to be set on a copy of a slice from a DataFrame.\n",
      "Try using .loc[row_indexer,col_indexer] = value instead\n",
      "\n",
      "See the caveats in the documentation: https://pandas.pydata.org/pandas-docs/stable/user_guide/indexing.html#returning-a-view-versus-a-copy\n",
      "  df_clean['Date'] = df_clean.apply(lambda row: f\"{int(row['Year']):04d}-{int(row['Month']):02d}-{int(row['Day']):02d}\", axis=1)\n"
     ]
    },
    {
     "name": "stdout",
     "output_type": "stream",
     "text": [
      "Deleted file data/synop/imgw/2023/s_d_375_2023.csv\n",
      "Processing file: data/synop/imgw/2023/s_d_t_375_2023.csv\n",
      "Adding SDT data from file: data/synop/imgw/2023/s_d_t_375_2023.csv\n",
      "Added SDT data from data/synop/imgw/2023/s_d_t_375_2023.csv\n",
      "Deleted file data/synop/imgw/2023/s_d_t_375_2023.csv\n",
      "Downloading and extracting ZIP from: https://danepubliczne.imgw.pl/data/dane_pomiarowo_obserwacyjne/dane_meteorologiczne/dobowe/synop/2023/2023_399_s.zip\n"
     ]
    },
    {
     "name": "stderr",
     "output_type": "stream",
     "text": [
      "/tmp/ipykernel_711180/2355723765.py:31: SettingWithCopyWarning: \n",
      "A value is trying to be set on a copy of a slice from a DataFrame.\n",
      "Try using .loc[row_indexer,col_indexer] = value instead\n",
      "\n",
      "See the caveats in the documentation: https://pandas.pydata.org/pandas-docs/stable/user_guide/indexing.html#returning-a-view-versus-a-copy\n",
      "  df_clean['Date'] = df_clean.apply(lambda row: f\"{int(row['Year']):04d}-{int(row['Month']):02d}-{int(row['Day']):02d}\", axis=1)\n"
     ]
    },
    {
     "name": "stdout",
     "output_type": "stream",
     "text": [
      "Downloaded data/synop/imgw/2023/2023_399_s.zip\n",
      "Extracted 2 files from data/synop/imgw/2023/2023_399_s.zip\n",
      "Deleted ZIP file data/synop/imgw/2023/2023_399_s.zip\n",
      "Processing file: data/synop/imgw/2023/s_d_399_2023.csv\n",
      "Adding SD data from file: data/synop/imgw/2023/s_d_399_2023.csv\n"
     ]
    },
    {
     "name": "stderr",
     "output_type": "stream",
     "text": [
      "/tmp/ipykernel_711180/2355723765.py:10: SettingWithCopyWarning: \n",
      "A value is trying to be set on a copy of a slice from a DataFrame.\n",
      "Try using .loc[row_indexer,col_indexer] = value instead\n",
      "\n",
      "See the caveats in the documentation: https://pandas.pydata.org/pandas-docs/stable/user_guide/indexing.html#returning-a-view-versus-a-copy\n",
      "  df_clean['Date'] = df_clean.apply(lambda row: f\"{int(row['Year']):04d}-{int(row['Month']):02d}-{int(row['Day']):02d}\", axis=1)\n"
     ]
    },
    {
     "name": "stdout",
     "output_type": "stream",
     "text": [
      "Deleted file data/synop/imgw/2023/s_d_399_2023.csv\n",
      "Processing file: data/synop/imgw/2023/s_d_t_399_2023.csv\n",
      "Adding SDT data from file: data/synop/imgw/2023/s_d_t_399_2023.csv\n",
      "Added SDT data from data/synop/imgw/2023/s_d_t_399_2023.csv\n",
      "Deleted file data/synop/imgw/2023/s_d_t_399_2023.csv\n",
      "Downloading and extracting ZIP from: https://danepubliczne.imgw.pl/data/dane_pomiarowo_obserwacyjne/dane_meteorologiczne/dobowe/synop/2023/2023_400_s.zip\n",
      "Downloaded data/synop/imgw/2023/2023_400_s.zip\n",
      "Extracted 2 files from data/synop/imgw/2023/2023_400_s.zip\n",
      "Deleted ZIP file data/synop/imgw/2023/2023_400_s.zip\n",
      "Processing file: data/synop/imgw/2023/s_d_400_2023.csv\n",
      "Adding SD data from file: data/synop/imgw/2023/s_d_400_2023.csv\n"
     ]
    },
    {
     "name": "stderr",
     "output_type": "stream",
     "text": [
      "/tmp/ipykernel_711180/2355723765.py:31: SettingWithCopyWarning: \n",
      "A value is trying to be set on a copy of a slice from a DataFrame.\n",
      "Try using .loc[row_indexer,col_indexer] = value instead\n",
      "\n",
      "See the caveats in the documentation: https://pandas.pydata.org/pandas-docs/stable/user_guide/indexing.html#returning-a-view-versus-a-copy\n",
      "  df_clean['Date'] = df_clean.apply(lambda row: f\"{int(row['Year']):04d}-{int(row['Month']):02d}-{int(row['Day']):02d}\", axis=1)\n",
      "/tmp/ipykernel_711180/2355723765.py:10: SettingWithCopyWarning: \n",
      "A value is trying to be set on a copy of a slice from a DataFrame.\n",
      "Try using .loc[row_indexer,col_indexer] = value instead\n",
      "\n",
      "See the caveats in the documentation: https://pandas.pydata.org/pandas-docs/stable/user_guide/indexing.html#returning-a-view-versus-a-copy\n",
      "  df_clean['Date'] = df_clean.apply(lambda row: f\"{int(row['Year']):04d}-{int(row['Month']):02d}-{int(row['Day']):02d}\", axis=1)\n"
     ]
    },
    {
     "name": "stdout",
     "output_type": "stream",
     "text": [
      "Deleted file data/synop/imgw/2023/s_d_400_2023.csv\n",
      "Processing file: data/synop/imgw/2023/s_d_t_400_2023.csv\n",
      "Adding SDT data from file: data/synop/imgw/2023/s_d_t_400_2023.csv\n",
      "Added SDT data from data/synop/imgw/2023/s_d_t_400_2023.csv\n",
      "Deleted file data/synop/imgw/2023/s_d_t_400_2023.csv\n",
      "Downloading and extracting ZIP from: https://danepubliczne.imgw.pl/data/dane_pomiarowo_obserwacyjne/dane_meteorologiczne/dobowe/synop/2023/2023_435_s.zip\n"
     ]
    },
    {
     "name": "stderr",
     "output_type": "stream",
     "text": [
      "/tmp/ipykernel_711180/2355723765.py:31: SettingWithCopyWarning: \n",
      "A value is trying to be set on a copy of a slice from a DataFrame.\n",
      "Try using .loc[row_indexer,col_indexer] = value instead\n",
      "\n",
      "See the caveats in the documentation: https://pandas.pydata.org/pandas-docs/stable/user_guide/indexing.html#returning-a-view-versus-a-copy\n",
      "  df_clean['Date'] = df_clean.apply(lambda row: f\"{int(row['Year']):04d}-{int(row['Month']):02d}-{int(row['Day']):02d}\", axis=1)\n"
     ]
    },
    {
     "name": "stdout",
     "output_type": "stream",
     "text": [
      "Downloaded data/synop/imgw/2023/2023_435_s.zip\n",
      "Extracted 2 files from data/synop/imgw/2023/2023_435_s.zip\n",
      "Deleted ZIP file data/synop/imgw/2023/2023_435_s.zip\n",
      "Processing file: data/synop/imgw/2023/s_d_435_2023.csv\n",
      "Adding SD data from file: data/synop/imgw/2023/s_d_435_2023.csv\n"
     ]
    },
    {
     "name": "stderr",
     "output_type": "stream",
     "text": [
      "/tmp/ipykernel_711180/2355723765.py:10: SettingWithCopyWarning: \n",
      "A value is trying to be set on a copy of a slice from a DataFrame.\n",
      "Try using .loc[row_indexer,col_indexer] = value instead\n",
      "\n",
      "See the caveats in the documentation: https://pandas.pydata.org/pandas-docs/stable/user_guide/indexing.html#returning-a-view-versus-a-copy\n",
      "  df_clean['Date'] = df_clean.apply(lambda row: f\"{int(row['Year']):04d}-{int(row['Month']):02d}-{int(row['Day']):02d}\", axis=1)\n"
     ]
    },
    {
     "name": "stdout",
     "output_type": "stream",
     "text": [
      "Deleted file data/synop/imgw/2023/s_d_435_2023.csv\n",
      "Processing file: data/synop/imgw/2023/s_d_t_435_2023.csv\n",
      "Adding SDT data from file: data/synop/imgw/2023/s_d_t_435_2023.csv\n"
     ]
    },
    {
     "name": "stderr",
     "output_type": "stream",
     "text": [
      "/tmp/ipykernel_711180/2355723765.py:31: SettingWithCopyWarning: \n",
      "A value is trying to be set on a copy of a slice from a DataFrame.\n",
      "Try using .loc[row_indexer,col_indexer] = value instead\n",
      "\n",
      "See the caveats in the documentation: https://pandas.pydata.org/pandas-docs/stable/user_guide/indexing.html#returning-a-view-versus-a-copy\n",
      "  df_clean['Date'] = df_clean.apply(lambda row: f\"{int(row['Year']):04d}-{int(row['Month']):02d}-{int(row['Day']):02d}\", axis=1)\n"
     ]
    },
    {
     "name": "stdout",
     "output_type": "stream",
     "text": [
      "Added SDT data from data/synop/imgw/2023/s_d_t_435_2023.csv\n",
      "Deleted file data/synop/imgw/2023/s_d_t_435_2023.csv\n",
      "Downloading and extracting ZIP from: https://danepubliczne.imgw.pl/data/dane_pomiarowo_obserwacyjne/dane_meteorologiczne/dobowe/synop/2023/2023_465_s.zip\n",
      "Downloaded data/synop/imgw/2023/2023_465_s.zip\n",
      "Extracted 2 files from data/synop/imgw/2023/2023_465_s.zip\n",
      "Deleted ZIP file data/synop/imgw/2023/2023_465_s.zip\n",
      "Processing file: data/synop/imgw/2023/s_d_465_2023.csv\n",
      "Adding SD data from file: data/synop/imgw/2023/s_d_465_2023.csv\n"
     ]
    },
    {
     "name": "stderr",
     "output_type": "stream",
     "text": [
      "/tmp/ipykernel_711180/2355723765.py:10: SettingWithCopyWarning: \n",
      "A value is trying to be set on a copy of a slice from a DataFrame.\n",
      "Try using .loc[row_indexer,col_indexer] = value instead\n",
      "\n",
      "See the caveats in the documentation: https://pandas.pydata.org/pandas-docs/stable/user_guide/indexing.html#returning-a-view-versus-a-copy\n",
      "  df_clean['Date'] = df_clean.apply(lambda row: f\"{int(row['Year']):04d}-{int(row['Month']):02d}-{int(row['Day']):02d}\", axis=1)\n"
     ]
    },
    {
     "name": "stdout",
     "output_type": "stream",
     "text": [
      "Deleted file data/synop/imgw/2023/s_d_465_2023.csv\n",
      "Processing file: data/synop/imgw/2023/s_d_t_465_2023.csv\n",
      "Adding SDT data from file: data/synop/imgw/2023/s_d_t_465_2023.csv\n",
      "Added SDT data from data/synop/imgw/2023/s_d_t_465_2023.csv\n",
      "Deleted file data/synop/imgw/2023/s_d_t_465_2023.csv\n",
      "Downloading and extracting ZIP from: https://danepubliczne.imgw.pl/data/dane_pomiarowo_obserwacyjne/dane_meteorologiczne/dobowe/synop/2023/2023_497_s.zip\n",
      "Downloaded data/synop/imgw/2023/2023_497_s.zip\n",
      "Extracted 2 files from data/synop/imgw/2023/2023_497_s.zip\n",
      "Deleted ZIP file data/synop/imgw/2023/2023_497_s.zip\n",
      "Processing file: data/synop/imgw/2023/s_d_497_2023.csv\n",
      "Adding SD data from file: data/synop/imgw/2023/s_d_497_2023.csv\n"
     ]
    },
    {
     "name": "stderr",
     "output_type": "stream",
     "text": [
      "/tmp/ipykernel_711180/2355723765.py:31: SettingWithCopyWarning: \n",
      "A value is trying to be set on a copy of a slice from a DataFrame.\n",
      "Try using .loc[row_indexer,col_indexer] = value instead\n",
      "\n",
      "See the caveats in the documentation: https://pandas.pydata.org/pandas-docs/stable/user_guide/indexing.html#returning-a-view-versus-a-copy\n",
      "  df_clean['Date'] = df_clean.apply(lambda row: f\"{int(row['Year']):04d}-{int(row['Month']):02d}-{int(row['Day']):02d}\", axis=1)\n",
      "/tmp/ipykernel_711180/2355723765.py:10: SettingWithCopyWarning: \n",
      "A value is trying to be set on a copy of a slice from a DataFrame.\n",
      "Try using .loc[row_indexer,col_indexer] = value instead\n",
      "\n",
      "See the caveats in the documentation: https://pandas.pydata.org/pandas-docs/stable/user_guide/indexing.html#returning-a-view-versus-a-copy\n",
      "  df_clean['Date'] = df_clean.apply(lambda row: f\"{int(row['Year']):04d}-{int(row['Month']):02d}-{int(row['Day']):02d}\", axis=1)\n"
     ]
    },
    {
     "name": "stdout",
     "output_type": "stream",
     "text": [
      "Deleted file data/synop/imgw/2023/s_d_497_2023.csv\n",
      "Processing file: data/synop/imgw/2023/s_d_t_497_2023.csv\n",
      "Adding SDT data from file: data/synop/imgw/2023/s_d_t_497_2023.csv\n",
      "Added SDT data from data/synop/imgw/2023/s_d_t_497_2023.csv\n",
      "Deleted file data/synop/imgw/2023/s_d_t_497_2023.csv\n",
      "Downloading and extracting ZIP from: https://danepubliczne.imgw.pl/data/dane_pomiarowo_obserwacyjne/dane_meteorologiczne/dobowe/synop/2023/2023_500_s.zip\n",
      "Downloaded data/synop/imgw/2023/2023_500_s.zip\n",
      "Extracted 2 files from data/synop/imgw/2023/2023_500_s.zip\n",
      "Deleted ZIP file data/synop/imgw/2023/2023_500_s.zip\n",
      "Processing file: data/synop/imgw/2023/s_d_500_2023.csv\n",
      "Adding SD data from file: data/synop/imgw/2023/s_d_500_2023.csv\n"
     ]
    },
    {
     "name": "stderr",
     "output_type": "stream",
     "text": [
      "/tmp/ipykernel_711180/2355723765.py:31: SettingWithCopyWarning: \n",
      "A value is trying to be set on a copy of a slice from a DataFrame.\n",
      "Try using .loc[row_indexer,col_indexer] = value instead\n",
      "\n",
      "See the caveats in the documentation: https://pandas.pydata.org/pandas-docs/stable/user_guide/indexing.html#returning-a-view-versus-a-copy\n",
      "  df_clean['Date'] = df_clean.apply(lambda row: f\"{int(row['Year']):04d}-{int(row['Month']):02d}-{int(row['Day']):02d}\", axis=1)\n",
      "/tmp/ipykernel_711180/2355723765.py:10: SettingWithCopyWarning: \n",
      "A value is trying to be set on a copy of a slice from a DataFrame.\n",
      "Try using .loc[row_indexer,col_indexer] = value instead\n",
      "\n",
      "See the caveats in the documentation: https://pandas.pydata.org/pandas-docs/stable/user_guide/indexing.html#returning-a-view-versus-a-copy\n",
      "  df_clean['Date'] = df_clean.apply(lambda row: f\"{int(row['Year']):04d}-{int(row['Month']):02d}-{int(row['Day']):02d}\", axis=1)\n"
     ]
    },
    {
     "name": "stdout",
     "output_type": "stream",
     "text": [
      "Deleted file data/synop/imgw/2023/s_d_500_2023.csv\n",
      "Processing file: data/synop/imgw/2023/s_d_t_500_2023.csv\n",
      "Adding SDT data from file: data/synop/imgw/2023/s_d_t_500_2023.csv\n",
      "Added SDT data from data/synop/imgw/2023/s_d_t_500_2023.csv\n",
      "Deleted file data/synop/imgw/2023/s_d_t_500_2023.csv\n",
      "Downloading and extracting ZIP from: https://danepubliczne.imgw.pl/data/dane_pomiarowo_obserwacyjne/dane_meteorologiczne/dobowe/synop/2023/2023_510_s.zip\n"
     ]
    },
    {
     "name": "stderr",
     "output_type": "stream",
     "text": [
      "/tmp/ipykernel_711180/2355723765.py:31: SettingWithCopyWarning: \n",
      "A value is trying to be set on a copy of a slice from a DataFrame.\n",
      "Try using .loc[row_indexer,col_indexer] = value instead\n",
      "\n",
      "See the caveats in the documentation: https://pandas.pydata.org/pandas-docs/stable/user_guide/indexing.html#returning-a-view-versus-a-copy\n",
      "  df_clean['Date'] = df_clean.apply(lambda row: f\"{int(row['Year']):04d}-{int(row['Month']):02d}-{int(row['Day']):02d}\", axis=1)\n"
     ]
    },
    {
     "name": "stdout",
     "output_type": "stream",
     "text": [
      "Downloaded data/synop/imgw/2023/2023_510_s.zip\n",
      "Extracted 2 files from data/synop/imgw/2023/2023_510_s.zip\n",
      "Deleted ZIP file data/synop/imgw/2023/2023_510_s.zip\n",
      "Processing file: data/synop/imgw/2023/s_d_510_2023.csv\n",
      "Adding SD data from file: data/synop/imgw/2023/s_d_510_2023.csv\n"
     ]
    },
    {
     "name": "stderr",
     "output_type": "stream",
     "text": [
      "/tmp/ipykernel_711180/2355723765.py:10: SettingWithCopyWarning: \n",
      "A value is trying to be set on a copy of a slice from a DataFrame.\n",
      "Try using .loc[row_indexer,col_indexer] = value instead\n",
      "\n",
      "See the caveats in the documentation: https://pandas.pydata.org/pandas-docs/stable/user_guide/indexing.html#returning-a-view-versus-a-copy\n",
      "  df_clean['Date'] = df_clean.apply(lambda row: f\"{int(row['Year']):04d}-{int(row['Month']):02d}-{int(row['Day']):02d}\", axis=1)\n"
     ]
    },
    {
     "name": "stdout",
     "output_type": "stream",
     "text": [
      "Deleted file data/synop/imgw/2023/s_d_510_2023.csv\n",
      "Processing file: data/synop/imgw/2023/s_d_t_510_2023.csv\n",
      "Adding SDT data from file: data/synop/imgw/2023/s_d_t_510_2023.csv\n",
      "Added SDT data from data/synop/imgw/2023/s_d_t_510_2023.csv\n",
      "Deleted file data/synop/imgw/2023/s_d_t_510_2023.csv\n",
      "Downloading and extracting ZIP from: https://danepubliczne.imgw.pl/data/dane_pomiarowo_obserwacyjne/dane_meteorologiczne/dobowe/synop/2023/2023_520_s.zip\n"
     ]
    },
    {
     "name": "stderr",
     "output_type": "stream",
     "text": [
      "/tmp/ipykernel_711180/2355723765.py:31: SettingWithCopyWarning: \n",
      "A value is trying to be set on a copy of a slice from a DataFrame.\n",
      "Try using .loc[row_indexer,col_indexer] = value instead\n",
      "\n",
      "See the caveats in the documentation: https://pandas.pydata.org/pandas-docs/stable/user_guide/indexing.html#returning-a-view-versus-a-copy\n",
      "  df_clean['Date'] = df_clean.apply(lambda row: f\"{int(row['Year']):04d}-{int(row['Month']):02d}-{int(row['Day']):02d}\", axis=1)\n"
     ]
    },
    {
     "name": "stdout",
     "output_type": "stream",
     "text": [
      "Downloaded data/synop/imgw/2023/2023_520_s.zip\n",
      "Extracted 2 files from data/synop/imgw/2023/2023_520_s.zip\n",
      "Deleted ZIP file data/synop/imgw/2023/2023_520_s.zip\n",
      "Processing file: data/synop/imgw/2023/s_d_520_2023.csv\n",
      "Adding SD data from file: data/synop/imgw/2023/s_d_520_2023.csv\n"
     ]
    },
    {
     "name": "stderr",
     "output_type": "stream",
     "text": [
      "/tmp/ipykernel_711180/2355723765.py:10: SettingWithCopyWarning: \n",
      "A value is trying to be set on a copy of a slice from a DataFrame.\n",
      "Try using .loc[row_indexer,col_indexer] = value instead\n",
      "\n",
      "See the caveats in the documentation: https://pandas.pydata.org/pandas-docs/stable/user_guide/indexing.html#returning-a-view-versus-a-copy\n",
      "  df_clean['Date'] = df_clean.apply(lambda row: f\"{int(row['Year']):04d}-{int(row['Month']):02d}-{int(row['Day']):02d}\", axis=1)\n"
     ]
    },
    {
     "name": "stdout",
     "output_type": "stream",
     "text": [
      "Deleted file data/synop/imgw/2023/s_d_520_2023.csv\n",
      "Processing file: data/synop/imgw/2023/s_d_t_520_2023.csv\n",
      "Adding SDT data from file: data/synop/imgw/2023/s_d_t_520_2023.csv\n",
      "Added SDT data from data/synop/imgw/2023/s_d_t_520_2023.csv\n",
      "Deleted file data/synop/imgw/2023/s_d_t_520_2023.csv\n",
      "Downloading and extracting ZIP from: https://danepubliczne.imgw.pl/data/dane_pomiarowo_obserwacyjne/dane_meteorologiczne/dobowe/synop/2023/2023_530_s.zip\n",
      "Downloaded data/synop/imgw/2023/2023_530_s.zip\n",
      "Extracted 2 files from data/synop/imgw/2023/2023_530_s.zip\n",
      "Deleted ZIP file data/synop/imgw/2023/2023_530_s.zip\n",
      "Processing file: data/synop/imgw/2023/s_d_530_2023.csv\n",
      "Adding SD data from file: data/synop/imgw/2023/s_d_530_2023.csv\n"
     ]
    },
    {
     "name": "stderr",
     "output_type": "stream",
     "text": [
      "/tmp/ipykernel_711180/2355723765.py:31: SettingWithCopyWarning: \n",
      "A value is trying to be set on a copy of a slice from a DataFrame.\n",
      "Try using .loc[row_indexer,col_indexer] = value instead\n",
      "\n",
      "See the caveats in the documentation: https://pandas.pydata.org/pandas-docs/stable/user_guide/indexing.html#returning-a-view-versus-a-copy\n",
      "  df_clean['Date'] = df_clean.apply(lambda row: f\"{int(row['Year']):04d}-{int(row['Month']):02d}-{int(row['Day']):02d}\", axis=1)\n",
      "/tmp/ipykernel_711180/2355723765.py:10: SettingWithCopyWarning: \n",
      "A value is trying to be set on a copy of a slice from a DataFrame.\n",
      "Try using .loc[row_indexer,col_indexer] = value instead\n",
      "\n",
      "See the caveats in the documentation: https://pandas.pydata.org/pandas-docs/stable/user_guide/indexing.html#returning-a-view-versus-a-copy\n",
      "  df_clean['Date'] = df_clean.apply(lambda row: f\"{int(row['Year']):04d}-{int(row['Month']):02d}-{int(row['Day']):02d}\", axis=1)\n"
     ]
    },
    {
     "name": "stdout",
     "output_type": "stream",
     "text": [
      "Deleted file data/synop/imgw/2023/s_d_530_2023.csv\n",
      "Processing file: data/synop/imgw/2023/s_d_t_530_2023.csv\n",
      "Adding SDT data from file: data/synop/imgw/2023/s_d_t_530_2023.csv\n",
      "Added SDT data from data/synop/imgw/2023/s_d_t_530_2023.csv\n",
      "Deleted file data/synop/imgw/2023/s_d_t_530_2023.csv\n",
      "Downloading and extracting ZIP from: https://danepubliczne.imgw.pl/data/dane_pomiarowo_obserwacyjne/dane_meteorologiczne/dobowe/synop/2023/2023_560_s.zip\n"
     ]
    },
    {
     "name": "stderr",
     "output_type": "stream",
     "text": [
      "/tmp/ipykernel_711180/2355723765.py:31: SettingWithCopyWarning: \n",
      "A value is trying to be set on a copy of a slice from a DataFrame.\n",
      "Try using .loc[row_indexer,col_indexer] = value instead\n",
      "\n",
      "See the caveats in the documentation: https://pandas.pydata.org/pandas-docs/stable/user_guide/indexing.html#returning-a-view-versus-a-copy\n",
      "  df_clean['Date'] = df_clean.apply(lambda row: f\"{int(row['Year']):04d}-{int(row['Month']):02d}-{int(row['Day']):02d}\", axis=1)\n"
     ]
    },
    {
     "name": "stdout",
     "output_type": "stream",
     "text": [
      "Downloaded data/synop/imgw/2023/2023_560_s.zip\n",
      "Extracted 2 files from data/synop/imgw/2023/2023_560_s.zip\n",
      "Deleted ZIP file data/synop/imgw/2023/2023_560_s.zip\n",
      "Processing file: data/synop/imgw/2023/s_d_560_2023.csv\n",
      "Adding SD data from file: data/synop/imgw/2023/s_d_560_2023.csv\n"
     ]
    },
    {
     "name": "stderr",
     "output_type": "stream",
     "text": [
      "/tmp/ipykernel_711180/2355723765.py:10: SettingWithCopyWarning: \n",
      "A value is trying to be set on a copy of a slice from a DataFrame.\n",
      "Try using .loc[row_indexer,col_indexer] = value instead\n",
      "\n",
      "See the caveats in the documentation: https://pandas.pydata.org/pandas-docs/stable/user_guide/indexing.html#returning-a-view-versus-a-copy\n",
      "  df_clean['Date'] = df_clean.apply(lambda row: f\"{int(row['Year']):04d}-{int(row['Month']):02d}-{int(row['Day']):02d}\", axis=1)\n"
     ]
    },
    {
     "name": "stdout",
     "output_type": "stream",
     "text": [
      "Deleted file data/synop/imgw/2023/s_d_560_2023.csv\n",
      "Processing file: data/synop/imgw/2023/s_d_t_560_2023.csv\n",
      "Adding SDT data from file: data/synop/imgw/2023/s_d_t_560_2023.csv\n",
      "Added SDT data from data/synop/imgw/2023/s_d_t_560_2023.csv\n",
      "Deleted file data/synop/imgw/2023/s_d_t_560_2023.csv\n",
      "Downloading and extracting ZIP from: https://danepubliczne.imgw.pl/data/dane_pomiarowo_obserwacyjne/dane_meteorologiczne/dobowe/synop/2023/2023_566_s.zip\n"
     ]
    },
    {
     "name": "stderr",
     "output_type": "stream",
     "text": [
      "/tmp/ipykernel_711180/2355723765.py:31: SettingWithCopyWarning: \n",
      "A value is trying to be set on a copy of a slice from a DataFrame.\n",
      "Try using .loc[row_indexer,col_indexer] = value instead\n",
      "\n",
      "See the caveats in the documentation: https://pandas.pydata.org/pandas-docs/stable/user_guide/indexing.html#returning-a-view-versus-a-copy\n",
      "  df_clean['Date'] = df_clean.apply(lambda row: f\"{int(row['Year']):04d}-{int(row['Month']):02d}-{int(row['Day']):02d}\", axis=1)\n"
     ]
    },
    {
     "name": "stdout",
     "output_type": "stream",
     "text": [
      "Downloaded data/synop/imgw/2023/2023_566_s.zip\n",
      "Extracted 2 files from data/synop/imgw/2023/2023_566_s.zip\n",
      "Deleted ZIP file data/synop/imgw/2023/2023_566_s.zip\n",
      "Processing file: data/synop/imgw/2023/s_d_566_2023.csv\n",
      "Adding SD data from file: data/synop/imgw/2023/s_d_566_2023.csv\n"
     ]
    },
    {
     "name": "stderr",
     "output_type": "stream",
     "text": [
      "/tmp/ipykernel_711180/2355723765.py:10: SettingWithCopyWarning: \n",
      "A value is trying to be set on a copy of a slice from a DataFrame.\n",
      "Try using .loc[row_indexer,col_indexer] = value instead\n",
      "\n",
      "See the caveats in the documentation: https://pandas.pydata.org/pandas-docs/stable/user_guide/indexing.html#returning-a-view-versus-a-copy\n",
      "  df_clean['Date'] = df_clean.apply(lambda row: f\"{int(row['Year']):04d}-{int(row['Month']):02d}-{int(row['Day']):02d}\", axis=1)\n"
     ]
    },
    {
     "name": "stdout",
     "output_type": "stream",
     "text": [
      "Deleted file data/synop/imgw/2023/s_d_566_2023.csv\n",
      "Processing file: data/synop/imgw/2023/s_d_t_566_2023.csv\n",
      "Adding SDT data from file: data/synop/imgw/2023/s_d_t_566_2023.csv\n",
      "Added SDT data from data/synop/imgw/2023/s_d_t_566_2023.csv\n",
      "Deleted file data/synop/imgw/2023/s_d_t_566_2023.csv\n",
      "Downloading and extracting ZIP from: https://danepubliczne.imgw.pl/data/dane_pomiarowo_obserwacyjne/dane_meteorologiczne/dobowe/synop/2023/2023_625_s.zip\n"
     ]
    },
    {
     "name": "stderr",
     "output_type": "stream",
     "text": [
      "/tmp/ipykernel_711180/2355723765.py:31: SettingWithCopyWarning: \n",
      "A value is trying to be set on a copy of a slice from a DataFrame.\n",
      "Try using .loc[row_indexer,col_indexer] = value instead\n",
      "\n",
      "See the caveats in the documentation: https://pandas.pydata.org/pandas-docs/stable/user_guide/indexing.html#returning-a-view-versus-a-copy\n",
      "  df_clean['Date'] = df_clean.apply(lambda row: f\"{int(row['Year']):04d}-{int(row['Month']):02d}-{int(row['Day']):02d}\", axis=1)\n"
     ]
    },
    {
     "name": "stdout",
     "output_type": "stream",
     "text": [
      "Downloaded data/synop/imgw/2023/2023_625_s.zip\n",
      "Extracted 2 files from data/synop/imgw/2023/2023_625_s.zip\n",
      "Deleted ZIP file data/synop/imgw/2023/2023_625_s.zip\n",
      "Processing file: data/synop/imgw/2023/s_d_625_2023.csv\n",
      "Adding SD data from file: data/synop/imgw/2023/s_d_625_2023.csv\n"
     ]
    },
    {
     "name": "stderr",
     "output_type": "stream",
     "text": [
      "/tmp/ipykernel_711180/2355723765.py:10: SettingWithCopyWarning: \n",
      "A value is trying to be set on a copy of a slice from a DataFrame.\n",
      "Try using .loc[row_indexer,col_indexer] = value instead\n",
      "\n",
      "See the caveats in the documentation: https://pandas.pydata.org/pandas-docs/stable/user_guide/indexing.html#returning-a-view-versus-a-copy\n",
      "  df_clean['Date'] = df_clean.apply(lambda row: f\"{int(row['Year']):04d}-{int(row['Month']):02d}-{int(row['Day']):02d}\", axis=1)\n"
     ]
    },
    {
     "name": "stdout",
     "output_type": "stream",
     "text": [
      "Deleted file data/synop/imgw/2023/s_d_625_2023.csv\n",
      "Processing file: data/synop/imgw/2023/s_d_t_625_2023.csv\n",
      "Adding SDT data from file: data/synop/imgw/2023/s_d_t_625_2023.csv\n",
      "Added SDT data from data/synop/imgw/2023/s_d_t_625_2023.csv\n",
      "Deleted file data/synop/imgw/2023/s_d_t_625_2023.csv\n",
      "Downloading and extracting ZIP from: https://danepubliczne.imgw.pl/data/dane_pomiarowo_obserwacyjne/dane_meteorologiczne/dobowe/synop/2023/2023_650_s.zip\n"
     ]
    },
    {
     "name": "stderr",
     "output_type": "stream",
     "text": [
      "/tmp/ipykernel_711180/2355723765.py:31: SettingWithCopyWarning: \n",
      "A value is trying to be set on a copy of a slice from a DataFrame.\n",
      "Try using .loc[row_indexer,col_indexer] = value instead\n",
      "\n",
      "See the caveats in the documentation: https://pandas.pydata.org/pandas-docs/stable/user_guide/indexing.html#returning-a-view-versus-a-copy\n",
      "  df_clean['Date'] = df_clean.apply(lambda row: f\"{int(row['Year']):04d}-{int(row['Month']):02d}-{int(row['Day']):02d}\", axis=1)\n"
     ]
    },
    {
     "name": "stdout",
     "output_type": "stream",
     "text": [
      "Downloaded data/synop/imgw/2023/2023_650_s.zip\n",
      "Extracted 2 files from data/synop/imgw/2023/2023_650_s.zip\n",
      "Deleted ZIP file data/synop/imgw/2023/2023_650_s.zip\n",
      "Processing file: data/synop/imgw/2023/s_d_650_2023.csv\n",
      "Adding SD data from file: data/synop/imgw/2023/s_d_650_2023.csv\n"
     ]
    },
    {
     "name": "stderr",
     "output_type": "stream",
     "text": [
      "/tmp/ipykernel_711180/2355723765.py:10: SettingWithCopyWarning: \n",
      "A value is trying to be set on a copy of a slice from a DataFrame.\n",
      "Try using .loc[row_indexer,col_indexer] = value instead\n",
      "\n",
      "See the caveats in the documentation: https://pandas.pydata.org/pandas-docs/stable/user_guide/indexing.html#returning-a-view-versus-a-copy\n",
      "  df_clean['Date'] = df_clean.apply(lambda row: f\"{int(row['Year']):04d}-{int(row['Month']):02d}-{int(row['Day']):02d}\", axis=1)\n"
     ]
    },
    {
     "name": "stdout",
     "output_type": "stream",
     "text": [
      "Deleted file data/synop/imgw/2023/s_d_650_2023.csv\n",
      "Processing file: data/synop/imgw/2023/s_d_t_650_2023.csv\n",
      "Adding SDT data from file: data/synop/imgw/2023/s_d_t_650_2023.csv\n",
      "Added SDT data from data/synop/imgw/2023/s_d_t_650_2023.csv\n",
      "Deleted file data/synop/imgw/2023/s_d_t_650_2023.csv\n",
      "Downloading and extracting ZIP from: https://danepubliczne.imgw.pl/data/dane_pomiarowo_obserwacyjne/dane_meteorologiczne/dobowe/synop/2023/2023_690_s.zip\n"
     ]
    },
    {
     "name": "stderr",
     "output_type": "stream",
     "text": [
      "/tmp/ipykernel_711180/2355723765.py:31: SettingWithCopyWarning: \n",
      "A value is trying to be set on a copy of a slice from a DataFrame.\n",
      "Try using .loc[row_indexer,col_indexer] = value instead\n",
      "\n",
      "See the caveats in the documentation: https://pandas.pydata.org/pandas-docs/stable/user_guide/indexing.html#returning-a-view-versus-a-copy\n",
      "  df_clean['Date'] = df_clean.apply(lambda row: f\"{int(row['Year']):04d}-{int(row['Month']):02d}-{int(row['Day']):02d}\", axis=1)\n"
     ]
    },
    {
     "name": "stdout",
     "output_type": "stream",
     "text": [
      "Downloaded data/synop/imgw/2023/2023_690_s.zip\n",
      "Extracted 2 files from data/synop/imgw/2023/2023_690_s.zip\n",
      "Deleted ZIP file data/synop/imgw/2023/2023_690_s.zip\n",
      "Processing file: data/synop/imgw/2023/s_d_690_2023.csv\n",
      "Adding SD data from file: data/synop/imgw/2023/s_d_690_2023.csv\n"
     ]
    },
    {
     "name": "stderr",
     "output_type": "stream",
     "text": [
      "/tmp/ipykernel_711180/2355723765.py:10: SettingWithCopyWarning: \n",
      "A value is trying to be set on a copy of a slice from a DataFrame.\n",
      "Try using .loc[row_indexer,col_indexer] = value instead\n",
      "\n",
      "See the caveats in the documentation: https://pandas.pydata.org/pandas-docs/stable/user_guide/indexing.html#returning-a-view-versus-a-copy\n",
      "  df_clean['Date'] = df_clean.apply(lambda row: f\"{int(row['Year']):04d}-{int(row['Month']):02d}-{int(row['Day']):02d}\", axis=1)\n"
     ]
    },
    {
     "name": "stdout",
     "output_type": "stream",
     "text": [
      "Deleted file data/synop/imgw/2023/s_d_690_2023.csv\n",
      "Processing file: data/synop/imgw/2023/s_d_t_690_2023.csv\n",
      "Adding SDT data from file: data/synop/imgw/2023/s_d_t_690_2023.csv\n",
      "Added SDT data from data/synop/imgw/2023/s_d_t_690_2023.csv\n",
      "Deleted file data/synop/imgw/2023/s_d_t_690_2023.csv\n",
      "Processed data for year 2023\n"
     ]
    },
    {
     "name": "stderr",
     "output_type": "stream",
     "text": [
      "/tmp/ipykernel_711180/2355723765.py:31: SettingWithCopyWarning: \n",
      "A value is trying to be set on a copy of a slice from a DataFrame.\n",
      "Try using .loc[row_indexer,col_indexer] = value instead\n",
      "\n",
      "See the caveats in the documentation: https://pandas.pydata.org/pandas-docs/stable/user_guide/indexing.html#returning-a-view-versus-a-copy\n",
      "  df_clean['Date'] = df_clean.apply(lambda row: f\"{int(row['Year']):04d}-{int(row['Month']):02d}-{int(row['Day']):02d}\", axis=1)\n"
     ]
    }
   ],
   "source": [
    "if __name__ == '__main__':\n",
    "    # Read codes of interest from file 'data/synop/stations/station_info.csv'\n",
    "    station_info = pd.read_csv('data/synop/stations/station_info.csv')\n",
    "    codes_of_interest = station_info['METEO_code'].tolist()\n",
    "    codes = [str(code) for code in codes_of_interest]\n",
    "    print(f\"Codes of interest: {codes}\")\n",
    "    for year in range(2021, 2024):\n",
    "        process_data_for_year(year, codes)"
   ]
  },
  {
   "cell_type": "code",
   "execution_count": 25,
   "metadata": {},
   "outputs": [],
   "source": [
    "# add all electricity data \n",
    "\n",
    "\n",
    "if __name__ == '__main__':\n",
    "    conn = create_connection()\n",
    "    try:\n",
    "        add_electricity_data(conn, 'data/electricity/PL_2021_daily.csv')\n",
    "        add_electricity_data(conn, 'data/electricity/PL_2022_daily.csv')\n",
    "        add_electricity_data(conn, 'data/electricity/PL_2023_daily.csv')\n",
    "    finally:\n",
    "        conn.close()"
   ]
  },
  {
   "cell_type": "markdown",
   "metadata": {},
   "source": [
    "## Aggregate to csv"
   ]
  },
  {
   "cell_type": "code",
   "execution_count": 26,
   "metadata": {},
   "outputs": [],
   "source": [
    "import sqlite3\n",
    "import pandas as pd\n",
    "\n",
    "DB_NAME = 'data/synop/synop.db'\n",
    "\n",
    "def fetch_data(year: int) -> pd.DataFrame:\n",
    "    \"\"\"Fetch data from the WeatherSD and WeatherSDT tables for the given year.\"\"\"\n",
    "    conn = sqlite3.connect(DB_NAME)\n",
    "    query_sd = f\"\"\"\n",
    "    SELECT \n",
    "        Date, \n",
    "        MAX(Max_Daily_Temperature) AS Max_Daily_Temperature,\n",
    "        MIN(Min_Daily_Temperature) AS Min_Daily_Temperature,\n",
    "        AVG(Avg_Daily_Temperature) AS Avg_Daily_Temperature,\n",
    "        AVG(Total_Daily_Precipitation) AS Total_Daily_Precipitation,\n",
    "        AVG(Sunshine_Hours) AS Sunshine_Hours,\n",
    "        AVG(Actinometry) AS Actinometry,\n",
    "        AVG(Wind_Duration_Over_10m_s) AS Wind_Duration_Over_10m_s\n",
    "    FROM WeatherSD\n",
    "    WHERE strftime('%Y', Date) = '{year}'\n",
    "    GROUP BY Date\n",
    "    \"\"\"\n",
    "\n",
    "    query_sdt = f\"\"\"\n",
    "    SELECT \n",
    "        Date, \n",
    "        AVG(Avg_Daily_Overall_Cloudiness) AS Avg_Daily_Overall_Cloudiness,\n",
    "        AVG(Avg_Daily_Wind_Speed) AS Avg_Daily_Wind_Speed\n",
    "    FROM WeatherSDT\n",
    "    WHERE strftime('%Y', Date) = '{year}'\n",
    "    GROUP BY Date\n",
    "    \"\"\"\n",
    "\n",
    "    df_sd = pd.read_sql_query(query_sd, conn)\n",
    "    df_sdt = pd.read_sql_query(query_sdt, conn)\n",
    "    conn.close()\n",
    "\n",
    "    # Merge the dataframes on the Date column\n",
    "    df_merged = pd.merge(df_sd, df_sdt, on='Date', how='outer')\n",
    "\n",
    "    return df_merged\n",
    "\n"
   ]
  },
  {
   "cell_type": "code",
   "execution_count": 27,
   "metadata": {},
   "outputs": [],
   "source": [
    "# join the electricity data with the weather data on the date -> only for 2023\n",
    "import pandas as pd\n"
   ]
  },
  {
   "cell_type": "code",
   "execution_count": 28,
   "metadata": {},
   "outputs": [
    {
     "name": "stdout",
     "output_type": "stream",
     "text": [
      "Data saved to aggregated_data_2022.csv\n"
     ]
    }
   ],
   "source": [
    "import sqlite3\n",
    "import pandas as pd\n",
    "\n",
    "DB_NAME = 'data/synop/synop.db'\n",
    "\n",
    "def fetch_data(year: int) -> pd.DataFrame:\n",
    "    \"\"\"Fetch data from the WeatherSD, WeatherSDT, and ElectricityData tables for the given year.\"\"\"\n",
    "    conn = sqlite3.connect(DB_NAME)\n",
    "    \n",
    "    query_sd = f\"\"\"\n",
    "    SELECT \n",
    "        Date, \n",
    "        MAX(Max_Daily_Temperature) AS Max_Daily_Temperature,\n",
    "        MIN(Min_Daily_Temperature) AS Min_Daily_Temperature,\n",
    "        AVG(Avg_Daily_Temperature) AS Avg_Daily_Temperature,\n",
    "        AVG(Total_Daily_Precipitation) AS Total_Daily_Precipitation,\n",
    "        AVG(Sunshine_Hours) AS Sunshine_Hours,\n",
    "        AVG(Actinometry) AS Actinometry,\n",
    "        AVG(Wind_Duration_Over_10m_s) AS Wind_Duration_Over_10m_s\n",
    "    FROM WeatherSD\n",
    "    WHERE strftime('%Y', Date) = '{year}'\n",
    "    GROUP BY Date\n",
    "    \"\"\"\n",
    "    \n",
    "    query_sdt = f\"\"\"\n",
    "    SELECT \n",
    "        Date, \n",
    "        AVG(Avg_Daily_Overall_Cloudiness) AS Avg_Daily_Overall_Cloudiness,\n",
    "        AVG(Avg_Daily_Wind_Speed) AS Avg_Daily_Wind_Speed\n",
    "    FROM WeatherSDT\n",
    "    WHERE strftime('%Y', Date) = '{year}'\n",
    "    GROUP BY Date\n",
    "    \"\"\"\n",
    "    \n",
    "    query_electricity = f\"\"\"\n",
    "    SELECT \n",
    "        DATE(Datetime) AS Date, \n",
    "        AVG(CarbonIntensityDirect) AS CarbonIntensityDirect,\n",
    "        AVG(CarbonIntensityLCA) AS CarbonIntensityLCA,\n",
    "        AVG(LowCarbonPercentage) AS LowCarbonPercentage,\n",
    "        AVG(RenewablePercentage) AS RenewablePercentage\n",
    "    FROM ElectricityData\n",
    "    WHERE strftime('%Y', Datetime) = '{year}'\n",
    "    GROUP BY DATE(Datetime)\n",
    "    \"\"\"\n",
    "\n",
    "    df_sd = pd.read_sql_query(query_sd, conn)\n",
    "    df_sdt = pd.read_sql_query(query_sdt, conn)\n",
    "    df_electricity = pd.read_sql_query(query_electricity, conn)\n",
    "    conn.close()\n",
    "\n",
    "    # Merge the dataframes on the Date column\n",
    "    df_weather = pd.merge(df_sd, df_sdt, on='Date', how='outer')\n",
    "    df_merged = pd.merge(df_weather, df_electricity, on='Date', how='outer')\n",
    "\n",
    "    return df_merged\n",
    "\n",
    "\n",
    "def save_to_csv(df: pd.DataFrame, filename: str, path='data/synop/') -> None:\n",
    "    \"\"\"Save the DataFrame to a CSV file.\"\"\"\n",
    "    df.to_csv(f\"{path}{filename}\", index=False)\n",
    "    print(f\"Data saved to {filename}\")\n",
    "\n",
    "if __name__ == '__main__':\n",
    "    year = 2022\n",
    "    aggregated_data = fetch_data(year)\n",
    "    save_to_csv(aggregated_data, f'aggregated_data_{year}.csv')"
   ]
  },
  {
   "cell_type": "code",
   "execution_count": 29,
   "metadata": {},
   "outputs": [
    {
     "name": "stdout",
     "output_type": "stream",
     "text": [
      "Data saved to aggregated_data_2021.csv\n",
      "Data saved to aggregated_data_2022.csv\n",
      "Data saved to aggregated_data_2023.csv\n",
      "Data saved to aggregated_data.csv\n"
     ]
    }
   ],
   "source": [
    "# iterate over the years and save the data to one csv file\n",
    "import os\n",
    "import pandas as pd\n",
    "\n",
    "DATA_PATH = 'data/synop/'\n",
    "YEARS = [2021, 2022, 2023]\n",
    "\n",
    "def combine_data(years: list, path: str) -> pd.DataFrame:\n",
    "    \"\"\"Combine data from multiple years into a single DataFrame.\"\"\"\n",
    "    dfs = []\n",
    "    for year in years:\n",
    "        filename = f'aggregated_data_{year}.csv'\n",
    "        df = pd.read_csv(os\n",
    "                            .path\n",
    "                            .join(path, filename))\n",
    "        \n",
    "        dfs.append(df)\n",
    "\n",
    "    return pd.concat(dfs, ignore_index=True)\n",
    "\n",
    "if __name__ == '__main__':\n",
    "    # iterate over the years to fetch the data\n",
    "    for year in YEARS:\n",
    "        aggregated_data = fetch_data(year)\n",
    "        save_to_csv(aggregated_data, f'aggregated_data_{year}.csv')\n",
    "    aggregated_data = combine_data(YEARS, DATA_PATH)\n",
    "    save_to_csv(aggregated_data, 'aggregated_data.csv')"
   ]
  }
 ],
 "metadata": {
  "kernelspec": {
   "display_name": "base",
   "language": "python",
   "name": "python3"
  },
  "language_info": {
   "codemirror_mode": {
    "name": "ipython",
    "version": 3
   },
   "file_extension": ".py",
   "mimetype": "text/x-python",
   "name": "python",
   "nbconvert_exporter": "python",
   "pygments_lexer": "ipython3",
   "version": "3.11.5"
  }
 },
 "nbformat": 4,
 "nbformat_minor": 2
}
